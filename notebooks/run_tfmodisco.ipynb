{
 "cells": [
  {
   "cell_type": "code",
   "execution_count": 1,
   "metadata": {},
   "outputs": [],
   "source": [
    "%load_ext autoreload\n",
    "%autoreload 2"
   ]
  },
  {
   "cell_type": "code",
   "execution_count": null,
   "metadata": {},
   "outputs": [],
   "source": [
    "import sys\n",
    "import os\n",
    "sys.path.append(os.path.abspath(\"../src/\"))\n",
    "import feature.util as feature_util\n",
    "import h5py\n",
    "import numpy as np\n",
    "import tqdm\n",
    "from collections import OrderedDict\n",
    "import modisco"
   ]
  },
  {
   "cell_type": "markdown",
   "metadata": {},
   "source": [
    "### Define constants/paths and import SHAP scores"
   ]
  },
  {
   "cell_type": "code",
   "execution_count": null,
   "metadata": {},
   "outputs": [],
   "source": [
    "shap_score_hdf5_path = \"/users/amtseng/tfmodisco/motifs/SPI1/importance_scores.h5\"\n",
    "\n",
    "reference_fasta = \"/users/amtseng/genomes/hg38.fasta\"\n",
    "padded_size = 400  # Length of sequence used in explanation"
   ]
  },
  {
   "cell_type": "code",
   "execution_count": null,
   "metadata": {},
   "outputs": [],
   "source": [
    "score_reader = h5py.File(shap_score_hdf5_path, \"r\")"
   ]
  },
  {
   "cell_type": "markdown",
   "metadata": {},
   "source": [
    "### Create sequence one-hot encoder"
   ]
  },
  {
   "cell_type": "code",
   "execution_count": null,
   "metadata": {},
   "outputs": [],
   "source": [
    "# Maps coordinates to 1-hot encoded sequence\n",
    "coords_to_seq = feature_util.CoordsToSeq(reference_fasta, center_size_to_use=padded_size)"
   ]
  },
  {
   "cell_type": "markdown",
   "metadata": {},
   "source": [
    "### Read in hypothetical importances and compute actual importances\n",
    "Prepare them for passing to TF-MoDISco"
   ]
  },
  {
   "cell_type": "code",
   "execution_count": null,
   "metadata": {},
   "outputs": [],
   "source": [
    "# Get shapes; we'll need to cut off inputs outside the central `padded_size`\n",
    "num_seqs, input_length, _ = score_reader[\"prof_scores\"].shape\n",
    "center_start = (input_length // 2) - (padded_size // 2)\n",
    "center_end = center_start + padded_size"
   ]
  },
  {
   "cell_type": "code",
   "execution_count": null,
   "metadata": {},
   "outputs": [],
   "source": [
    "# Read in hypothetical scores, cutting off everything outside central `padded_size`\n",
    "hyp_scores = np.empty((num_seqs, padded_size, 4), dtype=float)\n",
    "batch_size = 1000\n",
    "num_batches = int(np.ceil(num_seqs / batch_size))\n",
    "for i in tqdm.tqdm_notebook(range(num_batches)):\n",
    "    s, e = i * batch_size, (i + 1) * batch_size\n",
    "    hyp_scores[s : e, :, :] = score_reader[\"prof_scores\"][s : e, center_start : center_end, :]"
   ]
  },
  {
   "cell_type": "code",
   "execution_count": null,
   "metadata": {},
   "outputs": [],
   "source": [
    "# Read in coordinates and compute 1-hot encoding\n",
    "coords = np.empty((num_seqs, 3), dtype=object)\n",
    "coords[:, 0] = score_reader[\"coords_chrom\"][:].astype(str)\n",
    "coords[:, 1] = score_reader[\"coords_start\"][:]\n",
    "coords[:, 2] = score_reader[\"coords_end\"][:]\n",
    "\n",
    "input_seqs = np.empty((num_seqs, padded_size, 4), dtype=float)\n",
    "\n",
    "batch_size = 1000\n",
    "num_batches = int(np.ceil(num_seqs / batch_size))\n",
    "for i in tqdm.tqdm_notebook(range(num_batches)):\n",
    "    s, e = i * batch_size, (i + 1) * batch_size\n",
    "    input_seqs[s : e, :, :] = coords_to_seq(coords[s : e])"
   ]
  },
  {
   "cell_type": "code",
   "execution_count": null,
   "metadata": {},
   "outputs": [],
   "source": [
    "# Compute actual scores\n",
    "act_scores = hyp_scores * input_seqs"
   ]
  },
  {
   "cell_type": "code",
   "execution_count": null,
   "metadata": {},
   "outputs": [],
   "source": [
    "# Prepare inputs\n",
    "inds = np.random.permutation(num_seqs)[:100]"
   ]
  },
  {
   "cell_type": "code",
   "execution_count": null,
   "metadata": {},
   "outputs": [],
   "source": [
    "task_to_hyp_scores, task_to_act_scores = OrderedDict(), OrderedDict()\n",
    "task_to_hyp_scores[\"task0\"] = list(hyp_scores[inds])\n",
    "task_to_act_scores[\"task0\"] = list(act_scores[inds])\n",
    "one_hot = list(input_seqs[inds])"
   ]
  },
  {
   "cell_type": "markdown",
   "metadata": {},
   "source": [
    "### Run TF-MoDISco"
   ]
  },
  {
   "cell_type": "code",
   "execution_count": 12,
   "metadata": {},
   "outputs": [],
   "source": [
    "tfm_workflow = modisco.tfmodisco_workflow.workflow.TfModiscoWorkflow(\n",
    "#     sliding_window_size=15,\n",
    "#     flank_size=5,\n",
    "#     target_seqlet_fdr=0.15,\n",
    "    seqlets_to_patterns_factory=modisco.tfmodisco_workflow.seqlets_to_patterns.TfModiscoSeqletsToPatternsFactory(\n",
    "#         trim_to_window_size=15,\n",
    "#         initial_flank_to_add=5,\n",
    "#         kmer_len=5,\n",
    "#         num_gaps=1,\n",
    "#         num_mismatches=0,\n",
    "#         final_min_cluster_size=60\n",
    "    )\n",
    ")"
   ]
  },
  {
   "cell_type": "code",
   "execution_count": null,
   "metadata": {
    "scrolled": true
   },
   "outputs": [],
   "source": [
    "tfm_results = tfm_workflow(\n",
    "    task_names=[\"task0\"],\n",
    "    contrib_scores=task_to_act_scores,\n",
    "    hypothetical_contribs=task_to_hyp_scores,\n",
    "    one_hot=one_hot\n",
    ")"
   ]
  },
  {
   "cell_type": "markdown",
   "metadata": {},
   "source": [
    "### Use smaller set of score (temporary)"
   ]
  },
  {
   "cell_type": "code",
   "execution_count": 2,
   "metadata": {},
   "outputs": [
    {
     "name": "stderr",
     "output_type": "stream",
     "text": [
      "TF-MoDISco is using the TensorFlow backend.\n",
      "/users/amtseng/miniconda3/envs/tfmodisco-mini/lib/python3.7/site-packages/tensorflow/python/framework/dtypes.py:516: FutureWarning: Passing (type, 1) or '1type' as a synonym of type is deprecated; in a future version of numpy, it will be understood as (type, (1,)) / '(1,)type'.\n",
      "  _np_qint8 = np.dtype([(\"qint8\", np.int8, 1)])\n",
      "/users/amtseng/miniconda3/envs/tfmodisco-mini/lib/python3.7/site-packages/tensorflow/python/framework/dtypes.py:517: FutureWarning: Passing (type, 1) or '1type' as a synonym of type is deprecated; in a future version of numpy, it will be understood as (type, (1,)) / '(1,)type'.\n",
      "  _np_quint8 = np.dtype([(\"quint8\", np.uint8, 1)])\n",
      "/users/amtseng/miniconda3/envs/tfmodisco-mini/lib/python3.7/site-packages/tensorflow/python/framework/dtypes.py:518: FutureWarning: Passing (type, 1) or '1type' as a synonym of type is deprecated; in a future version of numpy, it will be understood as (type, (1,)) / '(1,)type'.\n",
      "  _np_qint16 = np.dtype([(\"qint16\", np.int16, 1)])\n",
      "/users/amtseng/miniconda3/envs/tfmodisco-mini/lib/python3.7/site-packages/tensorflow/python/framework/dtypes.py:519: FutureWarning: Passing (type, 1) or '1type' as a synonym of type is deprecated; in a future version of numpy, it will be understood as (type, (1,)) / '(1,)type'.\n",
      "  _np_quint16 = np.dtype([(\"quint16\", np.uint16, 1)])\n",
      "/users/amtseng/miniconda3/envs/tfmodisco-mini/lib/python3.7/site-packages/tensorflow/python/framework/dtypes.py:520: FutureWarning: Passing (type, 1) or '1type' as a synonym of type is deprecated; in a future version of numpy, it will be understood as (type, (1,)) / '(1,)type'.\n",
      "  _np_qint32 = np.dtype([(\"qint32\", np.int32, 1)])\n",
      "/users/amtseng/miniconda3/envs/tfmodisco-mini/lib/python3.7/site-packages/tensorflow/python/framework/dtypes.py:525: FutureWarning: Passing (type, 1) or '1type' as a synonym of type is deprecated; in a future version of numpy, it will be understood as (type, (1,)) / '(1,)type'.\n",
      "  np_resource = np.dtype([(\"resource\", np.ubyte, 1)])\n",
      "/users/amtseng/miniconda3/envs/tfmodisco-mini/lib/python3.7/site-packages/tensorboard/compat/tensorflow_stub/dtypes.py:541: FutureWarning: Passing (type, 1) or '1type' as a synonym of type is deprecated; in a future version of numpy, it will be understood as (type, (1,)) / '(1,)type'.\n",
      "  _np_qint8 = np.dtype([(\"qint8\", np.int8, 1)])\n",
      "/users/amtseng/miniconda3/envs/tfmodisco-mini/lib/python3.7/site-packages/tensorboard/compat/tensorflow_stub/dtypes.py:542: FutureWarning: Passing (type, 1) or '1type' as a synonym of type is deprecated; in a future version of numpy, it will be understood as (type, (1,)) / '(1,)type'.\n",
      "  _np_quint8 = np.dtype([(\"quint8\", np.uint8, 1)])\n",
      "/users/amtseng/miniconda3/envs/tfmodisco-mini/lib/python3.7/site-packages/tensorboard/compat/tensorflow_stub/dtypes.py:543: FutureWarning: Passing (type, 1) or '1type' as a synonym of type is deprecated; in a future version of numpy, it will be understood as (type, (1,)) / '(1,)type'.\n",
      "  _np_qint16 = np.dtype([(\"qint16\", np.int16, 1)])\n",
      "/users/amtseng/miniconda3/envs/tfmodisco-mini/lib/python3.7/site-packages/tensorboard/compat/tensorflow_stub/dtypes.py:544: FutureWarning: Passing (type, 1) or '1type' as a synonym of type is deprecated; in a future version of numpy, it will be understood as (type, (1,)) / '(1,)type'.\n",
      "  _np_quint16 = np.dtype([(\"quint16\", np.uint16, 1)])\n",
      "/users/amtseng/miniconda3/envs/tfmodisco-mini/lib/python3.7/site-packages/tensorboard/compat/tensorflow_stub/dtypes.py:545: FutureWarning: Passing (type, 1) or '1type' as a synonym of type is deprecated; in a future version of numpy, it will be understood as (type, (1,)) / '(1,)type'.\n",
      "  _np_qint32 = np.dtype([(\"qint32\", np.int32, 1)])\n",
      "/users/amtseng/miniconda3/envs/tfmodisco-mini/lib/python3.7/site-packages/tensorboard/compat/tensorflow_stub/dtypes.py:550: FutureWarning: Passing (type, 1) or '1type' as a synonym of type is deprecated; in a future version of numpy, it will be understood as (type, (1,)) / '(1,)type'.\n",
      "  np_resource = np.dtype([(\"resource\", np.ubyte, 1)])\n"
     ]
    }
   ],
   "source": [
    "import numpy as np\n",
    "import modisco"
   ]
  },
  {
   "cell_type": "code",
   "execution_count": 3,
   "metadata": {},
   "outputs": [],
   "source": [
    "act_scores = np.load(\"/users/amtseng/tfmodisco/motifs/SPI1/mini_100_test/act_scores.npy\")\n",
    "hyp_scores = np.load(\"/users/amtseng/tfmodisco/motifs/SPI1/mini_100_test/hyp_scores.npy\")\n",
    "one_hot = np.load(\"/users/amtseng/tfmodisco/motifs/SPI1/mini_100_test/one_hot.npy\")"
   ]
  },
  {
   "cell_type": "code",
   "execution_count": 4,
   "metadata": {
    "scrolled": true
   },
   "outputs": [
    {
     "name": "stdout",
     "output_type": "stream",
     "text": [
      "MEMORY 0.296378368\n",
      "On task task0\n",
      "Computing windowed sums on original\n",
      "Generating null dist\n",
      "peak(mu)= -0.0004988547114265353\n",
      "Computing threshold\n",
      "Thresholds from null dist were -0.23631814114632732  and  0.260622035205597\n",
      "Final raw thresholds are -0.23631814114632732  and  0.260622035205597\n",
      "Final transformed thresholds are -0.8468134715025907  and  0.8587305699481865\n"
     ]
    },
    {
     "data": {
      "image/png": "[encoded data removed]",
      "text/plain": [
       "<Figure size 432x288 with 1 Axes>"
      ]
     },
     "metadata": {
      "needs_background": "light"
     },
     "output_type": "display_data"
    },
    {
     "name": "stdout",
     "output_type": "stream",
     "text": [
      "Got 459 coords\n",
      "After resolving overlaps, got 459 seqlets\n",
      "Across all tasks, the weakest transformed threshold used was: 0.8468133715025907\n",
      "MEMORY 0.326189056\n",
      "459 identified in total\n",
      "2 activity patterns with support >= 100 out of 3 possible patterns\n",
      "Metacluster sizes:  [352, 107]\n",
      "Idx to activities:  {0: '1', 1: '-1'}\n",
      "MEMORY 0.326295552\n",
      "On metacluster 1\n",
      "Metacluster size 107\n",
      "Relevant tasks:  ('task0',)\n",
      "Relevant signs:  (-1,)\n",
      "WARNING:tensorflow:From /users/amtseng/miniconda3/envs/tfmodisco-mini/lib/python3.7/site-packages/modisco/backend/tensorflow_backend.py:87: The name tf.placeholder is deprecated. Please use tf.compat.v1.placeholder instead.\n",
      "\n",
      "TfModiscoSeqletsToPatternsFactory: seed=1234\n",
      "(Round 1) num seqlets: 107\n",
      "(Round 1) Computing coarse affmat\n",
      "MEMORY 0.328359936\n",
      "Beginning embedding computation\n",
      "Computing embeddings\n",
      "MAKING A SESSION\n",
      "WARNING:tensorflow:From /users/amtseng/miniconda3/envs/tfmodisco-mini/lib/python3.7/site-packages/modisco/backend/tensorflow_backend.py:19: The name tf.Session is deprecated. Please use tf.compat.v1.Session instead.\n",
      "\n",
      "WARNING:tensorflow:From /users/amtseng/miniconda3/envs/tfmodisco-mini/lib/python3.7/site-packages/modisco/backend/tensorflow_backend.py:20: The name tf.global_variables_initializer is deprecated. Please use tf.compat.v1.global_variables_initializer instead.\n",
      "\n",
      "Finished embedding computation in 4.45 s\n",
      "Starting affinity matrix computations\n",
      "Normalization computed in 0.0 s\n",
      "Cosine similarity mat computed in 0.16 s\n",
      "Normalization computed in 0.0 s\n",
      "Cosine similarity mat computed in 0.0 s\n",
      "Finished affinity matrix computations in 0.17 s\n",
      "(Round 1) Compute nearest neighbors from coarse affmat\n",
      "MEMORY 2.148990976\n",
      "Computed nearest neighbors in 0.01 s\n",
      "MEMORY 2.148990976\n",
      "(Round 1) Computing affinity matrix on nearest neighbors\n",
      "MEMORY 2.148990976\n",
      "Launching nearest neighbors affmat calculation job\n",
      "MEMORY 2.148995072\n",
      "Parallel runs completed\n",
      "MEMORY 2.15390208\n",
      "Job completed in: 0.41 s\n",
      "MEMORY 2.15390208\n",
      "Launching nearest neighbors affmat calculation job\n",
      "MEMORY 2.15390208\n",
      "Parallel runs completed\n",
      "MEMORY 2.155155456\n",
      "Job completed in: 0.41 s\n",
      "MEMORY 2.155155456\n",
      "(Round 1) Computed affinity matrix on nearest neighbors in 0.85 s\n",
      "MEMORY 2.155155456\n",
      "Filtered down to 95 of 107\n",
      "(Round 1) Retained 95 rows out of 107 after filtering\n",
      "MEMORY 2.155311104\n",
      "(Round 1) Computing density adapted affmat\n",
      "MEMORY 2.155311104\n",
      "[t-SNE] Computing 31 nearest neighbors...\n",
      "[t-SNE] Indexed 95 samples in 0.000s...\n",
      "[t-SNE] Computed neighbors for 95 samples in 0.001s...\n",
      "[t-SNE] Computed conditional probabilities for sample 95 / 95\n",
      "[t-SNE] Mean sigma: 0.243141\n",
      "(Round 1) Computing clustering\n",
      "MEMORY 2.1556224\n",
      "Beginning preprocessing + Louvain\n",
      "Wrote graph to binary file in 0.010472774505615234 seconds\n",
      "Running Louvain modularity optimization\n"
     ]
    },
    {
     "name": "stderr",
     "output_type": "stream",
     "text": [
      "[Parallel(n_jobs=4)]: Using backend LokyBackend with 4 concurrent workers.\n",
      "[Parallel(n_jobs=4)]: Done  44 tasks      | elapsed:    4.2s\n"
     ]
    },
    {
     "name": "stdout",
     "output_type": "stream",
     "text": [
      "Louvain completed 200 runs in 5.508883237838745 seconds\n"
     ]
    },
    {
     "name": "stderr",
     "output_type": "stream",
     "text": [
      "[Parallel(n_jobs=4)]: Done 200 out of 200 | elapsed:    5.4s finished\n"
     ]
    },
    {
     "name": "stdout",
     "output_type": "stream",
     "text": [
      "Wrote graph to binary file in 0.010200977325439453 seconds\n",
      "Running Louvain modularity optimization\n",
      "After 1 runs, maximum modularity is Q = 0.723574\n",
      "After 26 runs, maximum modularity is Q = 0.7262\n",
      "Louvain completed 76 runs in 11.33963394165039 seconds\n",
      "Preproc + Louvain took 17.048134326934814 s\n",
      "Got 8 clusters after round 1\n",
      "Counts:\n",
      "{1: 17, 2: 16, 7: 3, 5: 8, 6: 4, 4: 14, 0: 19, 3: 14}\n",
      "MEMORY 2.148364288\n",
      "(Round 1) Aggregating seqlets in each cluster\n",
      "MEMORY 2.148364288\n",
      "Aggregating for cluster 0 with 19 seqlets\n",
      "MEMORY 2.148364288\n",
      "Trimmed 0 out of 19\n",
      "Dropping cluster 0 with 19 seqlets due to sign disagreement\n",
      "Aggregating for cluster 1 with 17 seqlets\n",
      "MEMORY 2.14837248\n",
      "Trimmed 0 out of 17\n",
      "Dropping cluster 1 with 17 seqlets due to sign disagreement\n",
      "Aggregating for cluster 2 with 16 seqlets\n",
      "MEMORY 2.14837248\n",
      "Trimmed 0 out of 16\n",
      "Dropping cluster 2 with 16 seqlets due to sign disagreement\n",
      "Aggregating for cluster 3 with 14 seqlets\n",
      "MEMORY 2.14837248\n",
      "Trimmed 0 out of 14\n",
      "Aggregating for cluster 4 with 14 seqlets\n",
      "MEMORY 2.14837248\n",
      "Trimmed 0 out of 14\n",
      "Aggregating for cluster 5 with 8 seqlets\n",
      "MEMORY 2.14837248\n",
      "Trimmed 0 out of 8\n",
      "Aggregating for cluster 6 with 4 seqlets\n",
      "MEMORY 2.14837248\n",
      "Trimmed 0 out of 4\n",
      "Aggregating for cluster 7 with 3 seqlets\n",
      "MEMORY 2.14837248\n",
      "Trimmed 0 out of 3\n",
      "Dropping cluster 7 with 3 seqlets due to sign disagreement\n",
      "(Round 2) num seqlets: 39\n",
      "(Round 2) Computing coarse affmat\n",
      "MEMORY 2.14837248\n",
      "Beginning embedding computation\n",
      "Computing embeddings\n",
      "Finished embedding computation in 0.02 s\n",
      "Starting affinity matrix computations\n",
      "Normalization computed in 0.0 s\n",
      "Cosine similarity mat computed in 0.16 s\n",
      "Normalization computed in 0.0 s\n",
      "Cosine similarity mat computed in 0.0 s\n",
      "Finished affinity matrix computations in 0.16 s\n",
      "(Round 2) Compute nearest neighbors from coarse affmat\n",
      "MEMORY 2.148876288\n",
      "Computed nearest neighbors in 0.0 s\n",
      "MEMORY 2.148876288\n",
      "(Round 2) Computing affinity matrix on nearest neighbors\n",
      "MEMORY 2.148876288\n",
      "Launching nearest neighbors affmat calculation job\n",
      "MEMORY 2.148876288\n",
      "Parallel runs completed\n",
      "MEMORY 2.149654528\n",
      "Job completed in: 0.21 s\n",
      "MEMORY 2.149654528\n",
      "Launching nearest neighbors affmat calculation job\n",
      "MEMORY 2.149654528\n",
      "Parallel runs completed\n",
      "MEMORY 2.150014976\n",
      "Job completed in: 0.21 s\n",
      "MEMORY 2.150014976\n",
      "(Round 2) Computed affinity matrix on nearest neighbors in 0.43 s\n",
      "MEMORY 2.150014976\n",
      "Not applying filtering for rounds above first round\n",
      "MEMORY 2.150014976\n",
      "(Round 2) Computing density adapted affmat\n",
      "MEMORY 2.150014976\n",
      "[t-SNE] Computing 31 nearest neighbors...\n",
      "[t-SNE] Indexed 39 samples in 0.000s...\n",
      "[t-SNE] Computed neighbors for 39 samples in 0.001s...\n",
      "[t-SNE] Computed conditional probabilities for sample 39 / 39\n",
      "[t-SNE] Mean sigma: 0.332915\n",
      "(Round 2) Computing clustering\n",
      "MEMORY 2.150014976\n",
      "Beginning preprocessing + Louvain\n",
      "Wrote graph to binary file in 0.00613713264465332 seconds\n",
      "Running Louvain modularity optimization\n"
     ]
    },
    {
     "name": "stderr",
     "output_type": "stream",
     "text": [
      "[Parallel(n_jobs=4)]: Using backend LokyBackend with 4 concurrent workers.\n"
     ]
    },
    {
     "name": "stdout",
     "output_type": "stream",
     "text": [
      "Louvain completed 200 runs in 2.3969502449035645 seconds\n"
     ]
    },
    {
     "name": "stderr",
     "output_type": "stream",
     "text": [
      "[Parallel(n_jobs=4)]: Done 186 tasks      | elapsed:    1.4s\n",
      "[Parallel(n_jobs=4)]: Done 200 out of 200 | elapsed:    1.5s finished\n"
     ]
    },
    {
     "name": "stdout",
     "output_type": "stream",
     "text": [
      "Wrote graph to binary file in 0.003549337387084961 seconds\n",
      "Running Louvain modularity optimization\n",
      "After 1 runs, maximum modularity is Q = 0.54358\n",
      "Louvain completed 51 runs in 3.632739543914795 seconds\n",
      "Preproc + Louvain took 6.164222955703735 s\n",
      "Got 4 clusters after round 2\n",
      "Counts:\n",
      "{2: 7, 3: 5, 1: 11, 0: 16}\n",
      "MEMORY 2.149777408\n",
      "(Round 2) Aggregating seqlets in each cluster\n",
      "MEMORY 2.149777408\n",
      "Aggregating for cluster 0 with 16 seqlets\n",
      "MEMORY 2.149777408\n",
      "Trimmed 5 out of 16\n",
      "Dropping cluster 0 with 11 seqlets due to sign disagreement\n",
      "Aggregating for cluster 1 with 11 seqlets\n",
      "MEMORY 2.149777408\n",
      "Trimmed 1 out of 11\n",
      "Aggregating for cluster 2 with 7 seqlets\n",
      "MEMORY 2.149777408\n",
      "Trimmed 0 out of 7\n",
      "Aggregating for cluster 3 with 5 seqlets\n",
      "MEMORY 2.149777408\n",
      "Trimmed 0 out of 5\n",
      "Got 3 clusters\n",
      "Splitting into subclusters...\n",
      "MEMORY 2.149777408\n",
      "Merging on 3 clusters\n",
      "MEMORY 2.149777408\n",
      "On merging iteration 1\n",
      "Computing pattern to seqlet distances\n",
      "Computing pattern to pattern distances\n",
      "Got 3 patterns after merging\n",
      "MEMORY 2.149818368\n",
      "Performing seqlet reassignment\n",
      "MEMORY 2.149818368\n",
      "Got 0 patterns after reassignment\n",
      "MEMORY 2.149818368\n",
      "Total time taken is 30.58s\n",
      "MEMORY 2.149818368\n",
      "On metacluster 0\n",
      "Metacluster size 352\n",
      "Relevant tasks:  ('task0',)\n",
      "Relevant signs:  (1,)\n",
      "TfModiscoSeqletsToPatternsFactory: seed=1234\n",
      "(Round 1) num seqlets: 352\n",
      "(Round 1) Computing coarse affmat\n",
      "MEMORY 2.14982656\n",
      "Beginning embedding computation\n",
      "Computing embeddings\n",
      "Finished embedding computation in 0.11 s\n",
      "Starting affinity matrix computations\n",
      "Normalization computed in 0.01 s\n",
      "Cosine similarity mat computed in 0.12 s\n",
      "Normalization computed in 0.0 s\n",
      "Cosine similarity mat computed in 0.01 s\n",
      "Finished affinity matrix computations in 0.14 s\n",
      "(Round 1) Compute nearest neighbors from coarse affmat\n",
      "MEMORY 2.164916224\n",
      "Computed nearest neighbors in 0.02 s\n",
      "MEMORY 2.164916224\n",
      "(Round 1) Computing affinity matrix on nearest neighbors\n",
      "MEMORY 2.164916224\n",
      "Launching nearest neighbors affmat calculation job\n",
      "MEMORY 2.164916224\n",
      "Parallel runs completed\n",
      "MEMORY 2.178936832\n",
      "Job completed in: 2.41 s\n",
      "MEMORY 2.178936832\n",
      "Launching nearest neighbors affmat calculation job\n",
      "MEMORY 2.178936832\n",
      "Parallel runs completed\n",
      "MEMORY 2.186067968\n",
      "Job completed in: 2.41 s\n",
      "MEMORY 2.186072064\n",
      "(Round 1) Computed affinity matrix on nearest neighbors in 4.9 s\n",
      "MEMORY 2.186072064\n",
      "Filtered down to 286 of 352\n",
      "(Round 1) Retained 286 rows out of 352 after filtering\n",
      "MEMORY 2.18607616\n",
      "(Round 1) Computing density adapted affmat\n",
      "MEMORY 2.18607616\n",
      "[t-SNE] Computing 31 nearest neighbors...\n",
      "[t-SNE] Indexed 286 samples in 0.000s...\n",
      "[t-SNE] Computed neighbors for 286 samples in 0.003s...\n",
      "[t-SNE] Computed conditional probabilities for sample 286 / 286\n",
      "[t-SNE] Mean sigma: 0.237113\n",
      "(Round 1) Computing clustering\n",
      "MEMORY 2.18607616\n",
      "Beginning preprocessing + Louvain\n",
      "Wrote graph to binary file in 0.026625394821166992 seconds\n",
      "Running Louvain modularity optimization\n"
     ]
    },
    {
     "name": "stderr",
     "output_type": "stream",
     "text": [
      "[Parallel(n_jobs=4)]: Using backend LokyBackend with 4 concurrent workers.\n",
      "[Parallel(n_jobs=4)]: Done 128 tasks      | elapsed:    1.2s\n"
     ]
    },
    {
     "name": "stdout",
     "output_type": "stream",
     "text": [
      "Louvain completed 200 runs in 2.012941598892212 seconds\n"
     ]
    },
    {
     "name": "stderr",
     "output_type": "stream",
     "text": [
      "[Parallel(n_jobs=4)]: Done 200 out of 200 | elapsed:    1.9s finished\n"
     ]
    },
    {
     "name": "stdout",
     "output_type": "stream",
     "text": [
      "Wrote graph to binary file in 0.06033897399902344 seconds\n",
      "Running Louvain modularity optimization\n",
      "After 1 runs, maximum modularity is Q = 0.519949\n",
      "Louvain completed 51 runs in 5.645232200622559 seconds\n",
      "Preproc + Louvain took 7.8748133182525635 s\n",
      "Got 7 clusters after round 1\n",
      "Counts:\n",
      "{2: 52, 1: 62, 3: 27, 4: 20, 5: 12, 0: 103, 6: 10}\n",
      "MEMORY 2.189078528\n",
      "(Round 1) Aggregating seqlets in each cluster\n",
      "MEMORY 2.189078528\n",
      "Aggregating for cluster 0 with 103 seqlets\n",
      "MEMORY 2.189078528\n",
      "Trimmed 22 out of 103\n",
      "Aggregating for cluster 1 with 62 seqlets\n",
      "MEMORY 2.189078528\n",
      "Trimmed 3 out of 62\n",
      "Skipped 2 seqlets\n",
      "Aggregating for cluster 2 with 52 seqlets\n",
      "MEMORY 2.189078528\n",
      "Trimmed 6 out of 52\n",
      "Aggregating for cluster 3 with 27 seqlets\n",
      "MEMORY 2.189078528\n",
      "Trimmed 0 out of 27\n",
      "Aggregating for cluster 4 with 20 seqlets\n",
      "MEMORY 2.189078528\n",
      "Trimmed 4 out of 20\n",
      "Aggregating for cluster 5 with 12 seqlets\n",
      "MEMORY 2.189078528\n",
      "Trimmed 0 out of 12\n",
      "Aggregating for cluster 6 with 10 seqlets\n",
      "MEMORY 2.189078528\n",
      "Trimmed 0 out of 10\n",
      "Skipped 3 seqlets\n",
      "(Round 2) num seqlets: 235\n",
      "(Round 2) Computing coarse affmat\n",
      "MEMORY 2.189078528\n",
      "Beginning embedding computation\n",
      "Computing embeddings\n",
      "Finished embedding computation in 0.06 s\n",
      "Starting affinity matrix computations\n",
      "Normalization computed in 0.01 s\n",
      "Cosine similarity mat computed in 0.21 s\n",
      "Normalization computed in 0.0 s\n",
      "Cosine similarity mat computed in 0.01 s\n",
      "Finished affinity matrix computations in 0.22 s\n",
      "(Round 2) Compute nearest neighbors from coarse affmat\n",
      "MEMORY 2.189369344\n",
      "Computed nearest neighbors in 0.01 s\n",
      "MEMORY 2.189369344\n",
      "(Round 2) Computing affinity matrix on nearest neighbors\n",
      "MEMORY 2.189369344\n",
      "Launching nearest neighbors affmat calculation job\n",
      "MEMORY 2.189369344\n",
      "Parallel runs completed\n",
      "MEMORY 2.191515648\n",
      "Job completed in: 1.11 s\n",
      "MEMORY 2.191515648\n",
      "Launching nearest neighbors affmat calculation job\n",
      "MEMORY 2.191515648\n",
      "Parallel runs completed\n",
      "MEMORY 2.1935104\n",
      "Job completed in: 1.21 s\n",
      "MEMORY 2.1935104\n",
      "(Round 2) Computed affinity matrix on nearest neighbors in 2.36 s\n",
      "MEMORY 2.1935104\n",
      "Not applying filtering for rounds above first round\n",
      "MEMORY 2.1935104\n",
      "(Round 2) Computing density adapted affmat\n",
      "MEMORY 2.1935104\n",
      "[t-SNE] Computing 31 nearest neighbors...\n",
      "[t-SNE] Indexed 235 samples in 0.000s...\n",
      "[t-SNE] Computed neighbors for 235 samples in 0.003s...\n",
      "[t-SNE] Computed conditional probabilities for sample 235 / 235\n",
      "[t-SNE] Mean sigma: 0.251011\n",
      "(Round 2) Computing clustering\n",
      "MEMORY 2.1935104\n",
      "Beginning preprocessing + Louvain\n",
      "Wrote graph to binary file in 0.022760868072509766 seconds\n",
      "Running Louvain modularity optimization\n"
     ]
    },
    {
     "name": "stderr",
     "output_type": "stream",
     "text": [
      "[Parallel(n_jobs=4)]: Using backend LokyBackend with 4 concurrent workers.\n",
      "[Parallel(n_jobs=4)]: Done 128 tasks      | elapsed:    1.2s\n"
     ]
    },
    {
     "name": "stdout",
     "output_type": "stream",
     "text": [
      "Louvain completed 200 runs in 1.8999526500701904 seconds\n"
     ]
    },
    {
     "name": "stderr",
     "output_type": "stream",
     "text": [
      "[Parallel(n_jobs=4)]: Done 200 out of 200 | elapsed:    1.8s finished\n"
     ]
    },
    {
     "name": "stdout",
     "output_type": "stream",
     "text": [
      "Wrote graph to binary file in 0.030300378799438477 seconds\n",
      "Running Louvain modularity optimization\n",
      "After 1 runs, maximum modularity is Q = 0.659586\n",
      "After 2 runs, maximum modularity is Q = 0.679295\n",
      "Louvain completed 52 runs in 5.059961557388306 seconds\n",
      "Preproc + Louvain took 7.1474645137786865 s\n",
      "Got 9 clusters after round 2\n",
      "Counts:\n",
      "{6: 10, 7: 8, 2: 34, 0: 62, 1: 35, 3: 33, 5: 18, 4: 28, 8: 7}\n",
      "MEMORY 2.193248256\n",
      "(Round 2) Aggregating seqlets in each cluster\n",
      "MEMORY 2.193248256\n",
      "Aggregating for cluster 0 with 62 seqlets\n",
      "MEMORY 2.193248256\n",
      "Trimmed 2 out of 62\n",
      "Aggregating for cluster 1 with 35 seqlets\n",
      "MEMORY 2.193248256\n",
      "Trimmed 8 out of 35\n",
      "Aggregating for cluster 2 with 34 seqlets\n",
      "MEMORY 2.193248256\n",
      "Trimmed 5 out of 34\n",
      "Aggregating for cluster 3 with 33 seqlets\n",
      "MEMORY 2.193248256\n",
      "Trimmed 4 out of 33\n",
      "Aggregating for cluster 4 with 28 seqlets\n",
      "MEMORY 2.193248256\n",
      "Trimmed 2 out of 28\n",
      "Aggregating for cluster 5 with 18 seqlets\n",
      "MEMORY 2.193248256\n",
      "Trimmed 0 out of 18\n",
      "Aggregating for cluster 6 with 10 seqlets\n",
      "MEMORY 2.193248256\n",
      "Trimmed 0 out of 10\n",
      "Aggregating for cluster 7 with 8 seqlets\n",
      "MEMORY 2.193248256\n",
      "Trimmed 0 out of 8\n",
      "Aggregating for cluster 8 with 7 seqlets\n",
      "MEMORY 2.193248256\n",
      "Trimmed 0 out of 7\n",
      "Got 9 clusters\n",
      "Splitting into subclusters...\n",
      "MEMORY 2.193248256\n",
      "Inspecting for spurious merging\n",
      "Wrote graph to binary file in 0.008445024490356445 seconds\n",
      "Running Louvain modularity optimization\n",
      "After 1 runs, maximum modularity is Q = -0.0119437\n",
      "After 4 runs, maximum modularity is Q = 0.00569475\n",
      "After 9 runs, maximum modularity is Q = 0.00569794\n",
      "Louvain completed 29 runs in 1.950549602508545 seconds\n",
      "Similarity is 0.4387625819270081; is_dissimilar is True\n",
      "Got 2 subclusters\n",
      "Merging on 10 clusters\n",
      "MEMORY 2.193248256\n",
      "On merging iteration 1\n",
      "Computing pattern to seqlet distances\n",
      "Computing pattern to pattern distances\n",
      "Collapsing 5 & 7 with prob 0.0002883465237327694 and sim 0.983480890485085\n",
      "Collapsing 5 & 8 with prob 2.6506694976138626e-05 and sim 0.9717769748409593\n",
      "Collapsing 7 & 8 with prob 1.3105470015237367e-05 and sim 0.9715616487151261\n",
      "Collapsing 5 & 6 with prob 6.604775536001907e-05 and sim 0.9615630741780782\n",
      "Collapsing 2 & 5 with prob 0.000684394048617385 and sim 0.9482697519520994\n",
      "Collapsing 4 & 5 with prob 0.00036492580692969976 and sim 0.9417878982030063\n",
      "Collapsing 4 & 6 with prob 1.5568731643122214e-05 and sim 0.9411915480206733\n",
      "Collapsing 2 & 6 with prob 7.690740298335452e-05 and sim 0.9321633247664748\n",
      "Collapsing 2 & 4 with prob 7.157508256869402e-05 and sim 0.9151483374668129\n",
      "Collapsing 3 & 4 with prob 2.2848969746903352e-05 and sim 0.9115046145733282\n",
      "Aborting collapse as 2 & 3 have prob 3.927400208080764e-06 and sim 0.816491456693149\n",
      "Collapsing 3 & 5 with prob 3.27808497061617e-05 and sim 0.9104943749485354\n",
      "Aborting collapse as 2 & 3 have prob 3.927400208080764e-06 and sim 0.816491456693149\n",
      "Collapsing 3 & 6 with prob 1.420481255559865e-05 and sim 0.896799846759221\n",
      "Aborting collapse as 2 & 3 have prob 3.927400208080764e-06 and sim 0.816491456693149\n",
      "Trimmed 0 out of 32\n",
      "Trimmed 1 out of 34\n",
      "Trimmed 0 out of 48\n",
      "Trimmed 0 out of 73\n",
      "Trimmed 0 out of 101\n",
      "On merging iteration 2\n",
      "Computing pattern to seqlet distances\n",
      "Computing pattern to pattern distances\n",
      "Collapsing 0 & 2 with prob 0.0002160759723587513 and sim 0.9232711416342827\n",
      "Trimmed 0 out of 126\n",
      "On merging iteration 3\n",
      "Computing pattern to seqlet distances\n",
      "Computing pattern to pattern distances\n",
      "Got 4 patterns after merging\n",
      "MEMORY 2.19377664\n",
      "Performing seqlet reassignment\n",
      "MEMORY 2.19377664\n",
      "Cross contin jaccard time taken: 0.03 s\n",
      "Cross contin jaccard time taken: 0.02 s\n",
      "Discarded 62 seqlets\n",
      "Got 1 patterns after reassignment\n",
      "MEMORY 2.194075648\n",
      "Total time taken is 32.03s\n",
      "MEMORY 2.194075648\n"
     ]
    }
   ],
   "source": [
    "null_per_pos_scores = modisco.coordproducers.LaplaceNullDist(num_to_samp=5000)\n",
    "tfmodisco_results = modisco.tfmodisco_workflow.workflow.TfModiscoWorkflow(\n",
    "                    #Slight modifications from the default settings\n",
    "                    sliding_window_size=15,\n",
    "                    flank_size=5,\n",
    "                    target_seqlet_fdr=0.15,\n",
    "                    seqlets_to_patterns_factory=\n",
    "                     modisco.tfmodisco_workflow.seqlets_to_patterns.TfModiscoSeqletsToPatternsFactory(\n",
    "                        trim_to_window_size=15,\n",
    "                        initial_flank_to_add=5,\n",
    "                        kmer_len=5, num_gaps=1,\n",
    "                        num_mismatches=0,\n",
    "                        final_min_cluster_size=60)\n",
    "                )(\n",
    "                 task_names=[\"task0\"],\n",
    "                 contrib_scores={\"task0\": act_scores},\n",
    "                 hypothetical_contribs={\"task0\": hyp_scores},\n",
    "                 one_hot=one_hot,\n",
    "                 null_per_pos_scores = null_per_pos_scores)"
   ]
  },
  {
   "cell_type": "code",
   "execution_count": 6,
   "metadata": {},
   "outputs": [
    {
     "name": "stdout",
     "output_type": "stream",
     "text": [
      "metacluster_idx 1\n",
      "metacluster_idx 0\n",
      "Pattern number 0\n"
     ]
    },
    {
     "data": {
      "image/png": "[encoded data removed]",
      "text/plain": [
       "<Figure size 1440x144 with 1 Axes>"
      ]
     },
     "metadata": {
      "needs_background": "light"
     },
     "output_type": "display_data"
    },
    {
     "data": {
      "image/png": "[encoded data removed]",
      "text/plain": [
       "<Figure size 1440x144 with 1 Axes>"
      ]
     },
     "metadata": {
      "needs_background": "light"
     },
     "output_type": "display_data"
    }
   ],
   "source": [
    "from modisco.visualization import viz_sequence\n",
    "\n",
    "for metacluster_idx in tfmodisco_results.metacluster_idx_to_submetacluster_results.keys():\n",
    "    print(\"metacluster_idx\",metacluster_idx)\n",
    "    submetacluster_results = tfmodisco_results.metacluster_idx_to_submetacluster_results[metacluster_idx]\n",
    "    patterns = submetacluster_results.seqlets_to_patterns_result.patterns\n",
    "    for idx,pattern in enumerate(patterns):\n",
    "        print(\"Pattern number\",idx)\n",
    "        viz_sequence.plot_weights(pattern[\"task0_contrib_scores\"].fwd)\n",
    "        viz_sequence.plot_weights(pattern[\"task0_hypothetical_contribs\"].fwd)"
   ]
  }
 ],
 "metadata": {
  "kernelspec": {
   "display_name": "Python 3",
   "language": "python",
   "name": "python3"
  },
  "language_info": {
   "codemirror_mode": {
    "name": "ipython",
    "version": 3
   },
   "file_extension": ".py",
   "mimetype": "text/x-python",
   "name": "python",
   "nbconvert_exporter": "python",
   "pygments_lexer": "ipython3",
   "version": "3.7.5"
  }
 },
 "nbformat": 4,
 "nbformat_minor": 2
}
