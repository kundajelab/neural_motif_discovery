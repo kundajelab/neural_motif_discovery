{
 "cells": [
  {
   "cell_type": "markdown",
   "metadata": {},
   "source": [
    "### Link to results\n",
    "\n",
    "**DiChIPMunk**: [on peaks](#dichip-peaks) and [on multi-task seqlets](#dichip-multi-seqlets) and [on single-task seqlets](#dichip-single-seqlets)\n",
    "\n",
    "**HOMER**: [on peaks](#homer-peaks) and [on multi-task seqlets](#homer-multi-seqlets) and [on single-task seqlets](#homer-single-seqlets)\n",
    "\n",
    "**MEME**: [on peaks](#meme-peaks) and [on multitask seqlets](#meme-multi-seqlets) and [on single-task seqlets](#meme-single-seqlets)"
   ]
  },
  {
   "cell_type": "code",
   "execution_count": null,
   "metadata": {},
   "outputs": [],
   "source": [
    "import sys\n",
    "import os\n",
    "sys.path.append(os.path.abspath(\"/users/amtseng/tfmodisco/src/\"))\n",
    "from util import figure_to_vdom_image\n",
    "import motif.read_motifs as read_motifs\n",
    "from motif.read_motifs import pfm_to_pwm\n",
    "import plot.viz_sequence as viz_sequence\n",
    "import numpy as np\n",
    "import matplotlib.pyplot as plt\n",
    "import vdom.helpers as vdomh\n",
    "from IPython.display import display"
   ]
  },
  {
   "cell_type": "code",
   "execution_count": null,
   "metadata": {},
   "outputs": [],
   "source": [
    "# Define parameters/fetch arguments\n",
    "tf_name = os.environ[\"TFM_TF_NAME\"]\n",
    "multitask_fold = int(os.environ[\"TFM_MULTITASK_FOLD\"])\n",
    "\n",
    "if \"TFM_TASK_INDEX\" in os.environ:\n",
    "    task_index = int(os.environ[\"TFM_TASK_INDEX\"])\n",
    "    singletask_fold = int(os.environ[\"TFM_SINGLETASK_FOLD\"])\n",
    "else:\n",
    "    task_index = None\n",
    "    singletask_fold = None\n",
    "    \n",
    "print(\"TF name: %s\" % tf_name)\n",
    "print(\"Multi-task fold: %s\" % multitask_fold)\n",
    "print(\"Task index: %s\" % task_index)\n",
    "print(\"Single-task fold: %s\" % singletask_fold)"
   ]
  },
  {
   "cell_type": "code",
   "execution_count": null,
   "metadata": {},
   "outputs": [],
   "source": [
    "# Define paths and constants\n",
    "base_path = \"/users/amtseng/tfmodisco/results/classic_motifs/\"\n",
    "\n",
    "multitask_seqlets_dir = os.path.join(\n",
    "    base_path, \"seqlets\", \"multitask_profile_finetune\",\n",
    "    \"%s_multitask_profile_finetune_fold%s\" % (tf_name, multitask_fold)\n",
    ")\n",
    "\n",
    "if task_index is None:\n",
    "    peaks_path = os.path.join(base_path, \"peaks\", tf_name, \"%s_peaks_taskall\" % tf_name)\n",
    "    multitask_profile_seqlets_path = os.path.join(\n",
    "        multitask_seqlets_dir,\n",
    "        \"%s_seqlets_profile_taskall\" % tf_name\n",
    "    )\n",
    "    multitask_count_seqlets_path = os.path.join(\n",
    "        multitask_seqlets_dir,\n",
    "        \"%s_seqlets_count_taskall\" % tf_name\n",
    "    )\n",
    "else:\n",
    "    peaks_path = os.path.join(base_path, \"peaks\", tf_name, \"%s_peaks_task%d\" % (tf_name, task_index))\n",
    "    multitask_profile_seqlets_path = os.path.join(\n",
    "        multitask_seqlets_dir,\n",
    "        \"%s_seqlets_profile_task%d\" % (tf_name, task_index)\n",
    "    )\n",
    "    multitask_count_seqlets_path = os.path.join(\n",
    "        multitask_seqlets_dir,\n",
    "        \"%s_seqlets_count_task%d\" % (tf_name, task_index)\n",
    "    )\n",
    "    \n",
    "    singletask_seqlets_dir = os.path.join(\n",
    "        base_path, \"seqlets\", \"singletask_profile_finetune\",\n",
    "        \"%s_singletask_profile_finetune_fold%s\" % (tf_name, singletask_fold),\n",
    "        \"task_%d\" % task_index\n",
    "    )\n",
    "    singletask_profile_seqlets_path = os.path.join(\n",
    "        singletask_seqlets_dir,\n",
    "        \"%s_seqlets_profile_task%d\" % (tf_name, task_index)\n",
    "    )\n",
    "    singletask_count_seqlets_path = os.path.join(\n",
    "        singletask_seqlets_dir,\n",
    "        \"%s_seqlets_count_task%d\" % (tf_name, task_index)\n",
    "    )"
   ]
  },
  {
   "cell_type": "markdown",
   "metadata": {},
   "source": [
    "### Helper functions"
   ]
  },
  {
   "cell_type": "code",
   "execution_count": null,
   "metadata": {},
   "outputs": [],
   "source": [
    "def show_peaks_motif_table(results_path, mode):\n",
    "    \"\"\"\n",
    "    Shows a table of motifs from the given results path.\n",
    "    `mode` is either `dichipmunk`, `homer`, `meme`, or `memechip`.\n",
    "    \"\"\"\n",
    "    assert mode in (\"dichipmunk\", \"homer\", \"meme\", \"memechip\")\n",
    "    if mode == \"dichipmunk\":\n",
    "        score_name = \"Supporting sequences\"\n",
    "        pfms, score_vals = read_motifs.import_dichipmunk_pfms(results_path)\n",
    "    elif mode == \"homer\":\n",
    "        score_name = \"Log enrichment\"\n",
    "        pfms, score_vals = read_motifs.import_homer_pfms(results_path)\n",
    "    elif mode == \"meme\":\n",
    "        score_name = \"E-value\"\n",
    "        pfms, score_vals = read_motifs.import_meme_pfms(results_path)\n",
    "    else:\n",
    "        score_name = \"E-value\"\n",
    "        pfms, score_vals = read_motifs.import_meme_pfms(\n",
    "            os.path.join(results_path, \"meme_out\")\n",
    "        )\n",
    "        \n",
    "    colgroup = vdomh.colgroup(\n",
    "        vdomh.col(style={\"width\": \"5%\"}),\n",
    "        vdomh.col(style={\"width\": \"5%\"}),\n",
    "        vdomh.col(style={\"width\": \"40%\"})\n",
    "    )\n",
    "    header = vdomh.thead(\n",
    "        vdomh.tr(\n",
    "            vdomh.th(\"Motif\", style={\"text-align\": \"center\"}),\n",
    "            vdomh.th(score_name, style={\"text-align\": \"center\"}),\n",
    "            vdomh.th(\"PWM\", style={\"text-align\": \"center\"})\n",
    "        )\n",
    "    )\n",
    "\n",
    "    body = []\n",
    "    for i, pfm in enumerate(pfms):\n",
    "        pwm = pfm_to_pwm(pfm)\n",
    "        if np.sum(pwm[:, [0, 2]]) < 0.5 * np.sum(pwm):\n",
    "            # Flip to purine-rich version\n",
    "            pwm = np.flip(pwm, axis=(0, 1))\n",
    "        fig = viz_sequence.plot_weights(pwm, figsize=(20, 4), return_fig=True)\n",
    "        fig.tight_layout()\n",
    "\n",
    "        body.append(\n",
    "            vdomh.tr(\n",
    "                vdomh.td(str(i + 1)),\n",
    "                vdomh.td(str(score_vals[i])),\n",
    "                vdomh.td(figure_to_vdom_image(fig))\n",
    "            )\n",
    "        )\n",
    "\n",
    "    display(vdomh.table(colgroup, header, vdomh.tbody(*body)))\n",
    "    plt.close(\"all\")"
   ]
  },
  {
   "cell_type": "code",
   "execution_count": null,
   "metadata": {},
   "outputs": [],
   "source": [
    "def show_seqlets_motif_table(profile_results_path, count_results_path, mode):\n",
    "    \"\"\"\n",
    "    Shows a table of motifs from the given results path.\n",
    "    `mode` is either `dichipmunk`, `homer`, `meme`, or `memechip`\n",
    "    \"\"\"\n",
    "    assert mode in (\"dichipmunk\", \"homer\", \"meme\", \"memechip\")\n",
    "    if mode == \"dichipmunk\":\n",
    "        score_name = \"Supporting sequences\"\n",
    "        p_pfms, p_score_vals = read_motifs.import_dichipmunk_pfms(profile_results_path)\n",
    "        c_pfms, c_score_vals = read_motifs.import_dichipmunk_pfms(count_results_path)\n",
    "    elif mode == \"homer\":\n",
    "        score_name = \"Log enrichment\"\n",
    "        p_pfms, p_score_vals = read_motifs.import_homer_pfms(profile_results_path)\n",
    "        c_pfms, c_score_vals = read_motifs.import_homer_pfms(count_results_path)\n",
    "    elif mode == \"meme\":\n",
    "        score_name = \"E-value\"\n",
    "        p_pfms, p_score_vals = read_motifs.import_meme_pfms(profile_results_path)\n",
    "        c_pfms, c_score_vals = read_motifs.import_meme_pfms(count_results_path)\n",
    "    else:\n",
    "        score_name = \"E-value\"\n",
    "        p_pfms, p_score_vals = read_motifs.import_meme_pfms(\n",
    "            os.path.join(profile_results_path, \"meme_out\")\n",
    "        )\n",
    "        c_pfms, c_score_vals = read_motifs.import_meme_pfms(\n",
    "            os.path.join(count_results_path, \"meme_out\")\n",
    "        )\n",
    "        \n",
    "    colgroup = vdomh.colgroup(\n",
    "        vdomh.col(style={\"width\": \"5%\"}),\n",
    "        vdomh.col(style={\"width\": \"5%\"}),\n",
    "        vdomh.col(style={\"width\": \"40%\"}),\n",
    "        vdomh.col(style={\"width\": \"5%\"}),\n",
    "        vdomh.col(style={\"width\": \"40%\"})\n",
    "    )\n",
    "    header = vdomh.thead(\n",
    "        vdomh.tr(\n",
    "            vdomh.th(\"Motif\", style={\"text-align\": \"center\"}),\n",
    "            vdomh.th(score_name + \" (profile)\", style={\"text-align\": \"center\"}),\n",
    "            vdomh.th(\"PWM (profile)\", style={\"text-align\": \"center\"}),\n",
    "            vdomh.th(score_name + \" (count)\", style={\"text-align\": \"center\"}),\n",
    "            vdomh.th(\"PWM (count)\", style={\"text-align\": \"center\"})\n",
    "        )\n",
    "    )\n",
    "\n",
    "    body = []\n",
    "    for i in range(max(len(p_pfms), len(c_pfms))):\n",
    "        rows = [vdomh.td(str(i + 1))]\n",
    "        if i < len(p_pfms):\n",
    "            pwm = pfm_to_pwm(p_pfms[i])\n",
    "            if np.sum(pwm[:, [0, 2]]) < 0.5 * np.sum(pwm):\n",
    "                # Flip to purine-rich version\n",
    "                pwm = np.flip(pwm, axis=(0, 1))\n",
    "            fig = viz_sequence.plot_weights(pwm, figsize=(20, 4), return_fig=True)\n",
    "            fig.tight_layout()\n",
    "            rows.extend([\n",
    "                vdomh.td(str(p_score_vals[i])),\n",
    "                vdomh.td(figure_to_vdom_image(fig))\n",
    "            ])\n",
    "        else:\n",
    "            rows.extend([vdomh.td(), vdomh.td()])\n",
    "            \n",
    "        if i < len(c_pfms):\n",
    "            pwm = pfm_to_pwm(c_pfms[i])\n",
    "            if np.sum(pwm[:, [0, 2]]) < 0.5 * np.sum(pwm):\n",
    "                # Flip to purine-rich version\n",
    "                pwm = np.flip(pwm, axis=(0, 1))\n",
    "            fig = viz_sequence.plot_weights(pwm, figsize=(20, 4), return_fig=True)\n",
    "            fig.tight_layout()\n",
    "            rows.extend([\n",
    "                vdomh.td(str(c_score_vals[i])),\n",
    "                vdomh.td(figure_to_vdom_image(fig))\n",
    "            ])\n",
    "        else:\n",
    "            rows.extend([vdomh.td(), vdomh.td()])\n",
    "            \n",
    "\n",
    "        body.append(vdomh.tr(*rows))\n",
    "\n",
    "    display(vdomh.table(colgroup, header, vdomh.tbody(*body)))\n",
    "    plt.close(\"all\")"
   ]
  },
  {
   "cell_type": "markdown",
   "metadata": {},
   "source": [
    "### Show benchmark motifs"
   ]
  },
  {
   "cell_type": "markdown",
   "metadata": {},
   "source": [
    "<a id=\"dichip-peaks\"></a>\n",
    "**DiChIPMunk on peaks**"
   ]
  },
  {
   "cell_type": "code",
   "execution_count": null,
   "metadata": {
    "scrolled": false
   },
   "outputs": [],
   "source": [
    "show_peaks_motif_table(os.path.join(peaks_path, \"dichipmunk\"), \"dichipmunk\")"
   ]
  },
  {
   "cell_type": "markdown",
   "metadata": {},
   "source": [
    "<a id=\"dichip-multi-seqlets\"></a>\n",
    "**DiChIPMunk on multi-task seqlets**"
   ]
  },
  {
   "cell_type": "code",
   "execution_count": null,
   "metadata": {
    "scrolled": false
   },
   "outputs": [],
   "source": [
    "show_seqlets_motif_table(\n",
    "    os.path.join(multitask_profile_seqlets_path, \"dichipmunk\"),\n",
    "    os.path.join(multitask_count_seqlets_path, \"dichipmunk\"),\n",
    "    \"dichipmunk\"\n",
    ")"
   ]
  },
  {
   "cell_type": "markdown",
   "metadata": {},
   "source": [
    "<a id=\"dichip-single-seqlets\"></a>\n",
    "**DiChIPMunk on single-task seqlets**"
   ]
  },
  {
   "cell_type": "code",
   "execution_count": null,
   "metadata": {
    "scrolled": false
   },
   "outputs": [],
   "source": [
    "if task_index is not None:\n",
    "    show_seqlets_motif_table(\n",
    "        os.path.join(singletask_profile_seqlets_path, \"dichipmunk\"),\n",
    "        os.path.join(singletask_count_seqlets_path, \"dichipmunk\"),\n",
    "        \"dichipmunk\"\n",
    "    )"
   ]
  },
  {
   "cell_type": "markdown",
   "metadata": {},
   "source": [
    "<a id=\"homer-peaks\"></a>\n",
    "**HOMER on peaks**"
   ]
  },
  {
   "cell_type": "code",
   "execution_count": null,
   "metadata": {
    "scrolled": false
   },
   "outputs": [],
   "source": [
    "show_peaks_motif_table(os.path.join(peaks_path, \"homer\"), \"homer\")"
   ]
  },
  {
   "cell_type": "markdown",
   "metadata": {},
   "source": [
    "<a id=\"homer-multi-seqlets\"></a>\n",
    "**HOMER on multi-task seqlets**"
   ]
  },
  {
   "cell_type": "code",
   "execution_count": null,
   "metadata": {
    "scrolled": false
   },
   "outputs": [],
   "source": [
    "show_seqlets_motif_table(\n",
    "    os.path.join(multitask_profile_seqlets_path, \"homer\"),\n",
    "    os.path.join(multitask_count_seqlets_path, \"homer\"),\n",
    "    \"homer\"\n",
    ")"
   ]
  },
  {
   "cell_type": "markdown",
   "metadata": {},
   "source": [
    "<a id=\"homer-single-seqlets\"></a>\n",
    "**HOMER on single-task seqlets**"
   ]
  },
  {
   "cell_type": "code",
   "execution_count": null,
   "metadata": {
    "scrolled": false
   },
   "outputs": [],
   "source": [
    "if task_index is not None:\n",
    "    show_seqlets_motif_table(\n",
    "        os.path.join(singletask_profile_seqlets_path, \"homer\"),\n",
    "        os.path.join(singletask_count_seqlets_path, \"homer\"),\n",
    "        \"homer\"\n",
    "    )"
   ]
  },
  {
   "cell_type": "markdown",
   "metadata": {},
   "source": [
    "<a id=\"meme-peaks\"></a>\n",
    "**MEMEChIP on peaks**"
   ]
  },
  {
   "cell_type": "code",
   "execution_count": null,
   "metadata": {
    "scrolled": false
   },
   "outputs": [],
   "source": [
    "show_peaks_motif_table(os.path.join(peaks_path, \"memechip\"), \"memechip\")"
   ]
  },
  {
   "cell_type": "markdown",
   "metadata": {},
   "source": [
    "<a id=\"meme-multi-seqlets\"></a>\n",
    "**MEME on multi-task seqlets**"
   ]
  },
  {
   "cell_type": "code",
   "execution_count": null,
   "metadata": {
    "scrolled": false
   },
   "outputs": [],
   "source": [
    "show_seqlets_motif_table(\n",
    "    os.path.join(multitask_profile_seqlets_path, \"meme\"),\n",
    "    os.path.join(multitask_count_seqlets_path, \"meme\"),\n",
    "    \"meme\"\n",
    ")"
   ]
  },
  {
   "cell_type": "markdown",
   "metadata": {},
   "source": [
    "<a id=\"meme-single-seqlets\"></a>\n",
    "**MEME on single-task seqlets**"
   ]
  },
  {
   "cell_type": "code",
   "execution_count": null,
   "metadata": {
    "scrolled": false
   },
   "outputs": [],
   "source": [
    "if task_index is not None:\n",
    "    show_seqlets_motif_table(\n",
    "        os.path.join(singletask_profile_seqlets_path, \"meme\"),\n",
    "        os.path.join(singletask_count_seqlets_path, \"meme\"),\n",
    "        \"meme\"\n",
    "    )"
   ]
  }
 ],
 "metadata": {
  "kernelspec": {
   "display_name": "Python 3",
   "language": "python",
   "name": "python3"
  },
  "language_info": {
   "codemirror_mode": {
    "name": "ipython",
    "version": 3
   },
   "file_extension": ".py",
   "mimetype": "text/x-python",
   "name": "python",
   "nbconvert_exporter": "python",
   "pygments_lexer": "ipython3",
   "version": "3.7.11"
  }
 },
 "nbformat": 4,
 "nbformat_minor": 2
}
