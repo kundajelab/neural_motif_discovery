{
 "cells": [
  {
   "cell_type": "markdown",
   "metadata": {},
   "source": [
    "### Link to results\n",
    "\n",
    "**DiChIPMunk**: [on peaks](#dichip-peaks) and [on multi-task seqlets](#dichip-multi-seqlets) and [on single-task seqlets](#dichip-single-seqlets)\n",
    "\n",
    "**HOMER**: [on peaks](#homer-peaks) and [on multi-task seqlets](#homer-multi-seqlets) and [on single-task seqlets](#homer-single-seqlets)\n",
    "\n",
    "**MEME**: [on peaks](#meme-peaks) and [on multitask seqlets](#meme-multi-seqlets) and [on single-task seqlets](#meme-single-seqlets)"
   ]
  },
  {
   "cell_type": "code",
   "execution_count": null,
   "metadata": {},
   "outputs": [],
   "source": [
    "import sys\n",
    "import os\n",
    "sys.path.append(os.path.abspath(\"/users/amtseng/tfmodisco/src/\"))\n",
    "import numpy as np\n",
    "import h5py\n",
    "import matplotlib.pyplot as plt\n",
    "import motif.read_motifs as read_motifs\n",
    "import motif.match_motifs as match_motifs\n",
    "from util import figure_to_vdom_image\n",
    "import plot.viz_sequence as viz_sequence\n",
    "import vdom.helpers as vdomh\n",
    "from IPython.display import display"
   ]
  },
  {
   "cell_type": "code",
   "execution_count": null,
   "metadata": {},
   "outputs": [],
   "source": [
    "# Define parameters/fetch arguments\n",
    "tf_name = os.environ[\"TFM_TF_NAME\"]\n",
    "multitask_fold = int(os.environ[\"TFM_MULTITASK_FOLD\"])\n",
    "head = os.environ[\"TFM_HEAD\"]\n",
    "assert head in (\"profile\", \"count\")\n",
    "if \"TFM_TASK_INDEX\" in os.environ:\n",
    "    task_index = int(os.environ[\"TFM_TASK_INDEX\"])\n",
    "    singletask_fold = int(os.environ[\"TFM_SINGLETASK_FOLD\"])\n",
    "else:\n",
    "    task_index = None\n",
    "    singletask_fold = None\n",
    "motif_file = os.environ[\"TFM_MOTIF_FILE\"]  # TF-MoDISco motifs\n",
    "    \n",
    "print(\"TF name: %s\" % tf_name)\n",
    "print(\"Multi-task fold: %s\" % multitask_fold)\n",
    "print(\"Head: %s\" % head)\n",
    "print(\"Task index: %s\" % task_index)\n",
    "print(\"Single-task fold: %s\" % singletask_fold)\n",
    "print(\"TF-MoDISco motif file: %s\" % motif_file)"
   ]
  },
  {
   "cell_type": "code",
   "execution_count": null,
   "metadata": {},
   "outputs": [],
   "source": [
    "# Define paths and constants\n",
    "base_path = \"/users/amtseng/tfmodisco/results/classic_motifs/\"\n",
    "\n",
    "multitask_seqlets_dir = os.path.join(\n",
    "    base_path, \"seqlets\", \"multitask_profile_finetune\",\n",
    "    \"%s_multitask_profile_finetune_fold%s\" % (tf_name, multitask_fold)\n",
    ")\n",
    "\n",
    "if task_index is None:\n",
    "    peaks_path = os.path.join(base_path, \"peaks\", tf_name, \"%s_peaks_taskall\" % tf_name)\n",
    "    multitask_seqlets_path = os.path.join(\n",
    "        multitask_seqlets_dir,\n",
    "        \"%s_seqlets_%s_taskall\" % (tf_name, head)\n",
    "    )\n",
    "else:\n",
    "    peaks_path = os.path.join(base_path, \"peaks\", tf_name, \"%s_peaks_task%d\" % (tf_name, task_index))\n",
    "    multitask_seqlets_path = os.path.join(\n",
    "        multitask_seqlets_dir,\n",
    "        \"%s_seqlets_%s_task%d\" % (tf_name, head, task_index)\n",
    "    )\n",
    "    \n",
    "    singletask_seqlets_dir = os.path.join(\n",
    "        base_path, \"seqlets\", \"singletask_profile_finetune\",\n",
    "        \"%s_singletask_profile_finetune_fold%s\" % (tf_name, singletask_fold),\n",
    "        \"task_%d\" % task_index\n",
    "    )\n",
    "    singletask_seqlets_path = os.path.join(\n",
    "        singletask_seqlets_dir,\n",
    "        \"%s_seqlets_%s_task%d\" % (tf_name, head, task_index)\n",
    "    )"
   ]
  },
  {
   "cell_type": "markdown",
   "metadata": {},
   "source": [
    "### Helper functions"
   ]
  },
  {
   "cell_type": "code",
   "execution_count": null,
   "metadata": {},
   "outputs": [],
   "source": [
    "def import_tfmodisco_motifs(motif_file):\n",
    "    \"\"\"\n",
    "    Imports a set of motifs from the saved HDF5.\n",
    "    Returns a list of motifs as L x 4 arrays, and a parallel list of\n",
    "    motif names.\n",
    "    \"\"\"\n",
    "    motifs, motif_names = [], []\n",
    "    with h5py.File(motif_file, \"r\") as f:\n",
    "        for key in f.keys():\n",
    "            motif_names.append(key)\n",
    "            motifs.append(f[key][\"pfm_trimmed\"][:])\n",
    "    return motifs, motif_names"
   ]
  },
  {
   "cell_type": "code",
   "execution_count": null,
   "metadata": {},
   "outputs": [],
   "source": [
    "def pfm_to_forward_pwm(pfm):\n",
    "    \"\"\"\n",
    "    Converts PFM to PWM and flips to purine-rich orientation.\n",
    "    \"\"\"\n",
    "    pwm = read_motifs.pfm_to_pwm(pfm)\n",
    "    if np.sum(pwm[:, [0, 2]]) < 0.5 * np.sum(pwm):\n",
    "        # Flip to purine-rich version\n",
    "        pwm = np.flip(pwm, axis=(0, 1))\n",
    "    return pwm"
   ]
  },
  {
   "cell_type": "code",
   "execution_count": null,
   "metadata": {},
   "outputs": [],
   "source": [
    "def show_matched_motifs_table(\n",
    "    tfm_motifs, tfm_names, bench_type, bench_motifs, bench_scores, matches\n",
    "):\n",
    "    \"\"\"\n",
    "    Shows a table of motifs from the given matched results.\n",
    "    `bench_type` is either `dichipmunk`, `homer`, or `meme`.\n",
    "    `matches` is NumPy array parallel to `bench_motifs`, where\n",
    "    each entry is the index of the match in `tfm_motifs`, and -1\n",
    "    if no match was found.\n",
    "    \"\"\"\n",
    "    assert len(matches) == len(bench_motifs)\n",
    "    assert bench_type in (\"dichipmunk\", \"homer\", \"meme\")\n",
    "    if bench_type == \"dichipmunk\":\n",
    "        score_name = \"Supporting sequences\"\n",
    "        bench_name = \"DiChIPMunk\"\n",
    "    elif bench_type == \"homer\":\n",
    "        score_name = \"Log enrichment\"\n",
    "        bench_name = \"HOMER\"\n",
    "    else:\n",
    "        score_name = \"E-value\"\n",
    "        bench_name = \"MEME\"\n",
    "        \n",
    "    colgroup = vdomh.colgroup(\n",
    "        vdomh.col(style={\"width\": \"5%\"}),\n",
    "        vdomh.col(style={\"width\": \"45%\"}),\n",
    "        vdomh.col(style={\"width\": \"5%\"}),\n",
    "        vdomh.col(style={\"width\": \"45%\"})\n",
    "    )\n",
    "    header = vdomh.thead(\n",
    "        vdomh.tr(\n",
    "            vdomh.th(\"TF-MoDISco motif ID\", style={\"text-align\": \"center\"}),\n",
    "            vdomh.th(\"TF-MoDISco PWM\", style={\"text-align\": \"center\"}),\n",
    "            vdomh.th(score_name, style={\"text-align\": \"center\"}),\n",
    "            vdomh.th(\"%s PWM\" % bench_name, style={\"text-align\": \"center\"})\n",
    "        )\n",
    "    )\n",
    "    \n",
    "    # First, show a table of matches\n",
    "    display(vdomh.p(\"Matched motifs\"))\n",
    "\n",
    "    body = []\n",
    "    for bench_index, tfm_index in enumerate(matches):\n",
    "        if tfm_index == -1:\n",
    "            continue\n",
    "        tfm_fig = viz_sequence.plot_weights(\n",
    "            pfm_to_forward_pwm(tfm_motifs[tfm_index]), figsize=(20, 4), return_fig=True\n",
    "        )\n",
    "        tfm_fig.tight_layout()\n",
    "        bench_fig = viz_sequence.plot_weights(\n",
    "            pfm_to_forward_pwm(bench_motifs[bench_index]), figsize=(20, 4), return_fig=True\n",
    "        )\n",
    "        bench_fig.tight_layout()\n",
    "        \n",
    "        body.append(\n",
    "            vdomh.tr(\n",
    "                vdomh.td(str(tfm_names[tfm_index])),\n",
    "                vdomh.td(figure_to_vdom_image(tfm_fig)),\n",
    "                vdomh.td(str(bench_scores[bench_index])),\n",
    "                vdomh.td(figure_to_vdom_image(bench_fig))\n",
    "            )\n",
    "        )\n",
    "\n",
    "    display(vdomh.table(colgroup, header, vdomh.tbody(*body)))\n",
    "    plt.close(\"all\")\n",
    "    \n",
    "    # Now, show a table of leftovers\n",
    "    display(vdomh.p(\"Motifs without matches\"))\n",
    "    \n",
    "    tfm_lone_indices = np.setdiff1d(np.arange(len(tfm_motifs)), matches)\n",
    "    bench_lone_indices = np.where(matches == -1)[0]\n",
    "\n",
    "    rows = []\n",
    "    for i in range(max(len(tfm_lone_indices), len(bench_lone_indices))):\n",
    "        row = []\n",
    "        if i < len(tfm_lone_indices):\n",
    "            tfm_fig = viz_sequence.plot_weights(\n",
    "                pfm_to_forward_pwm(tfm_motifs[tfm_lone_indices[i]]), figsize=(20, 4), return_fig=True\n",
    "            )\n",
    "            tfm_fig.tight_layout()\n",
    "            row.extend([\n",
    "                vdomh.td(str(tfm_names[tfm_lone_indices[i]])),\n",
    "                vdomh.td(figure_to_vdom_image(tfm_fig))\n",
    "            ])\n",
    "        else:\n",
    "            row.extend([vdomh.td(), vdomh.td()])\n",
    "        if i < len(bench_lone_indices):\n",
    "            bench_fig = viz_sequence.plot_weights(\n",
    "                pfm_to_forward_pwm(bench_motifs[bench_lone_indices[i]]), figsize=(20, 4), return_fig=True\n",
    "            )\n",
    "            bench_fig.tight_layout()\n",
    "            row.extend([\n",
    "                vdomh.td(str(bench_scores[bench_lone_indices[i]])),\n",
    "                vdomh.td(figure_to_vdom_image(bench_fig))\n",
    "            ])\n",
    "        else:\n",
    "            row.extend([vdomh.td(), vdomh.td()])\n",
    "        rows.append(row)\n",
    "    body = [vdomh.tr(*row) for row in rows]\n",
    "\n",
    "    display(vdomh.table(colgroup, header, vdomh.tbody(*body)))\n",
    "    plt.close(\"all\")"
   ]
  },
  {
   "cell_type": "markdown",
   "metadata": {},
   "source": [
    "### Import motifs"
   ]
  },
  {
   "cell_type": "code",
   "execution_count": null,
   "metadata": {},
   "outputs": [],
   "source": [
    "tfm_pfms, tfm_names = import_tfmodisco_motifs(motif_file)"
   ]
  },
  {
   "cell_type": "code",
   "execution_count": null,
   "metadata": {},
   "outputs": [],
   "source": [
    "dichipmunk_peak_pfms, dichipmunk_peak_num_seqs = read_motifs.import_dichipmunk_pfms(\n",
    "    os.path.join(peaks_path, \"dichipmunk\")\n",
    ")\n",
    "dichipmunk_multitask_seqlet_pfms, dichipmunk_multitask_seqlet_num_seqs = read_motifs.import_dichipmunk_pfms(\n",
    "    os.path.join(multitask_seqlets_path, \"dichipmunk\")\n",
    ")\n",
    "\n",
    "homer_peak_pfms, homer_peak_enrichments = read_motifs.import_homer_pfms(\n",
    "    os.path.join(peaks_path, \"homer\")\n",
    ")\n",
    "homer_multitask_seqlet_pfms, homer_multitask_seqlet_enrichments = read_motifs.import_homer_pfms(\n",
    "    os.path.join(multitask_seqlets_path, \"homer\")\n",
    ")\n",
    "\n",
    "meme_peak_pfms, meme_peak_evalues = read_motifs.import_meme_pfms(\n",
    "    os.path.join(peaks_path, \"meme\")\n",
    ")\n",
    "meme_multitask_seqlet_pfms, meme_multitask_seqlet_evalues = read_motifs.import_meme_pfms(\n",
    "    os.path.join(multitask_seqlets_path, \"meme\")\n",
    ")\n",
    "\n",
    "if task_index is not None:\n",
    "    dichipmunk_singletask_seqlet_pfms, dichipmunk_singletask_seqlet_num_seqs = read_motifs.import_dichipmunk_pfms(\n",
    "        os.path.join(singletask_seqlets_path, \"dichipmunk\")\n",
    "    )\n",
    "    homer_singletask_seqlet_pfms, homer_singletask_seqlet_enrichments = read_motifs.import_homer_pfms(\n",
    "        os.path.join(singletask_seqlets_path, \"homer\")\n",
    "    )\n",
    "    meme_singletask_seqlet_pfms, meme_singletask_seqlet_evalues = read_motifs.import_meme_pfms(\n",
    "        os.path.join(singletask_seqlets_path, \"meme\")\n",
    "    )"
   ]
  },
  {
   "cell_type": "markdown",
   "metadata": {},
   "source": [
    "<a id=\"results\"></a>\n",
    "### Match benchmarked motifs to TF-MoDISco motifs"
   ]
  },
  {
   "cell_type": "markdown",
   "metadata": {},
   "source": [
    "<a id=\"dichip-peaks\"></a>\n",
    "**DiChIPMunk on peaks**"
   ]
  },
  {
   "cell_type": "code",
   "execution_count": null,
   "metadata": {
    "scrolled": false
   },
   "outputs": [],
   "source": [
    "dichipmunk_peak_matches = match_motifs.match_motifs_to_targets(dichipmunk_peak_pfms, tfm_pfms)\n",
    "show_matched_motifs_table(\n",
    "    tfm_pfms, tfm_names, \"dichipmunk\", dichipmunk_peak_pfms, dichipmunk_peak_num_seqs,\n",
    "    dichipmunk_peak_matches\n",
    ")"
   ]
  },
  {
   "cell_type": "markdown",
   "metadata": {},
   "source": [
    "<a id=\"dichip-multi-seqlets\"></a>\n",
    "**DiChIPMunk on multi-task seqlets**"
   ]
  },
  {
   "cell_type": "code",
   "execution_count": null,
   "metadata": {},
   "outputs": [],
   "source": [
    "dichipmunk_multitask_seqlet_matches = match_motifs.match_motifs_to_targets(dichipmunk_multitask_seqlet_pfms, tfm_pfms)\n",
    "show_matched_motifs_table(\n",
    "    tfm_pfms, tfm_names, \"dichipmunk\", dichipmunk_multitask_seqlet_pfms, dichipmunk_multitask_seqlet_num_seqs,\n",
    "    dichipmunk_multitask_seqlet_matches\n",
    ")"
   ]
  },
  {
   "cell_type": "markdown",
   "metadata": {},
   "source": [
    "<a id=\"dichip-single-seqlets\"></a>\n",
    "**DiChIPMunk on single-task seqlets**"
   ]
  },
  {
   "cell_type": "code",
   "execution_count": null,
   "metadata": {},
   "outputs": [],
   "source": [
    "if task_index is not None:\n",
    "    dichipmunk_singletask_seqlet_matches = match_motifs.match_motifs_to_targets(dichipmunk_singletask_seqlet_pfms, tfm_pfms)\n",
    "    show_matched_motifs_table(\n",
    "        tfm_pfms, tfm_names, \"dichipmunk\", dichipmunk_singletask_seqlet_pfms, dichipmunk_singletask_seqlet_num_seqs,\n",
    "        dichipmunk_singletask_seqlet_matches\n",
    "    )"
   ]
  },
  {
   "cell_type": "markdown",
   "metadata": {},
   "source": [
    "<a id=\"homer-peaks\"></a>\n",
    "**HOMER on peaks**"
   ]
  },
  {
   "cell_type": "code",
   "execution_count": null,
   "metadata": {},
   "outputs": [],
   "source": [
    "homer_peak_matches = match_motifs.match_motifs_to_targets(homer_peak_pfms, tfm_pfms)\n",
    "show_matched_motifs_table(\n",
    "    tfm_pfms, tfm_names, \"homer\", homer_peak_pfms, homer_peak_enrichments,\n",
    "    homer_peak_matches\n",
    ")"
   ]
  },
  {
   "cell_type": "markdown",
   "metadata": {},
   "source": [
    "<a id=\"homer-multi-seqlets\"></a>\n",
    "**HOMER on multi-task seqlets**"
   ]
  },
  {
   "cell_type": "code",
   "execution_count": null,
   "metadata": {},
   "outputs": [],
   "source": [
    "homer_multitask_seqlet_matches = match_motifs.match_motifs_to_targets(homer_multitask_seqlet_pfms, tfm_pfms)\n",
    "show_matched_motifs_table(\n",
    "    tfm_pfms, tfm_names, \"homer\", homer_multitask_seqlet_pfms, homer_multitask_seqlet_enrichments,\n",
    "    homer_multitask_seqlet_matches\n",
    ")"
   ]
  },
  {
   "cell_type": "markdown",
   "metadata": {},
   "source": [
    "<a id=\"homer-single-seqlets\"></a>\n",
    "**HOMER on single-task seqlets**"
   ]
  },
  {
   "cell_type": "code",
   "execution_count": null,
   "metadata": {},
   "outputs": [],
   "source": [
    "if task_index is not None:\n",
    "    homer_singletask_seqlet_matches = match_motifs.match_motifs_to_targets(homer_singletask_seqlet_pfms, tfm_pfms)\n",
    "    show_matched_motifs_table(\n",
    "        tfm_pfms, tfm_names, \"homer\", homer_singletask_seqlet_pfms, homer_singletask_seqlet_enrichments,\n",
    "        homer_singletask_seqlet_matches\n",
    "    )"
   ]
  },
  {
   "cell_type": "markdown",
   "metadata": {},
   "source": [
    "<a id=\"meme-peaks\"></a>\n",
    "**MEME on peaks**"
   ]
  },
  {
   "cell_type": "code",
   "execution_count": null,
   "metadata": {},
   "outputs": [],
   "source": [
    "meme_peak_matches = match_motifs.match_motifs_to_targets(meme_peak_pfms, tfm_pfms)\n",
    "show_matched_motifs_table(\n",
    "    tfm_pfms, tfm_names, \"meme\", meme_peak_pfms, meme_peak_evalues,\n",
    "    meme_peak_matches\n",
    ")"
   ]
  },
  {
   "cell_type": "markdown",
   "metadata": {},
   "source": [
    "<a id=\"meme-multi-seqlets\"></a>\n",
    "**MEME on multi-task seqlets**"
   ]
  },
  {
   "cell_type": "code",
   "execution_count": null,
   "metadata": {},
   "outputs": [],
   "source": [
    "meme_multitask_seqlet_matches = match_motifs.match_motifs_to_targets(meme_multitask_seqlet_pfms, tfm_pfms)\n",
    "show_matched_motifs_table(\n",
    "    tfm_pfms, tfm_names, \"meme\", meme_multitask_seqlet_pfms, meme_multitask_seqlet_evalues,\n",
    "    meme_multitask_seqlet_matches\n",
    ")"
   ]
  },
  {
   "cell_type": "markdown",
   "metadata": {},
   "source": [
    "<a id=\"meme-single-seqlets\"></a>\n",
    "**MEME on single-task seqlets**"
   ]
  },
  {
   "cell_type": "code",
   "execution_count": null,
   "metadata": {},
   "outputs": [],
   "source": [
    "if task_index is not None:\n",
    "    meme_singletask_seqlet_matches = match_motifs.match_motifs_to_targets(meme_singletask_seqlet_pfms, tfm_pfms)\n",
    "    show_matched_motifs_table(\n",
    "        tfm_pfms, tfm_names, \"meme\", meme_singletask_seqlet_pfms, meme_singletask_seqlet_evalues,\n",
    "        meme_singletask_seqlet_matches\n",
    "    )"
   ]
  }
 ],
 "metadata": {
  "kernelspec": {
   "display_name": "Python 3",
   "language": "python",
   "name": "python3"
  },
  "language_info": {
   "codemirror_mode": {
    "name": "ipython",
    "version": 3
   },
   "file_extension": ".py",
   "mimetype": "text/x-python",
   "name": "python",
   "nbconvert_exporter": "python",
   "pygments_lexer": "ipython3",
   "version": "3.7.7"
  }
 },
 "nbformat": 4,
 "nbformat_minor": 2
}
