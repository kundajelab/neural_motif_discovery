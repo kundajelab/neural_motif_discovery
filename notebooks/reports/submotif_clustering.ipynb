{
 "cells": [
  {
   "cell_type": "markdown",
   "metadata": {},
   "source": [
    "### Link to results\n",
    "[Results](#results)"
   ]
  },
  {
   "cell_type": "code",
   "execution_count": null,
   "metadata": {},
   "outputs": [],
   "source": [
    "import os\n",
    "import sys\n",
    "sys.path.append(os.path.abspath(\"/users/amtseng/tfmodisco/src/\"))\n",
    "from tfmodisco.run_tfmodisco import import_shap_scores, import_tfmodisco_results\n",
    "from motif.read_motifs import trim_motif_by_ic\n",
    "import plot.viz_sequence as viz_sequence\n",
    "from util import figure_to_vdom_image\n",
    "import h5py\n",
    "import numpy as np\n",
    "import modisco\n",
    "import matplotlib.pyplot as plt\n",
    "import matplotlib.font_manager as font_manager\n",
    "import vdom.helpers as vdomh\n",
    "from IPython.display import display"
   ]
  },
  {
   "cell_type": "code",
   "execution_count": null,
   "metadata": {},
   "outputs": [],
   "source": [
    "# Plotting defaults\n",
    "font_manager.fontManager.ttflist.extend(\n",
    "    font_manager.createFontList(\n",
    "        font_manager.findSystemFonts(fontpaths=\"/users/amtseng/modules/fonts\")\n",
    "    )\n",
    ")\n",
    "plot_params = {\n",
    "    \"figure.titlesize\": 22,\n",
    "    \"axes.titlesize\": 22,\n",
    "    \"axes.labelsize\": 20,\n",
    "    \"legend.fontsize\": 18,\n",
    "    \"xtick.labelsize\": 16,\n",
    "    \"ytick.labelsize\": 16,\n",
    "    \"font.family\": \"Roboto\",\n",
    "    \"font.weight\": \"bold\"\n",
    "}\n",
    "plt.rcParams.update(plot_params)"
   ]
  },
  {
   "cell_type": "markdown",
   "metadata": {},
   "source": [
    "### Define constants and paths"
   ]
  },
  {
   "cell_type": "code",
   "execution_count": null,
   "metadata": {},
   "outputs": [],
   "source": [
    "# Define parameters/fetch arguments\n",
    "tfm_results_path = os.environ[\"TFM_TFM_PATH\"]\n",
    "shap_scores_path = os.environ[\"TFM_SHAP_PATH\"]\n",
    "hyp_score_key = os.environ[\"TFM_HYP_SCORE_KEY\"]\n",
    "if \"TFM_CLUSTER_CACHE\" in os.environ:\n",
    "    cluster_cache_dir = os.environ[\"TFM_CLUSTER_CACHE\"]\n",
    "else:\n",
    "    cluster_cache_dir = None\n",
    "\n",
    "print(\"TF-MoDISco results path: %s\" % tfm_results_path)\n",
    "print(\"DeepSHAP scores path: %s\" % shap_scores_path)\n",
    "print(\"Importance score key: %s\" % hyp_score_key)\n",
    "print(\"Saved clusters cache: %s\" % cluster_cache_dir)"
   ]
  },
  {
   "cell_type": "code",
   "execution_count": null,
   "metadata": {},
   "outputs": [],
   "source": [
    "# Define constants\n",
    "shap_score_center_size = 400"
   ]
  },
  {
   "cell_type": "code",
   "execution_count": null,
   "metadata": {},
   "outputs": [],
   "source": [
    "if cluster_cache_dir:\n",
    "    os.makedirs(cluster_cache_dir, exist_ok=True)"
   ]
  },
  {
   "cell_type": "markdown",
   "metadata": {},
   "source": [
    "### Helper functions\n",
    "For plotting and organizing things"
   ]
  },
  {
   "cell_type": "code",
   "execution_count": null,
   "metadata": {},
   "outputs": [],
   "source": [
    "def check_tfmodisco_motif_subcluster(tfm_results):\n",
    "    \"\"\"\n",
    "    From an imported TF-MoDISco results object, returns whether or not\n",
    "    the results contain the subclustering of each motif/pattern.\n",
    "    \"\"\"\n",
    "    metaclusters = tfm_results.metacluster_idx_to_submetacluster_results\n",
    "    # Take an arbitrary metacluster\n",
    "    metacluster = next(iter(metaclusters.values()))\n",
    "    \n",
    "    patterns = metacluster.seqlets_to_patterns_result.patterns\n",
    "    # Take an arbitrary pattern\n",
    "    pattern = patterns[0]\n",
    "    return pattern.subclusters is not None"
   ]
  },
  {
   "cell_type": "code",
   "execution_count": null,
   "metadata": {},
   "outputs": [],
   "source": [
    "def compute_tfmodisco_motif_subclusters(tfm_results):\n",
    "    \"\"\"\n",
    "    From an imported TF-MoDISco results object, computes the subclustering\n",
    "    of heterogeneity within each motif/pattern.\n",
    "    \"\"\"\n",
    "    metaclusters = tfm_results.metacluster_idx_to_submetacluster_results\n",
    "    num_metaclusters = len(metaclusters.keys())\n",
    "    for metacluster_i, metacluster_key in enumerate(metaclusters.keys()):\n",
    "        metacluster = metaclusters[metacluster_key]\n",
    "        patterns = metacluster.seqlets_to_patterns_result.patterns\n",
    "        if not patterns:\n",
    "            break\n",
    "        num_patterns = len(patterns)\n",
    "        for pattern_i, pattern in enumerate(patterns):\n",
    "            # Compute subclustering for each pattern (motif)\n",
    "            pattern.compute_subclusters_and_embedding(\n",
    "                pattern_comparison_settings=modisco.affinitymat.core.PatternComparisonSettings(\n",
    "                    track_names=[\"task0_hypothetical_contribs\", \"task0_contrib_scores\"],\n",
    "                    track_transformer=modisco.affinitymat.L1Normalizer(),\n",
    "                    min_overlap=None  # This argument is irrelevant here\n",
    "                ),\n",
    "                perplexity=30, n_jobs=4, verbose=True\n",
    "            )"
   ]
  },
  {
   "cell_type": "code",
   "execution_count": null,
   "metadata": {},
   "outputs": [],
   "source": [
    "def plot_motif_heterogeneity(tfm_results, save_dir=None):\n",
    "    \"\"\"\n",
    "    Plots subclusters of motifs. If `save_dir` is provided, saves the\n",
    "    results and figures there.\n",
    "    \"\"\"\n",
    "    colgroup = vdomh.colgroup(\n",
    "        vdomh.col(style={\"width\": \"5%\"}),\n",
    "        vdomh.col(style={\"width\": \"5%\"}),\n",
    "        vdomh.col(style={\"width\": \"50%\"}),\n",
    "        vdomh.col(style={\"width\": \"40%\"})\n",
    "    )\n",
    "    header = vdomh.thead(\n",
    "        vdomh.tr(\n",
    "            vdomh.th(\"Subpattern\", style={\"text-align\": \"center\"}),\n",
    "            vdomh.th(\"Seqlets\", style={\"text-align\": \"center\"}),\n",
    "            vdomh.th(\"Embeddings\", style={\"text-align\": \"center\"}),\n",
    "            vdomh.th(\"hCWM\", style={\"text-align\": \"center\"})\n",
    "        )\n",
    "    )\n",
    "    \n",
    "    if save_dir:\n",
    "        motif_hdf5 = h5py.File(os.path.join(save_dir, \"all_motif_subclusters.h5\"), \"w\")\n",
    "        \n",
    "    metaclusters = tfm_results.metacluster_idx_to_submetacluster_results\n",
    "    num_metaclusters = len(metaclusters.keys())\n",
    "    for metacluster_i, metacluster_key in enumerate(metaclusters.keys()):\n",
    "        metacluster = metaclusters[metacluster_key]\n",
    "        display(vdomh.h3(\"Metacluster %d/%d\" % (metacluster_i + 1, num_metaclusters)))\n",
    "        patterns = metacluster.seqlets_to_patterns_result.patterns\n",
    "        if not patterns:\n",
    "            break\n",
    "        num_patterns = len(patterns)\n",
    "        for pattern_i, pattern in enumerate(patterns):\n",
    "            display(vdomh.h4(\"Pattern %d/%d\" % (pattern_i + 1, num_patterns)))\n",
    "\n",
    "            embedding = pattern.twod_embedding\n",
    "            subpattern_clusters = pattern.subclusters\n",
    "\n",
    "            # Aggregate motif\n",
    "            pfm = pattern[\"sequence\"].fwd\n",
    "            hcwm = pattern[\"task0_hypothetical_contribs\"].fwd\n",
    "            trimmed_hcwm = trim_motif_by_ic(pfm, hcwm, pad=4)\n",
    "            hcwm_fig = viz_sequence.plot_weights(\n",
    "                trimmed_hcwm, subticks_frequency=(len(trimmed_hcwm) + 1), return_fig=True\n",
    "            )\n",
    "            emb_fig, ax = plt.subplots()\n",
    "            ax.scatter(\n",
    "                embedding[:,0], embedding[:,1], c=subpattern_clusters, cmap=\"tab20\", alpha=0.3\n",
    "            )\n",
    "\n",
    "            table_rows = [vdomh.tr(\n",
    "                vdomh.td(\"Agg.\"),\n",
    "                vdomh.td(str(len(pattern.seqlets))),\n",
    "                vdomh.td(figure_to_vdom_image(emb_fig)),\n",
    "                vdomh.td(figure_to_vdom_image(hcwm_fig))\n",
    "            )]\n",
    "            \n",
    "            if save_dir:\n",
    "                # Save aggregate embedding plot\n",
    "                motif_id = \"%d_%d\" % (metacluster_i, pattern_i)\n",
    "                emb_fig.savefig(os.path.join(save_dir, motif_id + \"_subcluster_agg.png\"))\n",
    "                \n",
    "                # Create dictionaries for subclusters\n",
    "                sc_emb_figs, sc_hcwm_figs, sc_motifs = {}, {}, {}\n",
    "\n",
    "            for subpattern_key, subpattern in pattern.subcluster_to_subpattern.items():\n",
    "                pfm = subpattern[\"sequence\"].fwd\n",
    "                cwm = subpattern[\"task0_contrib_scores\"].fwd\n",
    "                hcwm = subpattern[\"task0_hypothetical_contribs\"].fwd\n",
    "                trimmed_hcwm = trim_motif_by_ic(pfm, hcwm, pad=4)\n",
    "                hcwm_fig = viz_sequence.plot_weights(\n",
    "                    trimmed_hcwm, subticks_frequency=(len(trimmed_hcwm) + 1), return_fig=True\n",
    "                )\n",
    "                emb_fig, ax = plt.subplots()\n",
    "                ax.scatter(\n",
    "                    embedding[:,0], embedding[:,1], c=(subpattern_clusters == subpattern_key), alpha=0.3\n",
    "                )\n",
    "\n",
    "                table_rows.append(vdomh.tr(\n",
    "                    vdomh.td(str(subpattern_key)),\n",
    "                    vdomh.td(str(len(subpattern.seqlets))),\n",
    "                    vdomh.td(figure_to_vdom_image(emb_fig)),\n",
    "                    vdomh.td(figure_to_vdom_image(hcwm_fig))\n",
    "                ))\n",
    "                \n",
    "                if save_dir:\n",
    "                    sc_emb_figs[subpattern_key] = emb_fig\n",
    "                    sc_hcwm_figs[subpattern_key] = hcwm_fig\n",
    "                    sc_motifs[subpattern_key] = (pfm, cwm, hcwm, trimmed_hcwm)\n",
    "                \n",
    "            if save_dir:\n",
    "                # Save embedding plots, hCWM figure, and motifs\n",
    "                for sc_key, emb_fig in sc_emb_figs.items():\n",
    "                    emb_fig.savefig(os.path.join(save_dir, motif_id + (\"_subcluster_%s.png\" % sc_key)))\n",
    "                for sc_key, hcwm_fig in sc_hcwm_figs.items():\n",
    "                    hcwm_fig.savefig(os.path.join(save_dir, motif_id + (\"_subcluster_%s_hcwm_trimmed.png\" % sc_key)))\n",
    "\n",
    "                motif_dset = motif_hdf5.create_group(motif_id)\n",
    "                motif_dset.create_dataset(\"embeddings\", data=embedding, compression=\"gzip\")\n",
    "                motif_dset.create_dataset(\"clusters\", data=subpattern_clusters, compression=\"gzip\")\n",
    "                \n",
    "                for sc_key, (pfm, cwm, hcwm, trimmed_hcwm) in sc_motifs.items():\n",
    "                    sc_dset = motif_dset.create_group(\"subcluster_%s\" % sc_key)\n",
    "                    sc_dset.create_dataset(\"pfm_full\", data=pfm, compression=\"gzip\")\n",
    "                    sc_dset.create_dataset(\"hcwm_full\", data=hcwm, compression=\"gzip\")\n",
    "                    sc_dset.create_dataset(\"cwm_full\", data=cwm, compression=\"gzip\")\n",
    "                    sc_dset.create_dataset(\"hcwm_trimmed\", data=trimmed_hcwm, compression=\"gzip\")\n",
    "\n",
    "            table = vdomh.table(header, vdomh.tbody(*table_rows))\n",
    "            display(table)\n",
    "            plt.close(\"all\")  # Remove all standing figures"
   ]
  },
  {
   "cell_type": "markdown",
   "metadata": {},
   "source": [
    "### Import TF-MoDISco results\n",
    "Run motif subclustering"
   ]
  },
  {
   "cell_type": "code",
   "execution_count": null,
   "metadata": {},
   "outputs": [],
   "source": [
    "# Import SHAP coordinates and one-hot sequences\n",
    "hyp_scores, _, one_hot_seqs, shap_coords = import_shap_scores(\n",
    "    shap_scores_path, hyp_score_key, center_cut_size=shap_score_center_size, remove_non_acgt=True\n",
    ")\n",
    "# This cuts the sequences/scores off just as how TF-MoDISco saw them, but the coordinates are uncut"
   ]
  },
  {
   "cell_type": "code",
   "execution_count": null,
   "metadata": {},
   "outputs": [],
   "source": [
    "# Import the TF-MoDISco results object\n",
    "tfm_obj = import_tfmodisco_results(tfm_results_path, hyp_scores, one_hot_seqs, shap_score_center_size)"
   ]
  },
  {
   "cell_type": "code",
   "execution_count": null,
   "metadata": {
    "scrolled": true
   },
   "outputs": [],
   "source": [
    "# Compute subclusters (needed for older versions of TF-MoDISco); this takes awhile!\n",
    "if not check_tfmodisco_motif_subcluster(tfm_obj):\n",
    "    compute_tfmodisco_motif_subclusters(tfm_obj)"
   ]
  },
  {
   "cell_type": "markdown",
   "metadata": {},
   "source": [
    "<a id=\"results\"></a>\n",
    "### Within-motif heterogeneity\n",
    "For each motif, show the subclusters that exist within the TF-MoDISco-identified subpatterns"
   ]
  },
  {
   "cell_type": "code",
   "execution_count": null,
   "metadata": {
    "scrolled": false
   },
   "outputs": [],
   "source": [
    "plot_motif_heterogeneity(tfm_obj, cluster_cache_dir)"
   ]
  }
 ],
 "metadata": {
  "kernelspec": {
   "display_name": "Python 3",
   "language": "python",
   "name": "python3"
  },
  "language_info": {
   "codemirror_mode": {
    "name": "ipython",
    "version": 3
   },
   "file_extension": ".py",
   "mimetype": "text/x-python",
   "name": "python",
   "nbconvert_exporter": "python",
   "pygments_lexer": "ipython3",
   "version": "3.7.11"
  }
 },
 "nbformat": 4,
 "nbformat_minor": 4
}
