{
 "cells": [
  {
   "cell_type": "code",
   "execution_count": null,
   "metadata": {},
   "outputs": [],
   "source": [
    "%%capture --no-display\n",
    "import sys\n",
    "import os\n",
    "sys.path.append(os.path.abspath(\"/users/amtseng/tfmodisco/src/\"))\n",
    "import motif_bench.read_motifs as read_motifs\n",
    "import modisco\n",
    "from modisco.visualization import viz_sequence\n",
    "import numpy as np"
   ]
  },
  {
   "cell_type": "code",
   "execution_count": null,
   "metadata": {},
   "outputs": [],
   "source": [
    "# Define parameters/fetch arguments\n",
    "tf_name = os.environ[\"TFM_RESULTS_TF_NAME\"]\n",
    "fold = int(os.environ[\"TFM_RESULTS_FOLD\"])\n",
    "if \"TFM_RESULTS_TASK_INDEX\" in os.environ:\n",
    "    task_index = int(os.environ[\"TFM_RESULTS_TASK_INDEX\"])\n",
    "else:\n",
    "    task_index = None\n",
    "    \n",
    "print(\"TF name: %s\" % tf_name)\n",
    "print(\"Fold: %s\" % fold)\n",
    "print(\"Task index: %s\" % task_index)"
   ]
  },
  {
   "cell_type": "markdown",
   "metadata": {},
   "source": [
    "[Skip to results](#results)"
   ]
  },
  {
   "cell_type": "code",
   "execution_count": null,
   "metadata": {},
   "outputs": [],
   "source": [
    "# Define paths and constants\n",
    "background_freqs = np.array([0.25, 0.25, 0.25, 0.25])\n",
    "\n",
    "base_path = \"/users/amtseng/tfmodisco/results/motif_benchmarks\"\n",
    "\n",
    "if task_index is None:\n",
    "    cond_path = os.path.join(base_path, tf_name, \"%s_fold%d\" % (tf_name, fold))\n",
    "else:\n",
    "    cond_path = os.path.join(base_path, tf_name, \"%s_fold%d_task%d\" % (tf_name, fold, task_index))\n",
    "\n",
    "dichipmunk_peak_results_path = os.path.join(cond_path, \"peaks\", \"dichipmunk\")\n",
    "homer_peak_results_path = os.path.join(cond_path, \"peaks\", \"homer\")\n",
    "meme_peak_results_path = os.path.join(cond_path, \"peaks\", \"meme\")\n",
    "dichipmunk_seqlet_results_path = os.path.join(cond_path, \"seqlets\", \"dichipmunk\")\n",
    "homer_seqlet_results_path = os.path.join(cond_path, \"seqlets\", \"homer\")\n",
    "meme_seqlet_results_path = os.path.join(cond_path, \"seqlets\", \"meme\")"
   ]
  },
  {
   "cell_type": "markdown",
   "metadata": {},
   "source": [
    "### Helper functions"
   ]
  },
  {
   "cell_type": "code",
   "execution_count": null,
   "metadata": {},
   "outputs": [],
   "source": [
    "def info_content(track, pseudocount=0.001):\n",
    "    \"\"\"\n",
    "    Given an L x 4 track, computes information content for each base and\n",
    "    returns it as an L-array.\n",
    "    \"\"\"\n",
    "    num_bases = track.shape[1]\n",
    "    # Normalize track to probabilities along base axis\n",
    "    track_norm = (track + pseudocount) / (np.sum(track, axis=1, keepdims=True) + (num_bases * pseudocount))\n",
    "    ic = track_norm * np.log2(track_norm / np.expand_dims(background_freqs, axis=0))\n",
    "    return np.sum(ic, axis=1)"
   ]
  },
  {
   "cell_type": "code",
   "execution_count": null,
   "metadata": {},
   "outputs": [],
   "source": [
    "def show_motif(pfm):\n",
    "    ic = info_content(pfm)\n",
    "    viz_sequence.plot_weights(pfm * np.expand_dims(ic, axis=1))"
   ]
  },
  {
   "cell_type": "markdown",
   "metadata": {},
   "source": [
    "<a id=\"results\"></a>\n",
    "### Show benchmark motifs"
   ]
  },
  {
   "cell_type": "markdown",
   "metadata": {},
   "source": [
    "**DiChIPMunk on peaks**"
   ]
  },
  {
   "cell_type": "code",
   "execution_count": null,
   "metadata": {
    "scrolled": false
   },
   "outputs": [],
   "source": [
    "dichipmunk_peak_pfms, dichipmunk_peak_num_seqs = read_motifs.import_dichipmunk_pfms(dichipmunk_peak_results_path)\n",
    "num_motifs = len(dichipmunk_peak_pfms)\n",
    "for i in range(num_motifs):\n",
    "    print(\"Motif %d/%d: supporting sequences = %d\" % (i + 1, num_motifs, dichipmunk_peak_num_seqs[i]))\n",
    "    show_motif(dichipmunk_peak_pfms[i])"
   ]
  },
  {
   "cell_type": "markdown",
   "metadata": {},
   "source": [
    "**DiChIPMunk on seqlets**"
   ]
  },
  {
   "cell_type": "code",
   "execution_count": null,
   "metadata": {
    "scrolled": false
   },
   "outputs": [],
   "source": [
    "dichipmunk_seqlet_pfms, dichipmunk_seqlet_num_seqs = read_motifs.import_dichipmunk_pfms(dichipmunk_seqlet_results_path)\n",
    "num_motifs = len(dichipmunk_seqlet_pfms)\n",
    "for i in range(num_motifs):\n",
    "    print(\"Motif %d/%d: supporting sequences = %d\" % (i + 1, num_motifs, dichipmunk_seqlet_num_seqs[i]))\n",
    "    show_motif(dichipmunk_seqlet_pfms[i])"
   ]
  },
  {
   "cell_type": "markdown",
   "metadata": {},
   "source": [
    "**HOMER on peaks**"
   ]
  },
  {
   "cell_type": "code",
   "execution_count": null,
   "metadata": {
    "scrolled": false
   },
   "outputs": [],
   "source": [
    "homer_peak_pfms, homer_peak_enrichments = read_motifs.import_homer_pfms(homer_peak_results_path)\n",
    "num_motifs = len(homer_peak_pfms)\n",
    "for i in range(num_motifs):\n",
    "    print(\"Motif %d/%d: log enrichment = %d\" % (i + 1, num_motifs, homer_peak_enrichments[i]))\n",
    "    show_motif(homer_peak_pfms[i])"
   ]
  },
  {
   "cell_type": "markdown",
   "metadata": {},
   "source": [
    "**HOMER on seqlets**"
   ]
  },
  {
   "cell_type": "code",
   "execution_count": null,
   "metadata": {
    "scrolled": false
   },
   "outputs": [],
   "source": [
    "homer_seqlet_pfms, homer_seqlet_enrichments = read_motifs.import_homer_pfms(homer_seqlet_results_path)\n",
    "num_motifs = len(homer_seqlet_pfms)\n",
    "for i in range(num_motifs):\n",
    "    print(\"Motif %d/%d: log enrichment = %d\" % (i + 1, num_motifs, homer_seqlet_enrichments[i]))\n",
    "    show_motif(homer_seqlet_pfms[i])"
   ]
  },
  {
   "cell_type": "markdown",
   "metadata": {},
   "source": [
    "**MEME on peaks**"
   ]
  },
  {
   "cell_type": "code",
   "execution_count": null,
   "metadata": {
    "scrolled": false
   },
   "outputs": [],
   "source": [
    "meme_peak_pfms, meme_peak_evalues = read_motifs.import_meme_pfms(meme_peak_results_path)\n",
    "num_motifs = len(meme_peak_pfms)\n",
    "for i in range(num_motifs):\n",
    "    print(\"Motif %d/%d: E-value = %s\" % (i + 1, num_motifs, meme_peak_evalues[i]))\n",
    "    show_motif(meme_peak_pfms[i])"
   ]
  },
  {
   "cell_type": "markdown",
   "metadata": {},
   "source": [
    "**MEME on seqlets**"
   ]
  },
  {
   "cell_type": "code",
   "execution_count": null,
   "metadata": {
    "scrolled": false
   },
   "outputs": [],
   "source": [
    "meme_seqlet_pfms, meme_seqlet_evalues = read_motifs.import_meme_pfms(meme_seqlet_results_path)\n",
    "num_motifs = len(meme_seqlet_pfms)\n",
    "for i in range(num_motifs):\n",
    "    print(\"Motif %d/%d: E-value = %s\" % (i + 1, num_motifs, meme_seqlet_evalues[i]))\n",
    "    show_motif(meme_seqlet_pfms[i])"
   ]
  }
 ],
 "metadata": {
  "kernelspec": {
   "display_name": "Python 3",
   "language": "python",
   "name": "python3"
  },
  "language_info": {
   "codemirror_mode": {
    "name": "ipython",
    "version": 3
   },
   "file_extension": ".py",
   "mimetype": "text/x-python",
   "name": "python",
   "nbconvert_exporter": "python",
   "pygments_lexer": "ipython3",
   "version": "3.7.7"
  }
 },
 "nbformat": 4,
 "nbformat_minor": 2
}
