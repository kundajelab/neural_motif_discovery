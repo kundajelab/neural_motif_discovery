{
 "cells": [
  {
   "cell_type": "markdown",
   "metadata": {},
   "source": [
    "### Direct links to results\n",
    "[TF-MoDISco results](#tfm-results)\n",
    "\n",
    "[Summary of motifs](#motif-summary)\n",
    "\n",
    "[TOMTOM matches to motifs](#tomtom)"
   ]
  },
  {
   "cell_type": "code",
   "execution_count": null,
   "metadata": {},
   "outputs": [],
   "source": [
    "import os\n",
    "import sys\n",
    "sys.path.append(os.path.abspath(\"/users/amtseng/tfmodisco/src/\"))\n",
    "from tfmodisco.run_tfmodisco import import_shap_scores, import_tfmodisco_results\n",
    "from motif.read_motifs import pfm_info_content, pfm_to_pwm, trim_motif_by_ic\n",
    "from motif.match_motifs import match_motifs_to_database\n",
    "from util import figure_to_vdom_image\n",
    "import plot.viz_sequence as viz_sequence\n",
    "import numpy as np\n",
    "import h5py\n",
    "import matplotlib.pyplot as plt\n",
    "import vdom.helpers as vdomh\n",
    "from IPython.display import display"
   ]
  },
  {
   "cell_type": "markdown",
   "metadata": {},
   "source": [
    "## Define constants and paths"
   ]
  },
  {
   "cell_type": "code",
   "execution_count": null,
   "metadata": {},
   "outputs": [],
   "source": [
    "# Define parameters/fetch arguments\n",
    "shap_scores_path = os.environ[\"TFM_SHAP_PATH\"]\n",
    "tfm_results_path = os.environ[\"TFM_TFM_PATH\"]\n",
    "hyp_score_key = os.environ[\"TFM_HYP_SCORE_KEY\"]\n",
    "if \"TFM_MOTIF_CACHE\" in os.environ:\n",
    "    tfm_motifs_cache_dir = os.environ[\"TFM_MOTIF_CACHE\"]\n",
    "else:\n",
    "    tfm_motifs_cache_dir = None\n",
    "\n",
    "print(\"DeepSHAP scores path: %s\" % shap_scores_path)\n",
    "print(\"TF-MoDISco results path: %s\" % tfm_results_path)\n",
    "print(\"Importance score key: %s\" % hyp_score_key)\n",
    "print(\"Saved TF-MoDISco-derived motifs cache: %s\" % tfm_motifs_cache_dir)"
   ]
  },
  {
   "cell_type": "code",
   "execution_count": null,
   "metadata": {},
   "outputs": [],
   "source": [
    "# Define paths and constants\n",
    "input_length = 1000\n",
    "shap_score_center_size = 400"
   ]
  },
  {
   "cell_type": "code",
   "execution_count": null,
   "metadata": {},
   "outputs": [],
   "source": [
    "if tfm_motifs_cache_dir:\n",
    "    os.makedirs(tfm_motifs_cache_dir, exist_ok=True)"
   ]
  },
  {
   "cell_type": "markdown",
   "metadata": {},
   "source": [
    "### Import SHAP scores and TF-MoDISco results"
   ]
  },
  {
   "cell_type": "code",
   "execution_count": null,
   "metadata": {},
   "outputs": [],
   "source": [
    "# Import SHAP coordinates and one-hot sequences\n",
    "hyp_scores, _, one_hot_seqs, shap_coords = import_shap_scores(shap_scores_path, hyp_score_key, center_cut_size=shap_score_center_size)\n",
    "# This cuts the sequences/scores off just as how TF-MoDISco saw them, but the coordinates are uncut"
   ]
  },
  {
   "cell_type": "code",
   "execution_count": null,
   "metadata": {},
   "outputs": [],
   "source": [
    "# Import the TF-MoDISco results object\n",
    "tfm_obj = import_tfmodisco_results(tfm_results_path, hyp_scores, one_hot_seqs, shap_score_center_size)"
   ]
  },
  {
   "cell_type": "markdown",
   "metadata": {},
   "source": [
    "### Plot some SHAP score tracks\n",
    "Plot the central region of some randomly selected actual importance scores"
   ]
  },
  {
   "cell_type": "code",
   "execution_count": null,
   "metadata": {
    "scrolled": false
   },
   "outputs": [],
   "source": [
    "plot_slice = slice(int(shap_score_center_size / 4), int(3 * shap_score_center_size / 4))\n",
    "for index in np.random.choice(hyp_scores.shape[0], size=5, replace=False):\n",
    "    viz_sequence.plot_weights((hyp_scores[index] * one_hot_seqs[index])[plot_slice], subticks_frequency=100)"
   ]
  },
  {
   "cell_type": "markdown",
   "metadata": {},
   "source": [
    "<a id=\"tfm-results\"></a>\n",
    "## Plot TF-MoDISco results\n",
    "Plot all motifs by metacluster"
   ]
  },
  {
   "cell_type": "code",
   "execution_count": null,
   "metadata": {
    "scrolled": false
   },
   "outputs": [],
   "source": [
    "motif_pfms, motif_hcwms, motif_cwms = [], [], []  # Save the trimmed PFMs, hCWMs, and CWMs\n",
    "motif_pfms_short = []  # PFMs that are even more trimmed (for TOMTOM)\n",
    "num_seqlets = []  # Number of seqlets for each motif\n",
    "motif_seqlets = []  # Save seqlets of each motif\n",
    "metaclusters = tfm_obj.metacluster_idx_to_submetacluster_results\n",
    "num_metaclusters = len(metaclusters.keys())\n",
    "if tfm_motifs_cache_dir:\n",
    "    motif_hdf5 = h5py.File(os.path.join(tfm_motifs_cache_dir, \"all_motifs.h5\"), \"w\")\n",
    "for metacluster_i, metacluster_key in enumerate(metaclusters.keys()):\n",
    "    metacluster = metaclusters[metacluster_key]\n",
    "    display(vdomh.h3(\"Metacluster %d/%d\" % (metacluster_i + 1, num_metaclusters)))\n",
    "    patterns = metacluster.seqlets_to_patterns_result.patterns\n",
    "    if not patterns:\n",
    "        break\n",
    "    motif_pfms.append([])\n",
    "    motif_hcwms.append([])\n",
    "    motif_cwms.append([])\n",
    "    motif_pfms_short.append([])\n",
    "    num_seqlets.append([])\n",
    "    motif_seqlets.append([])\n",
    "    num_patterns = len(patterns)\n",
    "    for pattern_i, pattern in enumerate(patterns):\n",
    "        seqlets = pattern.seqlets\n",
    "        display(vdomh.h4(\"Pattern %d/%d\" % (pattern_i + 1, num_patterns)))\n",
    "        display(vdomh.p(\"%d seqlets\" % len(seqlets)))\n",
    "        \n",
    "        pfm = pattern[\"sequence\"].fwd\n",
    "        hcwm = pattern[\"task0_hypothetical_contribs\"].fwd\n",
    "        cwm = pattern[\"task0_contrib_scores\"].fwd\n",
    "        \n",
    "        pfm_fig = viz_sequence.plot_weights(pfm, subticks_frequency=10, return_fig=True)\n",
    "        hcwm_fig = viz_sequence.plot_weights(hcwm, subticks_frequency=10, return_fig=True)\n",
    "        cwm_fig = viz_sequence.plot_weights(cwm, subticks_frequency=10, return_fig=True)\n",
    "        pfm_fig.tight_layout()\n",
    "        hcwm_fig.tight_layout()\n",
    "        cwm_fig.tight_layout()\n",
    "        \n",
    "        motif_table = vdomh.table(\n",
    "            vdomh.tr(\n",
    "                vdomh.td(\"Sequence (PFM)\"),\n",
    "                vdomh.td(figure_to_vdom_image(pfm_fig))\n",
    "            ),\n",
    "            vdomh.tr(\n",
    "                vdomh.td(\"Hypothetical contributions (hCWM)\"),\n",
    "                vdomh.td(figure_to_vdom_image(hcwm_fig))\n",
    "            ),\n",
    "            vdomh.tr(\n",
    "                vdomh.td(\"Actual contributions (CWM)\"),\n",
    "                vdomh.td(figure_to_vdom_image(cwm_fig))\n",
    "            )\n",
    "        )\n",
    "        display(motif_table)\n",
    "        plt.close(\"all\")  # Remove all standing figures\n",
    "        \n",
    "        # Trim motif based on information content\n",
    "        short_trimmed_pfm = trim_motif_by_ic(pfm, pfm)\n",
    "        motif_pfms_short[-1].append(short_trimmed_pfm)\n",
    "        \n",
    "        # Expand trimming to +/- 4bp on either side\n",
    "        trimmed_pfm = trim_motif_by_ic(pfm, pfm, pad=4)\n",
    "        trimmed_hcwm = trim_motif_by_ic(pfm, hcwm, pad=4)\n",
    "        trimmed_cwm = trim_motif_by_ic(pfm, cwm, pad=4)\n",
    "        \n",
    "        motif_pfms[-1].append(trimmed_pfm)\n",
    "        motif_hcwms[-1].append(trimmed_hcwm)\n",
    "        motif_cwms[-1].append(trimmed_cwm)\n",
    "        \n",
    "        num_seqlets[-1].append(len(seqlets))\n",
    "        \n",
    "        if tfm_motifs_cache_dir:\n",
    "            # Save results and figures\n",
    "            motif_id = \"%d_%d\" % (metacluster_i, pattern_i)\n",
    "            pfm_fig.savefig(os.path.join(tfm_motifs_cache_dir, motif_id + \"_pfm_full.png\"))\n",
    "            hcwm_fig.savefig(os.path.join(tfm_motifs_cache_dir, motif_id + \"_hcwm_full.png\"))\n",
    "            cwm_fig.savefig(os.path.join(tfm_motifs_cache_dir, motif_id + \"_cwm_full.png\"))\n",
    "            motif_dset = motif_hdf5.create_group(motif_id)\n",
    "            motif_dset.create_dataset(\"pfm_full\", data=pfm, compression=\"gzip\")\n",
    "            motif_dset.create_dataset(\"hcwm_full\", data=hcwm, compression=\"gzip\")\n",
    "            motif_dset.create_dataset(\"cwm_full\", data=cwm, compression=\"gzip\")\n",
    "            motif_dset.create_dataset(\"pfm_trimmed\", data=trimmed_pfm, compression=\"gzip\")\n",
    "            motif_dset.create_dataset(\"hcwm_trimmed\", data=trimmed_hcwm, compression=\"gzip\")\n",
    "            motif_dset.create_dataset(\"cwm_trimmed\", data=trimmed_cwm, compression=\"gzip\")\n",
    "            motif_dset.create_dataset(\"pfm_short_trimmed\", data=short_trimmed_pfm, compression=\"gzip\")"
   ]
  },
  {
   "cell_type": "markdown",
   "metadata": {},
   "source": [
    "<a id=\"motif-summary\"></a>\n",
    "## Summary of motifs\n",
    "\n",
    "Motifs are trimmed based on information content, and presented in descending order by number of supporting seqlets. The motifs are separated by metacluster. The motifs are presented as hCWMs. The forward orientation is defined as the orientation that is richer in purines."
   ]
  },
  {
   "cell_type": "code",
   "execution_count": null,
   "metadata": {
    "scrolled": false
   },
   "outputs": [],
   "source": [
    "colgroup = vdomh.colgroup(\n",
    "    vdomh.col(style={\"width\": \"5%\"}),\n",
    "    vdomh.col(style={\"width\": \"5%\"}),\n",
    "    vdomh.col(style={\"width\": \"45%\"}),\n",
    "    vdomh.col(style={\"width\": \"45%\"})\n",
    ")\n",
    "header = vdomh.thead(\n",
    "    vdomh.tr(\n",
    "        vdomh.th(\"#\", style={\"text-align\": \"center\"}),\n",
    "        vdomh.th(\"Seqlets\", style={\"text-align\": \"center\"}),\n",
    "        vdomh.th(\"Forward\", style={\"text-align\": \"center\"}),\n",
    "        vdomh.th(\"Reverse\", style={\"text-align\": \"center\"})\n",
    "    )\n",
    ")\n",
    "\n",
    "for i in range(len(motif_hcwms)):\n",
    "    display(vdomh.h3(\"Metacluster %d/%d\" % (i + 1, num_metaclusters)))\n",
    "    body = []\n",
    "    for j in range(len(motif_hcwms[i])):\n",
    "        motif = motif_hcwms[i][j]\n",
    "        if np.sum(motif[:, [0, 2]]) > 0.5 * np.sum(motif):\n",
    "            # Forward is purine-rich, reverse-complement is pyrimidine-rich\n",
    "            f, rc = motif, np.flip(motif, axis=(0, 1))\n",
    "        else:\n",
    "            f, rc = np.flip(motif, axis=(0, 1)), motif\n",
    "            \n",
    "        f_fig = viz_sequence.plot_weights(f, figsize=(20, 4), return_fig=True)\n",
    "        f_fig.tight_layout()\n",
    "        rc_fig = viz_sequence.plot_weights(rc, figsize=(20, 4), return_fig=True)\n",
    "        rc_fig.tight_layout()\n",
    "        \n",
    "        if tfm_motifs_cache_dir:\n",
    "            # Save results and figures\n",
    "            motif_id = \"%d_%d\" % (i, j)\n",
    "            f_fig.savefig(os.path.join(tfm_motifs_cache_dir, motif_id + \"_hcwm_trimmed_fwd.png\"))\n",
    "            rc_fig.savefig(os.path.join(tfm_motifs_cache_dir, motif_id + \"_hcwm_trimmed_rev.png\"))\n",
    "\n",
    "        body.append(\n",
    "            vdomh.tr(\n",
    "                vdomh.td(str(j + 1)),\n",
    "                vdomh.td(str(num_seqlets[i][j])),\n",
    "                vdomh.td(figure_to_vdom_image(f_fig)),\n",
    "                vdomh.td(figure_to_vdom_image(rc_fig))\n",
    "            )\n",
    "        )\n",
    "    display(vdomh.table(colgroup, header, vdomh.tbody(*body)))\n",
    "    plt.close(\"all\")"
   ]
  },
  {
   "cell_type": "markdown",
   "metadata": {},
   "source": [
    "<a id=\"tomtom\"></a>\n",
    "## Top TOMTOM matches for each motif\n",
    "\n",
    "Here, the TF-MoDISco motifs are plotted as hCWMs, but the TOMTOM matches are shown as PWMs."
   ]
  },
  {
   "cell_type": "code",
   "execution_count": null,
   "metadata": {
    "scrolled": false
   },
   "outputs": [],
   "source": [
    "num_matches_to_keep = 10\n",
    "num_matches_to_show = 5\n",
    "\n",
    "header = vdomh.thead(\n",
    "    vdomh.tr(\n",
    "        vdomh.th(\"Motif ID\", style={\"text-align\": \"center\"}),\n",
    "        vdomh.th(\"q-val\", style={\"text-align\": \"center\"}),\n",
    "        vdomh.th(\"PWM\", style={\"text-align\": \"center\"})\n",
    "    )\n",
    ")\n",
    "\n",
    "for i in range(len(motif_pfms)):\n",
    "    display(vdomh.h3(\"Metacluster %d/%d\" % (i + 1, num_metaclusters)))\n",
    "    \n",
    "    # Compute TOMTOM matches for all motifs in the metacluster at once\n",
    "    out_dir = os.path.join(tfm_motifs_cache_dir, \"tomtom\", \"metacluster_%d\" % i) if tfm_motifs_cache_dir else None\n",
    "    tomtom_matches = match_motifs_to_database(motif_pfms_short[i], top_k=num_matches_to_keep, temp_dir=out_dir)\n",
    "    \n",
    "    for j in range(len(motif_pfms[i])):\n",
    "        display(vdomh.h4(\"Motif %d/%d\" % (j + 1, len(motif_pfms[i]))))\n",
    "        viz_sequence.plot_weights(motif_hcwms[i][j])\n",
    "    \n",
    "        body = []\n",
    "        for k, (match_name, match_pfm, match_qval) in enumerate(tomtom_matches[j]):\n",
    "            fig = viz_sequence.plot_weights(pfm_to_pwm(match_pfm), return_fig=True)\n",
    "            fig.tight_layout()\n",
    "            if k < num_matches_to_show:\n",
    "                body.append(\n",
    "                    vdomh.tr(\n",
    "                        vdomh.td(match_name),\n",
    "                        vdomh.td(str(match_qval)),\n",
    "                        vdomh.td(figure_to_vdom_image(fig))\n",
    "                    )\n",
    "                )\n",
    "                if tfm_motifs_cache_dir:\n",
    "                    # Save results and figures\n",
    "                    motif_id = \"%d_%d\" % (i, j)\n",
    "                    fig.savefig(os.path.join(out_dir, motif_id + (\"_hit-%d.png\" % (k + 1))))\n",
    "            else:\n",
    "                body.append(\n",
    "                    vdomh.tr(\n",
    "                        vdomh.td(match_name),\n",
    "                        vdomh.td(str(match_qval)),\n",
    "                        vdomh.td(\"Not shown\")\n",
    "                    )\n",
    "                )\n",
    "        if not body:\n",
    "            display(vdomh.p(\"No TOMTOM matches passing threshold\"))\n",
    "        else:\n",
    "            display(vdomh.table(header, vdomh.tbody(*body)))\n",
    "        plt.close(\"all\")"
   ]
  }
 ],
 "metadata": {
  "kernelspec": {
   "display_name": "Python 3",
   "language": "python",
   "name": "python3"
  },
  "language_info": {
   "codemirror_mode": {
    "name": "ipython",
    "version": 3
   },
   "file_extension": ".py",
   "mimetype": "text/x-python",
   "name": "python",
   "nbconvert_exporter": "python",
   "pygments_lexer": "ipython3",
   "version": "3.7.7"
  }
 },
 "nbformat": 4,
 "nbformat_minor": 2
}
