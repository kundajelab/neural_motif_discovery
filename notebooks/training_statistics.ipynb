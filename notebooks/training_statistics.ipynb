{
 "cells": [
  {
   "cell_type": "code",
   "execution_count": 10,
   "metadata": {},
   "outputs": [],
   "source": [
    "import json\n",
    "import os\n",
    "import numpy as np\n",
    "import matplotlib.pyplot as plt"
   ]
  },
  {
   "cell_type": "code",
   "execution_count": 4,
   "metadata": {},
   "outputs": [],
   "source": [
    "def import_metrics_json(models_path, run_num):\n",
    "    \"\"\"\n",
    "    Looks in {models_path}/{run_num}/metrics.json and returns the contents as a\n",
    "    Python dictionary. Returns None if the path does not exist.\n",
    "    \"\"\"\n",
    "    path = os.path.join(models_path, str(run_num), \"metrics.json\")\n",
    "    if not os.path.exists(path):\n",
    "        return None\n",
    "    with open(path, \"r\") as f:\n",
    "        return json.load(f)"
   ]
  },
  {
   "cell_type": "code",
   "execution_count": 5,
   "metadata": {},
   "outputs": [],
   "source": [
    "def get_best_metric(models_path, metric_extract_func, metric_compare_func):\n",
    "    \"\"\"\n",
    "    Given the path to a set of runs, determines the run with the best metric value,\n",
    "    where the metric value is fetched by `metric_extract_func`. This function must\n",
    "    take the imported metrics JSON and return the (scalar) value to use for\n",
    "    comparison. The best metric value is determiend by `metric_compare_func`, which\n",
    "    must take in two arguments, and return whether or not the _first_ one is better.\n",
    "    Returns the number of the run, the value associated with that run, and a list of\n",
    "    all the values used for comparison.\n",
    "    \"\"\"\n",
    "    # Get the metrics, ignoring empty or nonexistent metrics.json files\n",
    "    metrics = {run_num : import_metrics_json(models_path, run_num) for run_num in os.listdir(models_path)}\n",
    "    metrics = {key : val for key, val in metrics.items() if val}  # Remove empties\n",
    "    \n",
    "    # Get the best value\n",
    "    best_run, best_val, all_vals = None, None, []\n",
    "    for run_num in metrics.keys():\n",
    "        try:\n",
    "            val = metric_extract_func(metrics[run_num])\n",
    "        except Exception:\n",
    "            print(\"Warning: Was not able to extract metric for run %s\" % run_num)\n",
    "            continue\n",
    "        all_vals.append(val)\n",
    "        if best_val is None or metric_compare_func(val, best_val):\n",
    "            best_val, best_run = val, run_num\n",
    "    return best_run, best_val, all_vals"
   ]
  },
  {
   "cell_type": "code",
   "execution_count": 2,
   "metadata": {},
   "outputs": [],
   "source": [
    "def get_batch_losses(models_path, run_num, batch_loss_key):\n",
    "    \"\"\"\n",
    "    Returns a list of lists, where each list is the batch losses gotten from\n",
    "    the batch loss key given.\n",
    "    \"\"\"\n",
    "    metrics = import_metrics_json(models_path, run_num)\n",
    "    return metrics[batch_loss_key][\"values\"]"
   ]
  },
  {
   "cell_type": "code",
   "execution_count": 9,
   "metadata": {},
   "outputs": [
    {
     "name": "stdout",
     "output_type": "stream",
     "text": [
      "Warning: Was not able to extract metric for run 12\n",
      "Warning: Was not able to extract metric for run 1\n",
      "Best run: 7\n",
      "Associated value: 183.8156736711634\n"
     ]
    }
   ],
   "source": [
    "models_path = \"/users/amtseng/tfmodisco/models/trained_models/SPI1/\"\n",
    "best_run, best_val, all_vals = get_best_metric(\n",
    "    models_path,\n",
    "    lambda metrics: metrics[\"summit_prof_nll\"][\"values\"][0][0],  # First task, arbitrarily\n",
    "    lambda x, y: x < y\n",
    ")\n",
    "print(\"Best run: %s\" % best_run)\n",
    "print(\"Associated value: %s\" % best_val)"
   ]
  },
  {
   "cell_type": "code",
   "execution_count": 14,
   "metadata": {},
   "outputs": [
    {
     "data": {
      "text/plain": [
       "[<matplotlib.lines.Line2D at 0x7ffb75224fd0>]"
      ]
     },
     "execution_count": 14,
     "metadata": {},
     "output_type": "execute_result"
    },
    {
     "data": {
      "image/png": "[encoded data removed]",
      "text/plain": [
       "<Figure size 432x288 with 1 Axes>"
      ]
     },
     "metadata": {
      "needs_background": "light"
     },
     "output_type": "display_data"
    }
   ],
   "source": [
    "models_path = \"/users/amtseng/tfmodisco/models/trained_models/SPI1/\"\n",
    "run_num = 7\n",
    "train_batch_losses = get_batch_losses(models_path, run_num, \"train_batch_losses\")\n",
    "val_batch_losses = get_batch_losses(models_path, run_num, \"val_batch_losses\")\n",
    "plt.plot(np.log(np.concatenate(train_batch_losses)))\n",
    "plt.plot(np.log(np.concatenate(val_batch_losses)))"
   ]
  },
  {
   "cell_type": "code",
   "execution_count": 64,
   "metadata": {},
   "outputs": [],
   "source": [
    "models_path = \"/users/amtseng/tfmodisco/models/trained_models/SPI1_nocounts_nohyperparam/\"\n",
    "run_num = 4\n",
    "metrics = import_metrics_json(models_path, run_num)\n",
    "nll = np.array(metrics[\"summit_prof_nll\"][\"values\"][0])\n",
    "jsd = np.array(metrics[\"summit_prof_jsd\"][\"values\"][0])\n",
    "coords = np.array(metrics[\"summit_coords\"][\"values\"][0][\"values\"], dtype=object)\n",
    "peaks = np.array(metrics[\"summit_peaks\"][\"values\"][0][\"values\"])"
   ]
  },
  {
   "cell_type": "code",
   "execution_count": 65,
   "metadata": {},
   "outputs": [
    {
     "name": "stdout",
     "output_type": "stream",
     "text": [
      "['chr1' 196823400 196824400]\n",
      "[196823765 196824035 196823900]\n",
      "[ 0.          5.37924933 14.64476706 61.16737063]\n",
      "[       nan 0.60960088 0.50935003 0.3227287 ]\n"
     ]
    }
   ],
   "source": [
    "index = 49661\n",
    "print(coords[index])\n",
    "print(peaks[index])\n",
    "print(nll[index])\n",
    "print(jsd[index])"
   ]
  },
  {
   "cell_type": "code",
   "execution_count": 69,
   "metadata": {},
   "outputs": [
    {
     "name": "stdout",
     "output_type": "stream",
     "text": [
      "['chr1' 1001879 1002879]\n",
      "[1002237 1002521 1002379]\n",
      "[97.35714615 83.12716849 72.80230842 85.63712561]\n",
      "[0.26497482 0.44256389 0.27082343 0.44602138]\n"
     ]
    }
   ],
   "source": [
    "index = 3\n",
    "print(coords[index])\n",
    "print(peaks[index])\n",
    "print(nll[index])\n",
    "print(jsd[index])"
   ]
  },
  {
   "cell_type": "code",
   "execution_count": 70,
   "metadata": {},
   "outputs": [
    {
     "name": "stdout",
     "output_type": "stream",
     "text": [
      "['chr1' 2290389 2291389]\n",
      "[2290796 2290996 2290889]\n",
      "[484.81915036 329.60544184 486.2425754  521.46680809]\n",
      "[0.26409743 0.26525789 0.21281662 0.1801663 ]\n"
     ]
    }
   ],
   "source": [
    "index = 30\n",
    "print(coords[index])\n",
    "print(peaks[index])\n",
    "print(nll[index])\n",
    "print(jsd[index])"
   ]
  },
  {
   "cell_type": "code",
   "execution_count": 76,
   "metadata": {},
   "outputs": [],
   "source": [
    "models_path = \"/users/amtseng/tfmodisco/models/trained_models/SPI1_nocounts_nohyperparam/\"\n",
    "run_num = 6\n",
    "metrics = import_metrics_json(models_path, run_num)\n",
    "# nll = np.array(metrics[\"summit_prof_nll\"][\"values\"][0])\n",
    "# jsd = np.array(metrics[\"summit_prof_jsd\"][\"values\"][0])\n",
    "coords = np.array(metrics[\"summit_coords\"][\"values\"][0][\"values\"], dtype=object)\n",
    "peaks = np.array(metrics[\"summit_peaks\"][\"values\"][0][\"values\"])"
   ]
  },
  {
   "cell_type": "code",
   "execution_count": 78,
   "metadata": {},
   "outputs": [
    {
     "name": "stdout",
     "output_type": "stream",
     "text": [
      "['chr1' 21123178 21124178]\n",
      "[21123536 21123820 21123678]\n"
     ]
    }
   ],
   "source": [
    "index = 777\n",
    "print(coords[index])\n",
    "print(peaks[index])\n",
    "# print(nll[index])\n",
    "# print(jsd[index])"
   ]
  }
 ],
 "metadata": {
  "kernelspec": {
   "display_name": "Python 3",
   "language": "python",
   "name": "python3"
  },
  "language_info": {
   "codemirror_mode": {
    "name": "ipython",
    "version": 3
   },
   "file_extension": ".py",
   "mimetype": "text/x-python",
   "name": "python",
   "nbconvert_exporter": "python",
   "pygments_lexer": "ipython3",
   "version": "3.7.4"
  }
 },
 "nbformat": 4,
 "nbformat_minor": 2
}
