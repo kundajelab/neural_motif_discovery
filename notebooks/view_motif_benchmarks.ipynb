{
 "cells": [
  {
   "cell_type": "code",
   "execution_count": null,
   "metadata": {},
   "outputs": [],
   "source": [
    "%%capture --no-display\n",
    "import modisco\n",
    "from modisco.visualization import viz_sequence\n",
    "import re\n",
    "import numpy as np\n",
    "from xml.etree import ElementTree\n",
    "import os"
   ]
  },
  {
   "cell_type": "code",
   "execution_count": null,
   "metadata": {},
   "outputs": [],
   "source": [
    "# Define parameters/fetch arguments\n",
    "tf_name = os.environ[\"TFM_RESULTS_TF_NAME\"]\n",
    "fold = int(os.environ[\"TFM_RESULTS_FOLD\"])\n",
    "if \"TFM_RESULTS_TASK_INDEX\" in os.environ:\n",
    "    task_index = int(os.environ[\"TFM_RESULTS_TASK_INDEX\"])\n",
    "else:\n",
    "    task_index = None\n",
    "    \n",
    "print(\"TF name: %s\" % tf_name)\n",
    "print(\"Fold: %s\" % fold)\n",
    "print(\"Task index: %s\" % task_index)"
   ]
  },
  {
   "cell_type": "markdown",
   "metadata": {},
   "source": [
    "[Skip to results](#results)"
   ]
  },
  {
   "cell_type": "code",
   "execution_count": null,
   "metadata": {},
   "outputs": [],
   "source": [
    "# Define paths and constants\n",
    "background_freqs = np.array([0.27, 0.23, 0.23, 0.27])\n",
    "bases = [\"A\", \"C\", \"G\", \"T\"]\n",
    "base_ind_dict = {base: i for i, base in enumerate(bases)}\n",
    "dinucs = [x + y for x in bases for y in bases]\n",
    "dichipmunk_dinuc_prefixes = [dinuc + \"|\" for dinuc in dinucs]\n",
    "\n",
    "base_path = \"/users/amtseng/tfmodisco/results/motif_benchmarks\"\n",
    "\n",
    "if task_index is None:\n",
    "    cond_path = os.path.join(base_path, tf_name, \"%s_fold%d\" % (tf_name, fold))\n",
    "else:\n",
    "    cond_path = os.path.join(base_path, tf_name, \"%s_fold%d_task%d\" % (tf_name, fold, task_index))\n",
    "\n",
    "dichipmunk_peak_results_path = os.path.join(cond_path, \"peaks\", \"dichipmunk\")\n",
    "homer_peak_results_path = os.path.join(cond_path, \"peaks\", \"homer\")\n",
    "meme_peak_results_path = os.path.join(cond_path, \"peaks\", \"meme\")\n",
    "dichipmunk_seqlet_results_path = os.path.join(cond_path, \"seqlets\", \"dichipmunk\")\n",
    "homer_seqlet_results_path = os.path.join(cond_path, \"seqlets\", \"homer\")\n",
    "meme_seqlet_results_path = os.path.join(cond_path, \"seqlets\", \"meme\")"
   ]
  },
  {
   "cell_type": "markdown",
   "metadata": {},
   "source": [
    "### Helper functions"
   ]
  },
  {
   "cell_type": "code",
   "execution_count": null,
   "metadata": {},
   "outputs": [],
   "source": [
    "def dinuc_to_mononuc_pfm(dinuc_dict):\n",
    "    \"\"\"\n",
    "    From a dictionary of dinucleotide counts at each position, constructs\n",
    "    a standard mononucleotide PFM.\n",
    "    \"\"\"\n",
    "    assert sorted(list(dinuc_dict.keys())) == sorted(dinucs)\n",
    "    pfm_length = len(dinuc_dict[\"AA\"]) + 1\n",
    "    pfm = np.zeros((pfm_length, 4))\n",
    "    for dinuc, counts in dinuc_dict.items():\n",
    "        base_ind_1, base_ind_2 = base_ind_dict[dinuc[0]], base_ind_dict[dinuc[1]]\n",
    "        pfm[:-1, base_ind_1] = pfm[:-1, base_ind_1] + counts\n",
    "        pfm[1:, base_ind_2] = pfm[1:, base_ind_2] + counts\n",
    "    return pfm"
   ]
  },
  {
   "cell_type": "code",
   "execution_count": null,
   "metadata": {},
   "outputs": [],
   "source": [
    "def import_dichipmunk_pfms(dichipmunk_results_path):\n",
    "    \"\"\"\n",
    "    Imports the set of motif PFMs from a diChIPMunk results directory.\n",
    "    Returns a list of PFMs, and a parallel list of number of supporting\n",
    "    sequences.\n",
    "    \"\"\"\n",
    "    results_path = os.path.join(dichipmunk_results_path, \"results.txt\")\n",
    "    motif_dinuc_dicts, num_seqs = [], []\n",
    "    with open(results_path, \"r\") as f:\n",
    "        dinuc_dict = {}\n",
    "        \n",
    "        # Skip to the first motif section, ignoring everything before\n",
    "        line = next(f)\n",
    "        while not line.startswith(\"MOTF|\"):\n",
    "            line = next(f)\n",
    "\n",
    "        for line in f:\n",
    "            if line.startswith(\"MOTF|\"):\n",
    "                motif_dinuc_dicts.append(dinuc_dict)  # Append the previously filled dict\n",
    "                dinuc_dict = {}  # Create a new dict for the next motif\n",
    "            elif line[:3] in dichipmunk_dinuc_prefixes:\n",
    "                dinuc = line[:2]\n",
    "                dinuc_dict[dinuc] = np.array([float(x) for x in line[3:].strip().split()])\n",
    "            elif line.startswith(\"SEQS|\"):\n",
    "                num_seqs.append(int(line[5:].strip()))\n",
    "        if dinuc_dict:\n",
    "            motif_dinuc_dicts.append(dinuc_dict)  # Append the last filled dict\n",
    "            \n",
    "    # Convert each dinucleotide dict to a mononucleotide PFM\n",
    "    pfms = [dinuc_to_mononuc_pfm(dinuc_dict) for dinuc_dict in motif_dinuc_dicts]\n",
    "    \n",
    "    return pfms, num_seqs"
   ]
  },
  {
   "cell_type": "code",
   "execution_count": null,
   "metadata": {},
   "outputs": [],
   "source": [
    "def import_homer_pfms(homer_results_path):\n",
    "    \"\"\"\n",
    "    Imports the set of motif PFMs from a HOMER results directory.\n",
    "    Returns a list of PFMs, and a parallel list of log-odds\n",
    "    enrichment values\n",
    "    \"\"\"\n",
    "    results_dir = os.path.join(homer_results_path, \"homerResults\")\n",
    "    pattern = re.compile(r\"^motif\\d+\\.motif$\")\n",
    "    pfm_files = [item for item in os.listdir(results_dir) if pattern.match(item)]\n",
    "    pfms, enrichments = [], []\n",
    "    for pfm_file in sorted(pfm_files, key=lambda x: int(x.split(\".\")[0][5:])):\n",
    "        pfm = []\n",
    "        with open(os.path.join(results_dir, pfm_file), \"r\") as f:\n",
    "            header = next(f)\n",
    "            enrichment = float(header.strip().split(\"\\t\")[3])\n",
    "            enrichments.append(enrichment)\n",
    "            for line in f:\n",
    "                pfm.append(np.array([float(x) for x in line.strip().split()]))\n",
    "        pfms.append(np.array(pfm))\n",
    "    return pfms, enrichments"
   ]
  },
  {
   "cell_type": "code",
   "execution_count": null,
   "metadata": {},
   "outputs": [],
   "source": [
    "def import_meme_pfms(meme_results_path):\n",
    "    \"\"\"\n",
    "    Imports the set of motif PFMs from a MEME results directory.\n",
    "    Returns a list of PFMs, and a parallel list of e-values.\n",
    "    \"\"\"\n",
    "    results_path = os.path.join(meme_results_path, \"meme.xml\")\n",
    "    tree = ElementTree.parse(results_path)\n",
    "    pfms, evalues = [], []\n",
    "    for motif in tree.getroot().find(\"motifs\"):\n",
    "        pfm = []\n",
    "        pfm_matrix = motif.find(\"probabilities\").find(\"alphabet_matrix\")\n",
    "        evalue = motif.get(\"e_value\")\n",
    "        evalues.append(evalue)\n",
    "        for row in pfm_matrix:\n",
    "            base_probs = np.array([float(base.text) for base in row])\n",
    "            pfm.append(base_probs)\n",
    "        pfms.append(np.array(pfm))\n",
    "    return pfms, evalues"
   ]
  },
  {
   "cell_type": "code",
   "execution_count": null,
   "metadata": {},
   "outputs": [],
   "source": [
    "def info_content(track, pseudocount=0.001):\n",
    "    \"\"\"\n",
    "    Given an L x 4 track, computes information content for each base and\n",
    "    returns it as an L-array.\n",
    "    \"\"\"\n",
    "    num_bases = track.shape[1]\n",
    "    # Normalize track to probabilities along base axis\n",
    "    track_norm = (track + pseudocount) / (np.sum(track, axis=1, keepdims=True) + (num_bases * pseudocount))\n",
    "    ic = track_norm * np.log2(track_norm / np.expand_dims(background_freqs, axis=0))\n",
    "    return np.sum(ic, axis=1)"
   ]
  },
  {
   "cell_type": "code",
   "execution_count": null,
   "metadata": {},
   "outputs": [],
   "source": [
    "def show_motif(pfm):\n",
    "    ic = info_content(pfm)\n",
    "    viz_sequence.plot_weights(pfm * np.expand_dims(ic, axis=1))"
   ]
  },
  {
   "cell_type": "markdown",
   "metadata": {},
   "source": [
    "<a id=\"results\"></a>\n",
    "### Show benchmark motifs"
   ]
  },
  {
   "cell_type": "markdown",
   "metadata": {},
   "source": [
    "**DiChIPMunk on peaks**"
   ]
  },
  {
   "cell_type": "code",
   "execution_count": null,
   "metadata": {
    "scrolled": false
   },
   "outputs": [],
   "source": [
    "dichipmunk_peak_pfms, dichipmunk_peak_num_seqs = import_dichipmunk_pfms(dichipmunk_peak_results_path)\n",
    "num_motifs = len(dichipmunk_peak_pfms)\n",
    "for i in range(num_motifs):\n",
    "    print(\"Motif %d/%d: supporting sequences = %d\" % (i + 1, num_motifs, dichipmunk_peak_num_seqs[i]))\n",
    "    show_motif(dichipmunk_peak_pfms[i])"
   ]
  },
  {
   "cell_type": "markdown",
   "metadata": {},
   "source": [
    "**DiChIPMunk on seqlets**"
   ]
  },
  {
   "cell_type": "code",
   "execution_count": null,
   "metadata": {
    "scrolled": false
   },
   "outputs": [],
   "source": [
    "dichipmunk_seqlet_pfms, dichipmunk_seqlet_num_seqs = import_dichipmunk_pfms(dichipmunk_seqlet_results_path)\n",
    "num_motifs = len(dichipmunk_seqlet_pfms)\n",
    "for i in range(num_motifs):\n",
    "    print(\"Motif %d/%d: supporting sequences = %d\" % (i + 1, num_motifs, dichipmunk_seqlet_num_seqs[i]))\n",
    "    show_motif(dichipmunk_seqlet_pfms[i])"
   ]
  },
  {
   "cell_type": "markdown",
   "metadata": {},
   "source": [
    "**HOMER on peaks**"
   ]
  },
  {
   "cell_type": "code",
   "execution_count": null,
   "metadata": {
    "scrolled": false
   },
   "outputs": [],
   "source": [
    "homer_peak_pfms, homer_peak_enrichments = import_homer_pfms(homer_peak_results_path)\n",
    "num_motifs = len(homer_peak_pfms)\n",
    "for i in range(num_motifs):\n",
    "    print(\"Motif %d/%d: log enrichment = %d\" % (i + 1, num_motifs, homer_peak_enrichments[i]))\n",
    "    show_motif(homer_peak_pfms[i])"
   ]
  },
  {
   "cell_type": "markdown",
   "metadata": {},
   "source": [
    "**HOMER on seqlets**"
   ]
  },
  {
   "cell_type": "code",
   "execution_count": null,
   "metadata": {
    "scrolled": false
   },
   "outputs": [],
   "source": [
    "homer_seqlet_pfms, homer_seqlet_enrichments = import_homer_pfms(homer_seqlet_results_path)\n",
    "num_motifs = len(homer_seqlet_pfms)\n",
    "for i in range(num_motifs):\n",
    "    print(\"Motif %d/%d: log enrichment = %d\" % (i + 1, num_motifs, homer_seqlet_enrichments[i]))\n",
    "    show_motif(homer_seqlet_pfms[i])"
   ]
  },
  {
   "cell_type": "markdown",
   "metadata": {},
   "source": [
    "**MEME on peaks**"
   ]
  },
  {
   "cell_type": "code",
   "execution_count": null,
   "metadata": {
    "scrolled": false
   },
   "outputs": [],
   "source": [
    "meme_peak_pfms, meme_peak_evalues = import_meme_pfms(meme_peak_results_path)\n",
    "num_motifs = len(meme_peak_pfms)\n",
    "for i in range(num_motifs):\n",
    "    print(\"Motif %d/%d: E-value = %s\" % (i + 1, num_motifs, meme_peak_evalues[i]))\n",
    "    show_motif(meme_peak_pfms[i])"
   ]
  },
  {
   "cell_type": "markdown",
   "metadata": {},
   "source": [
    "**MEME on seqlets**"
   ]
  },
  {
   "cell_type": "code",
   "execution_count": null,
   "metadata": {
    "scrolled": false
   },
   "outputs": [],
   "source": [
    "meme_seqlet_pfms, meme_seqlet_evalues = import_meme_pfms(meme_seqlet_results_path)\n",
    "num_motifs = len(meme_seqlet_pfms)\n",
    "for i in range(num_motifs):\n",
    "    print(\"Motif %d/%d: E-value = %s\" % (i + 1, num_motifs, meme_seqlet_evalues[i]))\n",
    "    show_motif(meme_seqlet_pfms[i])"
   ]
  }
 ],
 "metadata": {
  "kernelspec": {
   "display_name": "Python 3",
   "language": "python",
   "name": "python3"
  },
  "language_info": {
   "codemirror_mode": {
    "name": "ipython",
    "version": 3
   },
   "file_extension": ".py",
   "mimetype": "text/x-python",
   "name": "python",
   "nbconvert_exporter": "python",
   "pygments_lexer": "ipython3",
   "version": "3.7.4"
  }
 },
 "nbformat": 4,
 "nbformat_minor": 2
}
