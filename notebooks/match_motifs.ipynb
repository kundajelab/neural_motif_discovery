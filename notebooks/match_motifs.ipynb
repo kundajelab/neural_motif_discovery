{
 "cells": [
  {
   "cell_type": "code",
   "execution_count": null,
   "metadata": {},
   "outputs": [],
   "source": [
    "%%capture --no-display\n",
    "%load_ext autoreload\n",
    "%autoreload 2\n",
    "import sys\n",
    "import os\n",
    "sys.path.append(os.path.abspath(\"/users/amtseng/tfmodisco/src/\"))\n",
    "import motif_bench.read_motifs as read_motifs\n",
    "import motif_bench.match_motifs as match_motifs\n",
    "import modisco\n",
    "from modisco.visualization import viz_sequence\n",
    "import numpy as np"
   ]
  },
  {
   "cell_type": "code",
   "execution_count": null,
   "metadata": {},
   "outputs": [],
   "source": [
    "# Define parameters/fetch arguments\n",
    "tf_name = os.environ[\"TFM_RESULTS_TF_NAME\"]\n",
    "fold = int(os.environ[\"TFM_RESULTS_FOLD\"])\n",
    "if \"TFM_RESULTS_TASK_INDEX\" in os.environ:\n",
    "    task_index = int(os.environ[\"TFM_RESULTS_TASK_INDEX\"])\n",
    "else:\n",
    "    task_index = None\n",
    "    \n",
    "print(\"TF name: %s\" % tf_name)\n",
    "print(\"Fold: %s\" % fold)\n",
    "print(\"Task index: %s\" % task_index)"
   ]
  },
  {
   "cell_type": "markdown",
   "metadata": {},
   "source": [
    "[Skip to results](#results)"
   ]
  },
  {
   "cell_type": "code",
   "execution_count": null,
   "metadata": {},
   "outputs": [],
   "source": [
    "# Define paths and constants\n",
    "background_freqs = np.array([0.25, 0.25, 0.25, 0.25])\n",
    "other_folds = [i for i in range(1, 11) if i != fold]\n",
    "\n",
    "bench_base_path = \"/users/amtseng/tfmodisco/results/motif_benchmarks\"\n",
    "tfm_base_path = \"/users/amtseng/tfmodisco/results/tfmodisco\"\n",
    "\n",
    "if task_index is None:\n",
    "    bench_cond_path = os.path.join(bench_base_path, tf_name, \"%s_fold%d\" % (tf_name, fold))\n",
    "    tfm_results_path = os.path.join(tfm_base_path, tf_name, \"%s_tfm_fold%d.h5\" % (tf_name, fold))\n",
    "    tfm_other_fold_results_paths = [\n",
    "        os.path.join(tfm_base_path, tf_name, \"%s_tfm_fold%d.h5\" % (tf_name, f)) for f in other_folds\n",
    "    ]\n",
    "else:\n",
    "    bench_cond_path = os.path.join(bench_base_path, tf_name, \"%s_fold%d_task%d\" % (tf_name, fold, task_index))\n",
    "    tfm_results_path = os.path.join(tfm_base_path, tf_name, \"%s_tfm_fold%d_task%d.h5\" % (tf_name, fold, task_index))\n",
    "\n",
    "dichipmunk_peak_results_path = os.path.join(bench_cond_path, \"peaks\", \"dichipmunk\")\n",
    "homer_peak_results_path = os.path.join(bench_cond_path, \"peaks\", \"homer\")\n",
    "meme_peak_results_path = os.path.join(bench_cond_path, \"peaks\", \"meme\")\n",
    "dichipmunk_seqlet_results_path = os.path.join(bench_cond_path, \"seqlets\", \"dichipmunk\")\n",
    "homer_seqlet_results_path = os.path.join(bench_cond_path, \"seqlets\", \"homer\")\n",
    "meme_seqlet_results_path = os.path.join(bench_cond_path, \"seqlets\", \"meme\")"
   ]
  },
  {
   "cell_type": "markdown",
   "metadata": {},
   "source": [
    "### Helper functions"
   ]
  },
  {
   "cell_type": "code",
   "execution_count": null,
   "metadata": {},
   "outputs": [],
   "source": [
    "def info_content(track, pseudocount=0.001):\n",
    "    \"\"\"\n",
    "    Given an L x 4 track, computes information content for each base and\n",
    "    returns it as an L-array.\n",
    "    \"\"\"\n",
    "    num_bases = track.shape[1]\n",
    "    # Normalize track to probabilities along base axis\n",
    "    track_norm = (track + pseudocount) / (np.sum(track, axis=1, keepdims=True) + (num_bases * pseudocount))\n",
    "    ic = track_norm * np.log2(track_norm / np.expand_dims(background_freqs, axis=0))\n",
    "    return np.sum(ic, axis=1)"
   ]
  },
  {
   "cell_type": "code",
   "execution_count": null,
   "metadata": {},
   "outputs": [],
   "source": [
    "def show_motif(pfm):\n",
    "    ic = info_content(pfm)\n",
    "    viz_sequence.plot_weights(pfm * np.expand_dims(ic, axis=1))\n",
    "def show_motifs(pfms):\n",
    "    for pfm in pfms:\n",
    "        show_motif(pfm)"
   ]
  },
  {
   "cell_type": "markdown",
   "metadata": {},
   "source": [
    "### Import motifs"
   ]
  },
  {
   "cell_type": "code",
   "execution_count": null,
   "metadata": {},
   "outputs": [],
   "source": [
    "dichipmunk_peak_pfms, dichipmunk_peak_num_seqs = read_motifs.import_dichipmunk_pfms(dichipmunk_peak_results_path)\n",
    "dichipmunk_seqlet_pfms, dichipmunk_seqlet_num_seqs = read_motifs.import_dichipmunk_pfms(dichipmunk_seqlet_results_path)\n",
    "homer_peak_pfms, homer_peak_enrichments = read_motifs.import_homer_pfms(homer_peak_results_path)\n",
    "homer_seqlet_pfms, homer_seqlet_enrichments = read_motifs.import_homer_pfms(homer_seqlet_results_path)\n",
    "meme_peak_pfms, meme_peak_evalues = read_motifs.import_meme_pfms(meme_peak_results_path)\n",
    "meme_seqlet_pfms, meme_seqlet_evalues = read_motifs.import_meme_pfms(meme_seqlet_results_path)\n",
    "tfm_pfms, tfm_cwms, tfm_num_seqlets = read_motifs.import_tfmodisco_motifs(tfm_results_path)\n",
    "if task_index is None:\n",
    "    tfm_other_fold_pfms, tfm_other_fold_cwms, tf_other_fold_num_seqlets = zip(\n",
    "        *[read_motifs.import_tfmodisco_motifs(path) for path in tfm_other_fold_results_paths]\n",
    "    )"
   ]
  },
  {
   "cell_type": "markdown",
   "metadata": {},
   "source": [
    "<a id=\"results\"></a>\n",
    "### Match benchmarked motifs to TF-MoDISco motifs"
   ]
  },
  {
   "cell_type": "code",
   "execution_count": null,
   "metadata": {},
   "outputs": [],
   "source": [
    "dichipmunk_peak_matches = match_motifs.match_motifs(tfm_pfms, dichipmunk_peak_pfms)\n",
    "dichipmunk_seqlet_matches = match_motifs.match_motifs(tfm_pfms, dichipmunk_seqlet_pfms)\n",
    "homer_peak_matches = match_motifs.match_motifs(tfm_pfms, homer_peak_pfms)\n",
    "homer_seqlet_matches = match_motifs.match_motifs(tfm_pfms, homer_seqlet_pfms)\n",
    "meme_peak_matches = match_motifs.match_motifs(tfm_pfms, meme_peak_pfms)\n",
    "meme_seqlet_matches = match_motifs.match_motifs(tfm_pfms, meme_seqlet_pfms)"
   ]
  },
  {
   "cell_type": "code",
   "execution_count": null,
   "metadata": {
    "scrolled": true
   },
   "outputs": [],
   "source": [
    "# Show benchmark motifs matched to TF-MoDISco motifs\n",
    "for tfm_pfm_i, tfm_pfm in enumerate(tfm_pfms):\n",
    "    print(\"=======================================\")\n",
    "    print(\"TF-MoDISco motif %d\" % tfm_pfm_i)\n",
    "    show_motif(tfm_pfm)\n",
    "    print(\"---------------------------------------\")\n",
    "    bench_inds = np.where(dichipmunk_peak_matches == tfm_pfm_i)[0]\n",
    "    print(\"DiChIPMunk (peak) matches: %s\" % (\" \".join(bench_inds.astype(str)) if bench_inds.size else None))\n",
    "    show_motifs([dichipmunk_peak_pfms[i] for i in bench_inds])\n",
    "    print(\"---------------------------------------\")\n",
    "    bench_inds = np.where(dichipmunk_seqlet_matches == tfm_pfm_i)[0]\n",
    "    print(\"DiChIPMunk (seqlet) matches: %s\" % (\" \".join(bench_inds.astype(str)) if bench_inds.size else None))\n",
    "    show_motifs([dichipmunk_seqlet_pfms[i] for i in bench_inds])\n",
    "    print(\"---------------------------------------\")\n",
    "    bench_inds = np.where(homer_peak_matches == tfm_pfm_i)[0]\n",
    "    print(\"HOMER (peak) matches: %s\" % (\" \".join(bench_inds.astype(str)) if bench_inds.size else None))\n",
    "    show_motifs([homer_peak_pfms[i] for i in bench_inds])\n",
    "    print(\"---------------------------------------\")\n",
    "    bench_inds = np.where(homer_seqlet_matches == tfm_pfm_i)[0]\n",
    "    print(\"HOMER (seqlet) matches: %s\" % (\" \".join(bench_inds.astype(str)) if bench_inds.size else None))\n",
    "    show_motifs([homer_seqlet_pfms[i] for i in bench_inds])\n",
    "    print(\"---------------------------------------\")\n",
    "    bench_inds = np.where(meme_peak_matches == tfm_pfm_i)[0]\n",
    "    print(\"MEME (peak) matches: %s\" % (\" \".join(bench_inds.astype(str)) if bench_inds.size else None))\n",
    "    show_motifs([meme_peak_pfms[i] for i in bench_inds])\n",
    "    print(\"---------------------------------------\")\n",
    "    bench_inds = np.where(meme_seqlet_matches == tfm_pfm_i)[0]\n",
    "    print(\"MEME (seqlet) matches: %s\" % (\" \".join(bench_inds.astype(str)) if bench_inds.size else None))\n",
    "    show_motifs([meme_seqlet_pfms[i] for i in bench_inds])"
   ]
  },
  {
   "cell_type": "code",
   "execution_count": null,
   "metadata": {
    "scrolled": true
   },
   "outputs": [],
   "source": [
    "# Show leftover benchmark motifs not matched to any TF-MoDISco motifs\n",
    "bench_inds = np.where(dichipmunk_peak_matches == -1)[0]\n",
    "print(\"DiChIPMunk (peak) leftovers: %s\" % (\" \".join(bench_inds.astype(str)) if bench_inds.size else None))\n",
    "show_motifs([dichipmunk_peak_pfms[i] for i in bench_inds])\n",
    "print(\"---------------------------------------\")\n",
    "bench_inds = np.where(dichipmunk_seqlet_matches == -1)[0]\n",
    "print(\"DiChIPMunk (seqlet) leftovers: %s\" % (\" \".join(bench_inds.astype(str)) if bench_inds.size else None))\n",
    "show_motifs([dichipmunk_seqlet_pfms[i] for i in bench_inds])\n",
    "print(\"---------------------------------------\")\n",
    "bench_inds = np.where(homer_peak_matches == -1)[0]\n",
    "print(\"HOMER (peak) leftovers: %s\" % (\" \".join(bench_inds.astype(str)) if bench_inds.size else None))\n",
    "show_motifs([homer_peak_pfms[i] for i in bench_inds])\n",
    "print(\"---------------------------------------\")\n",
    "bench_inds = np.where(homer_seqlet_matches == -1)[0]\n",
    "print(\"HOMER (seqlet) leftovers: %s\" % (\" \".join(bench_inds.astype(str)) if bench_inds.size else None))\n",
    "show_motifs([homer_seqlet_pfms[i] for i in bench_inds])\n",
    "print(\"---------------------------------------\")\n",
    "bench_inds = np.where(meme_peak_matches == -1)[0]\n",
    "print(\"MEME (peak) leftovers: %s\" % (\" \".join(bench_inds.astype(str)) if bench_inds.size else None))\n",
    "show_motifs([meme_peak_pfms[i] for i in bench_inds])\n",
    "print(\"---------------------------------------\")\n",
    "bench_inds = np.where(meme_seqlet_matches == -1)[0]\n",
    "print(\"MEME (seqlet) leftovers: %s\" % (\" \".join(bench_inds.astype(str)) if bench_inds.size else None))\n",
    "show_motifs([meme_seqlet_pfms[i] for i in bench_inds])"
   ]
  },
  {
   "cell_type": "markdown",
   "metadata": {},
   "source": [
    "### Match TF-MoDISco motifs across folds\n",
    "This is only done if `task_index` is `None`"
   ]
  },
  {
   "cell_type": "code",
   "execution_count": null,
   "metadata": {},
   "outputs": [],
   "source": [
    "if task_index is None:\n",
    "    tfm_other_fold_matches = [\n",
    "        match_motifs.match_motifs(tfm_pfms, pfms) for pfms in tfm_other_fold_pfms\n",
    "    ]"
   ]
  },
  {
   "cell_type": "code",
   "execution_count": null,
   "metadata": {
    "scrolled": true
   },
   "outputs": [],
   "source": [
    "# Show other-fold TF-MoDISco motifs matched to this fold's TF-MoDISco motifs\n",
    "if task_index is None:\n",
    "    for tfm_pfm_i, tfm_pfm in enumerate(tfm_pfms):\n",
    "        print(\"=======================================\")\n",
    "        print(\"TF-MoDISco fold %d motif %d\" % (fold, tfm_pfm_i))\n",
    "        show_motif(tfm_pfm)\n",
    "        for f, other_fold in enumerate(other_folds):    \n",
    "            print(\"---------------------------------------\")\n",
    "            inds = np.where(tfm_other_fold_matches[f] == tfm_pfm_i)[0]\n",
    "            print(\"TF-MoDISco fold %d matches: %s\" % (other_fold, (\" \".join(inds.astype(str)) if inds.size else None)))\n",
    "            show_motifs([tfm_other_fold_pfms[f][i] for i in inds])"
   ]
  },
  {
   "cell_type": "code",
   "execution_count": null,
   "metadata": {},
   "outputs": [],
   "source": [
    "# Show leftover other-fold TF-MoDISco motifs not matched to any TF-MoDISco motifs\n",
    "if task_index is None:\n",
    "    for f, other_fold in enumerate(other_folds):    \n",
    "        print(\"---------------------------------------\")\n",
    "        inds = np.where(tfm_other_fold_matches[f] == -1)[0]\n",
    "        print(\"TF-MoDISco fold %d leftovers: %s\" % (other_fold, (\" \".join(inds.astype(str)) if inds.size else None)))\n",
    "        show_motifs([tfm_other_fold_pfms[f][i] for i in inds])"
   ]
  }
 ],
 "metadata": {
  "kernelspec": {
   "display_name": "Python 3",
   "language": "python",
   "name": "python3"
  },
  "language_info": {
   "codemirror_mode": {
    "name": "ipython",
    "version": 3
   },
   "file_extension": ".py",
   "mimetype": "text/x-python",
   "name": "python",
   "nbconvert_exporter": "python",
   "pygments_lexer": "ipython3",
   "version": "3.7.7"
  }
 },
 "nbformat": 4,
 "nbformat_minor": 2
}
