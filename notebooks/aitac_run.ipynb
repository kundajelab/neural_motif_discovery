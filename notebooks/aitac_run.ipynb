{
 "cells": [
  {
   "cell_type": "code",
   "execution_count": 1,
   "metadata": {},
   "outputs": [
    {
     "name": "stderr",
     "output_type": "stream",
     "text": [
      "/users/amtseng/miniconda3/envs/att-priors/lib/python3.7/site-packages/ipykernel_launcher.py:14: TqdmDeprecationWarning: This function will be removed in tqdm==5.0.0\n",
      "Please use `tqdm.notebook.tqdm` instead of `tqdm.tqdm_notebook`\n",
      "  \n"
     ]
    },
    {
     "data": {
      "application/vnd.jupyter.widget-view+json": {
       "model_id": "eb4853ab861d4573a378d262da8a150d",
       "version_major": 2,
       "version_minor": 0
      },
      "text/plain": [
       "HBox(children=(FloatProgress(value=1.0, bar_style='info', max=1.0), HTML(value='')))"
      ]
     },
     "metadata": {},
     "output_type": "display_data"
    },
    {
     "name": "stdout",
     "output_type": "stream",
     "text": [
      "\n"
     ]
    }
   ],
   "source": [
    "import sys\n",
    "import os\n",
    "sys.path.append(os.path.abspath(\"/users/amtseng/tfmodisco/AI-TAC\"))\n",
    "sys.path.append(os.path.abspath(\"/users/amtseng/tfmodisco/src/\"))\n",
    "import model.profile_performance as profile_performance\n",
    "import aitac\n",
    "import torch\n",
    "import numpy as np\n",
    "import pandas as pd\n",
    "import matplotlib.pyplot as plt\n",
    "import json\n",
    "import scipy.stats\n",
    "import tqdm\n",
    "tqdm.tqdm_notebook(range(0))\n",
    "from deeplift.dinuc_shuffle import dinuc_shuffle\n",
    "import shap\n",
    "from deeplift.visualization import viz_sequence"
   ]
  },
  {
   "cell_type": "markdown",
   "metadata": {},
   "source": [
    "### Import model and data"
   ]
  },
  {
   "cell_type": "code",
   "execution_count": 2,
   "metadata": {},
   "outputs": [],
   "source": [
    "model_path = \"/users/amtseng/tfmodisco/data/processed/AI-TAC/data/AITAC.ckpt\"\n",
    "num_classes = 81\n",
    "num_filters = 300\n",
    "model = aitac.ConvNet(num_classes, num_filters)\n",
    "model.load_state_dict(torch.load(model_path))\n",
    "\n",
    "model.eval()\n",
    "torch.set_grad_enabled(False)\n",
    "model = model.cuda()"
   ]
  },
  {
   "cell_type": "code",
   "execution_count": 3,
   "metadata": {},
   "outputs": [],
   "source": [
    "base_path = \"/users/amtseng/tfmodisco/data/processed/AI-TAC/data/\"\n",
    "# Normalized peak heights for all cell types\n",
    "cell_type_array = np.load(os.path.join(base_path, \"cell_type_array.npy\"))\n",
    "\n",
    "# One-hot-encoded sequences: N x 4 x 251\n",
    "one_hot_seqs = np.load(os.path.join(base_path, \"one_hot_seqs.npy\"))\n",
    "\n",
    "# ID assigned to each peak (OCR), in the same order as above 2 files\n",
    "peak_names = np.load(os.path.join(base_path, \"peak_names.npy\"))\n",
    "\n",
    "# Chromosome of each peak in the same order as above files, to easily split data\n",
    "chromosomes = np.load(os.path.join(base_path, \"chromosomes.npy\"))\n",
    "\n",
    "# Names of each immune cell type in the same order as cell_type_array.npy, along\n",
    "# with lineage designation of each cell type\n",
    "cell_type_names = np.load(os.path.join(base_path, \"cell_type_names.npy\"), allow_pickle=True)"
   ]
  },
  {
   "cell_type": "markdown",
   "metadata": {},
   "source": [
    "### Run data through model"
   ]
  },
  {
   "cell_type": "code",
   "execution_count": 4,
   "metadata": {},
   "outputs": [
    {
     "data": {
      "application/vnd.jupyter.widget-view+json": {
       "model_id": "7358b52c3c5c49758ce482852becf8a2",
       "version_major": 2,
       "version_minor": 0
      },
      "text/plain": [
       "HBox(children=(FloatProgress(value=0.0, max=3280.0), HTML(value='')))"
      ]
     },
     "metadata": {},
     "output_type": "display_data"
    },
    {
     "name": "stdout",
     "output_type": "stream",
     "text": [
      "\n"
     ]
    }
   ],
   "source": [
    "batch_size = 100\n",
    "num_samples = one_hot_seqs.shape[0]\n",
    "predictions = np.empty((num_samples, num_classes))\n",
    "activations = np.empty((num_samples, num_filters))\n",
    "act_index = np.empty((num_samples, num_filters))\n",
    "\n",
    "num_batches = int(np.ceil(num_samples / batch_size))\n",
    "for i in tqdm.notebook.trange(num_batches):\n",
    "    batch = one_hot_seqs[(i * batch_size) : ((i + 1) * batch_size)]\n",
    "    pred, act, act_ind = model(torch.tensor(batch).cuda().float())\n",
    "    predictions[(i * batch_size) : ((i + 1) * batch_size)] = pred.cpu().numpy()\n",
    "    activations[(i * batch_size) : ((i + 1) * batch_size)] = act.cpu().numpy()\n",
    "    act_index[(i * batch_size) : ((i + 1) * batch_size)] = act_ind.cpu().numpy()"
   ]
  },
  {
   "cell_type": "code",
   "execution_count": 5,
   "metadata": {},
   "outputs": [
    {
     "name": "stdout",
     "output_type": "stream",
     "text": [
      "Pearson correlation of predictions to actual values: 0.293024\n"
     ]
    }
   ],
   "source": [
    "pears = scipy.stats.pearsonr(np.ravel(predictions), np.ravel(cell_type_array))[0]\n",
    "print(\"Pearson correlation of predictions to actual values: %f\" % pears)"
   ]
  },
  {
   "cell_type": "code",
   "execution_count": 6,
   "metadata": {},
   "outputs": [
    {
     "data": {
      "text/plain": [
       "Text(0, 0.5, 'Number of examples')"
      ]
     },
     "execution_count": 6,
     "metadata": {},
     "output_type": "execute_result"
    },
    {
     "data": {
      "image/png": "[encoded data removed]",
      "text/plain": [
       "<Figure size 432x288 with 1 Axes>"
      ]
     },
     "metadata": {
      "needs_background": "light"
     },
     "output_type": "display_data"
    }
   ],
   "source": [
    "ind_corrs = profile_performance.pearson_corr(predictions, cell_type_array)\n",
    "plt.figure()\n",
    "plt.hist(ind_corrs, 50)\n",
    "plt.title(\"Correlation of predicted vs actual values over all tasks, for each example\")\n",
    "plt.xlabel(\"Pearson correlation\")\n",
    "plt.ylabel(\"Number of examples\")"
   ]
  },
  {
   "cell_type": "code",
   "execution_count": 44,
   "metadata": {},
   "outputs": [
    {
     "data": {
      "text/plain": [
       "(array([    41,     52,     58, ..., 327893, 327899, 327910]),)"
      ]
     },
     "execution_count": 44,
     "metadata": {},
     "output_type": "execute_result"
    }
   ],
   "source": [
    "np.where(ind_corrs > 0.75)"
   ]
  },
  {
   "cell_type": "markdown",
   "metadata": {},
   "source": [
    "### Compute importance scores"
   ]
  },
  {
   "cell_type": "code",
   "execution_count": 7,
   "metadata": {},
   "outputs": [],
   "source": [
    "def create_background(input_seq, input_length, bg_size=10, seed=20200127):\n",
    "    \"\"\"\n",
    "    From a pair of single inputs to the model, generates the set of background\n",
    "    inputs to perform interpretation against.\n",
    "    Arguments:\n",
    "        `input_seq`: a list of a single one-hot encoded input sequence of\n",
    "            shape 4 x I\n",
    "        `input_length`: length of input, I\n",
    "        `bg_size`: the number of background examples to generate.\n",
    "    Returns a single tensor in a list, where the tensor is G x 4 x I; these\n",
    "    are the background inputs, which consists of random dinuceotide-shuffles\n",
    "    of the original sequence.\n",
    "    \"\"\"\n",
    "    input_seq_bg_shape = (bg_size, 4, input_length)\n",
    "    if input_seq is None:\n",
    "        # For DeepSHAP PyTorch, the model inputs could be None, but something\n",
    "        # of the right shape still needs to be returned\n",
    "        return [torch.zeros(input_seq_bg_shape).cuda().float()]\n",
    "    else:\n",
    "        input_seq_np = input_seq[0].cpu().numpy()\n",
    "        input_seq_bg = np.empty(input_seq_bg_shape)\n",
    "        rng = np.random.RandomState(seed)\n",
    "        for i in range(bg_size):\n",
    "            input_seq_shuf = dinuc_shuffle(np.transpose(input_seq_np), rng=rng)\n",
    "            input_seq_bg[i] = np.transpose(input_seq_shuf)\n",
    "        return [torch.tensor(input_seq_bg).cuda().float()]"
   ]
  },
  {
   "cell_type": "code",
   "execution_count": 8,
   "metadata": {},
   "outputs": [],
   "source": [
    "def combine_mult_and_diffref(mult, orig_inp, bg_data):\n",
    "    \"\"\"\n",
    "    Computes the hypothetical contribution of any base in the input to the\n",
    "    output, given the multipliers for the background data. This will simulate\n",
    "    all possible base identities and compute a separate \"difference-from-\n",
    "    reference\" for each, averaging the product of the multipliers with these\n",
    "    differences, over the base identities. For the control profiles, the\n",
    "    returned contribution is 0.\n",
    "    Arguments:\n",
    "        `mult`: multipliers for the background data: a G x 4 x I array\n",
    "        `orig_inp`: the original target inputs to compute contributions for:\n",
    "            a list of a 4 x I array\n",
    "        `bg_data`: the background data: a G x 4 x I array\n",
    "    Returns the set of importance scores as a list of a 4 x I array.\n",
    "    Note that this rule is necessary because by default, the multipliers are\n",
    "    multiplied by the difference-from-reference (for each reference in the\n",
    "    background set). However, using the actual sequence as the target would not\n",
    "    allow getting hypothetical scores, as the resulting attributions use a\n",
    "    difference-from-reference wherever the target does _not_ have that base.\n",
    "    Thus, we compute the hypothetical scores manually by trying every possible\n",
    "    base as the target (instead of using the actual original target input).\n",
    "    To back-out the actual scores for the original target input, simply extract\n",
    "    the entries for the bases in the real input.\n",
    "    \"\"\"\n",
    "    # Things were passed in as singleton lists\n",
    "    input_mult, input_seq, input_seq_bg = mult[0], orig_inp[0], bg_data[0]\n",
    "    \n",
    "    # Allocate array to store hypothetical scores, one set for each background\n",
    "    # reference\n",
    "    input_seq_hyp_scores_eachref = np.empty_like(input_seq_bg)\n",
    "    \n",
    "    # Loop over input bases\n",
    "    for i in range(input_seq.shape[0]):\n",
    "        # Create hypothetical input of all one type of base\n",
    "        hyp_input_seq = np.zeros_like(input_seq)\n",
    "        hyp_input_seq[i, :] = 1\n",
    "\n",
    "        # Compute difference from reference for each reference\n",
    "        diff_from_ref = np.expand_dims(hyp_input_seq, axis=0) - input_seq_bg\n",
    "        # Shape: G x 4 x I\n",
    "\n",
    "        # Weight difference-from-reference by multipliers\n",
    "        contrib = diff_from_ref * input_mult\n",
    "\n",
    "        # Sum across bases axis; this computes the hypothetical score AS IF the\n",
    "        # the target sequence were all that base\n",
    "        input_seq_hyp_scores_eachref[:, i, :] = np.sum(contrib, axis=1)\n",
    "\n",
    "    # Average hypothetical scores across background references\n",
    "    input_seq_hyp_scores = np.mean(input_seq_hyp_scores_eachref, axis=0)\n",
    "    return [input_seq_hyp_scores]"
   ]
  },
  {
   "cell_type": "code",
   "execution_count": 38,
   "metadata": {},
   "outputs": [],
   "source": [
    "class WrapperModel(torch.nn.Module):\n",
    "    def __init__(self, inner_model, task_index):\n",
    "        \"\"\"\n",
    "        Takes an AI-TAC model and constructs wrapper model around it. This model\n",
    "        takes in the same input (i.e. input tensor of shape B x 4 x I). The\n",
    "        model will return an output of shape B x 1, which will be a single task's\n",
    "        output, or all outputs summed.\n",
    "        Arguments:\n",
    "            `inner_model`: an instantiated or loaded model from\n",
    "                `profile_model.profile_tf_binding_predictor`\n",
    "            `task_index`: a specific task index (0-indexed) to perform\n",
    "                explanations from (i.e. explanations will only be from the\n",
    "                specified outputs); by default explains all tasks\n",
    "        \"\"\"\n",
    "        super().__init__()\n",
    "        self.inner_model = inner_model\n",
    "        self.task_index = task_index\n",
    "        \n",
    "    def forward(self, input_seqs):\n",
    "        predictions, _, _ = self.inner_model(input_seqs)  # Shape: B x T\n",
    "        \n",
    "        # Standard-deviation-normalize the vectors\n",
    "        std = torch.std(predictions, dim=1, keepdim=True)  # Standard deviation, but don't explain them\n",
    "        normed = predictions / std  # Shape: B x T\n",
    "        \n",
    "        if self.task_index:\n",
    "            return normed[:, self.task_index : (self.task_index + 1)]\n",
    "        else:\n",
    "            return torch.sum(normed, dim=1, keepdim=True)"
   ]
  },
  {
   "cell_type": "code",
   "execution_count": 10,
   "metadata": {},
   "outputs": [],
   "source": [
    "def create_explainer(model, input_length, bg_size=10, task_index=None):\n",
    "    \"\"\"\n",
    "    Given a trained PyTorch model, creates a Shap DeepExplainer that returns\n",
    "    hypothetical scores for the input sequence.\n",
    "    Arguments:\n",
    "        `model`: a model from `aitac` to explain\n",
    "        `input_length`: length of input, I\n",
    "        `bg_size`: the number of background examples to generate.\n",
    "        `task_index`: a specific task index (0-indexed) to perform explanations\n",
    "            from (i.e. explanations will only be from the specified outputs); by\n",
    "            default explains all tasks\n",
    "    Returns a function that takes in input sequences, and outputs hypothetical\n",
    "    scores for the input sequences.\n",
    "    \"\"\"\n",
    "    wrapper_model = WrapperModel(model, task_index)\n",
    "    \n",
    "    bg_func = lambda input_seq: create_background(\n",
    "        input_seq, input_length, bg_size=bg_size, seed=None\n",
    "    )\n",
    "\n",
    "    explainer = shap.DeepExplainer(\n",
    "        model=wrapper_model,\n",
    "        data=bg_func,\n",
    "        combine_mult_and_diffref=combine_mult_and_diffref\n",
    "    )\n",
    "\n",
    "    def explain_fn(input_seqs):\n",
    "        \"\"\"\n",
    "        Given input sequences and control profiles, returns hypothetical scores\n",
    "        for the input sequences.\n",
    "        Arguments:\n",
    "            `input_seqs`: a B x I x 4 array\n",
    "            `cont_profs`: a B x T x O x 4 array\n",
    "        Returns a B x I x 4 array containing hypothetical importance scores for\n",
    "        each of the B input sequences.\n",
    "        \"\"\"\n",
    "        # Convert to tensors\n",
    "        input_seqs_t = torch.tensor(input_seqs).cuda().float()\n",
    "\n",
    "        return explainer.shap_values(\n",
    "            [input_seqs_t], progress_message=None\n",
    "        )[0]\n",
    "\n",
    "    return explain_fn"
   ]
  },
  {
   "cell_type": "code",
   "execution_count": 39,
   "metadata": {
    "scrolled": true
   },
   "outputs": [
    {
     "data": {
      "application/vnd.jupyter.widget-view+json": {
       "model_id": "34b0fa451ce24f2396f39611187ad74d",
       "version_major": 2,
       "version_minor": 0
      },
      "text/plain": [
       "HBox(children=(FloatProgress(value=0.0, max=3280.0), HTML(value='')))"
      ]
     },
     "metadata": {},
     "output_type": "display_data"
    },
    {
     "name": "stdout",
     "output_type": "stream",
     "text": [
      "Warning: unrecognized nn.Module: ConvNet; using regular gradients\n",
      "Warning: unrecognized nn.Module: ConvNet; using regular gradients\n",
      "Warning: unrecognized nn.Module: ConvNet; using regular gradients\n",
      "Warning: unrecognized nn.Module: ConvNet; using regular gradients\n",
      "Warning: unrecognized nn.Module: ConvNet; using regular gradients\n",
      "Warning: unrecognized nn.Module: ConvNet; using regular gradients\n",
      "Warning: unrecognized nn.Module: ConvNet; using regular gradients\n",
      "Warning: unrecognized nn.Module: ConvNet; using regular gradients\n",
      "Warning: unrecognized nn.Module: ConvNet; using regular gradients\n",
      "Warning: unrecognized nn.Module: ConvNet; using regular gradients\n",
      "Warning: unrecognized nn.Module: ConvNet; using regular gradients\n",
      "Warning: unrecognized nn.Module: ConvNet; using regular gradients\n",
      "Warning: unrecognized nn.Module: ConvNet; using regular gradients\n",
      "Warning: unrecognized nn.Module: ConvNet; using regular gradients\n",
      "Warning: unrecognized nn.Module: ConvNet; using regular gradients\n",
      "Warning: unrecognized nn.Module: ConvNet; using regular gradients\n",
      "Warning: unrecognized nn.Module: ConvNet; using regular gradients\n",
      "Warning: unrecognized nn.Module: ConvNet; using regular gradients\n",
      "Warning: unrecognized nn.Module: ConvNet; using regular gradients\n",
      "Warning: unrecognized nn.Module: ConvNet; using regular gradients\n",
      "Warning: unrecognized nn.Module: ConvNet; using regular gradients\n",
      "Warning: unrecognized nn.Module: ConvNet; using regular gradients\n",
      "Warning: unrecognized nn.Module: ConvNet; using regular gradients\n",
      "Warning: unrecognized nn.Module: ConvNet; using regular gradients\n",
      "Warning: unrecognized nn.Module: ConvNet; using regular gradients\n",
      "Warning: unrecognized nn.Module: ConvNet; using regular gradients\n",
      "Warning: unrecognized nn.Module: ConvNet; using regular gradients\n",
      "Warning: unrecognized nn.Module: ConvNet; using regular gradients\n",
      "Warning: unrecognized nn.Module: ConvNet; using regular gradients\n",
      "Warning: unrecognized nn.Module: ConvNet; using regular gradients\n",
      "Warning: unrecognized nn.Module: ConvNet; using regular gradients\n",
      "Warning: unrecognized nn.Module: ConvNet; using regular gradients\n",
      "Warning: unrecognized nn.Module: ConvNet; using regular gradients\n",
      "Warning: unrecognized nn.Module: ConvNet; using regular gradients\n",
      "Warning: unrecognized nn.Module: ConvNet; using regular gradients\n",
      "Warning: unrecognized nn.Module: ConvNet; using regular gradients\n",
      "Warning: unrecognized nn.Module: ConvNet; using regular gradients\n",
      "Warning: unrecognized nn.Module: ConvNet; using regular gradients\n",
      "Warning: unrecognized nn.Module: ConvNet; using regular gradients\n",
      "Warning: unrecognized nn.Module: ConvNet; using regular gradients\n",
      "Warning: unrecognized nn.Module: ConvNet; using regular gradients\n",
      "Warning: unrecognized nn.Module: ConvNet; using regular gradients\n",
      "Warning: unrecognized nn.Module: ConvNet; using regular gradients\n",
      "Warning: unrecognized nn.Module: ConvNet; using regular gradients\n",
      "Warning: unrecognized nn.Module: ConvNet; using regular gradients\n",
      "Warning: unrecognized nn.Module: ConvNet; using regular gradients\n",
      "Warning: unrecognized nn.Module: ConvNet; using regular gradients\n",
      "Warning: unrecognized nn.Module: ConvNet; using regular gradients\n",
      "Warning: unrecognized nn.Module: ConvNet; using regular gradients\n",
      "Warning: unrecognized nn.Module: ConvNet; using regular gradients\n",
      "Warning: unrecognized nn.Module: ConvNet; using regular gradients\n",
      "Warning: unrecognized nn.Module: ConvNet; using regular gradients\n",
      "Warning: unrecognized nn.Module: ConvNet; using regular gradients\n",
      "Warning: unrecognized nn.Module: ConvNet; using regular gradients\n",
      "Warning: unrecognized nn.Module: ConvNet; using regular gradients\n",
      "Warning: unrecognized nn.Module: ConvNet; using regular gradients\n",
      "Warning: unrecognized nn.Module: ConvNet; using regular gradients\n",
      "Warning: unrecognized nn.Module: ConvNet; using regular gradients\n",
      "Warning: unrecognized nn.Module: ConvNet; using regular gradients\n",
      "Warning: unrecognized nn.Module: ConvNet; using regular gradients\n",
      "Warning: unrecognized nn.Module: ConvNet; using regular gradients\n",
      "Warning: unrecognized nn.Module: ConvNet; using regular gradients\n",
      "Warning: unrecognized nn.Module: ConvNet; using regular gradients\n",
      "Warning: unrecognized nn.Module: ConvNet; using regular gradients\n",
      "Warning: unrecognized nn.Module: ConvNet; using regular gradients\n",
      "Warning: unrecognized nn.Module: ConvNet; using regular gradients\n",
      "Warning: unrecognized nn.Module: ConvNet; using regular gradients\n",
      "Warning: unrecognized nn.Module: ConvNet; using regular gradients\n",
      "Warning: unrecognized nn.Module: ConvNet; using regular gradients\n",
      "Warning: unrecognized nn.Module: ConvNet; using regular gradients\n",
      "Warning: unrecognized nn.Module: ConvNet; using regular gradients\n",
      "Warning: unrecognized nn.Module: ConvNet; using regular gradients\n",
      "Warning: unrecognized nn.Module: ConvNet; using regular gradients\n",
      "Warning: unrecognized nn.Module: ConvNet; using regular gradients\n",
      "Warning: unrecognized nn.Module: ConvNet; using regular gradients\n",
      "Warning: unrecognized nn.Module: ConvNet; using regular gradients\n",
      "Warning: unrecognized nn.Module: ConvNet; using regular gradients\n",
      "Warning: unrecognized nn.Module: ConvNet; using regular gradients\n",
      "Warning: unrecognized nn.Module: ConvNet; using regular gradients\n",
      "Warning: unrecognized nn.Module: ConvNet; using regular gradients\n",
      "Warning: unrecognized nn.Module: ConvNet; using regular gradients\n",
      "Warning: unrecognized nn.Module: ConvNet; using regular gradients\n",
      "Warning: unrecognized nn.Module: ConvNet; using regular gradients\n",
      "Warning: unrecognized nn.Module: ConvNet; using regular gradients\n",
      "Warning: unrecognized nn.Module: ConvNet; using regular gradients\n",
      "Warning: unrecognized nn.Module: ConvNet; using regular gradients\n",
      "Warning: unrecognized nn.Module: ConvNet; using regular gradients\n",
      "Warning: unrecognized nn.Module: ConvNet; using regular gradients\n",
      "Warning: unrecognized nn.Module: ConvNet; using regular gradients\n",
      "Warning: unrecognized nn.Module: ConvNet; using regular gradients\n",
      "Warning: unrecognized nn.Module: ConvNet; using regular gradients\n",
      "Warning: unrecognized nn.Module: ConvNet; using regular gradients\n",
      "Warning: unrecognized nn.Module: ConvNet; using regular gradients\n",
      "Warning: unrecognized nn.Module: ConvNet; using regular gradients\n",
      "Warning: unrecognized nn.Module: ConvNet; using regular gradients\n",
      "Warning: unrecognized nn.Module: ConvNet; using regular gradients\n",
      "Warning: unrecognized nn.Module: ConvNet; using regular gradients\n",
      "Warning: unrecognized nn.Module: ConvNet; using regular gradients\n",
      "Warning: unrecognized nn.Module: ConvNet; using regular gradients\n",
      "Warning: unrecognized nn.Module: ConvNet; using regular gradients\n"
     ]
    }
   ],
   "source": [
    "# Compute importance scores\n",
    "task_index = None  # Explain all tasks in aggregate\n",
    "\n",
    "torch.set_grad_enabled(True)\n",
    "input_length = one_hot_seqs.shape[2]\n",
    "\n",
    "explainer = create_explainer(model, input_length, task_index=task_index)\n",
    "\n",
    "hyp_scores = np.empty_like(one_hot_seqs)\n",
    "\n",
    "for i in tqdm.notebook.trange(num_batches):\n",
    "    batch = one_hot_seqs[(i * batch_size) : ((i + 1) * batch_size)]\n",
    "    hyp_scores[(i * batch_size) : ((i + 1) * batch_size)] = explainer(batch)\n",
    "    if i == 0:\n",
    "        break\n",
    "\n",
    "act_scores = hyp_scores * one_hot_seqs"
   ]
  },
  {
   "cell_type": "code",
   "execution_count": 45,
   "metadata": {},
   "outputs": [
    {
     "data": {
      "image/png": "[encoded data removed]",
      "text/plain": [
       "<Figure size 1440x144 with 1 Axes>"
      ]
     },
     "metadata": {
      "needs_background": "light"
     },
     "output_type": "display_data"
    },
    {
     "data": {
      "image/png": "[encoded data removed]",
      "text/plain": [
       "<Figure size 1440x144 with 1 Axes>"
      ]
     },
     "metadata": {
      "needs_background": "light"
     },
     "output_type": "display_data"
    }
   ],
   "source": [
    "viz_sequence.plot_weights(np.transpose(hyp_scores[41]))\n",
    "viz_sequence.plot_weights(np.transpose(act_scores[41]))"
   ]
  }
 ],
 "metadata": {
  "kernelspec": {
   "display_name": "Python 3",
   "language": "python",
   "name": "python3"
  },
  "language_info": {
   "codemirror_mode": {
    "name": "ipython",
    "version": 3
   },
   "file_extension": ".py",
   "mimetype": "text/x-python",
   "name": "python",
   "nbconvert_exporter": "python",
   "pygments_lexer": "ipython3",
   "version": "3.7.4"
  }
 },
 "nbformat": 4,
 "nbformat_minor": 2
}
