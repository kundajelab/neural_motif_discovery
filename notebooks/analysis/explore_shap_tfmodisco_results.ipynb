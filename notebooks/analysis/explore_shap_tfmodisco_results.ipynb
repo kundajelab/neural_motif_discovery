{
 "cells": [
  {
   "cell_type": "code",
   "execution_count": null,
   "metadata": {},
   "outputs": [],
   "source": [
    "import sys\n",
    "import os\n",
    "sys.path.append(os.path.abspath(\"../../src/\"))\n",
    "import plot.viz_sequence as viz_sequence\n",
    "import h5py\n",
    "import numpy as np\n",
    "import matplotlib.pyplot as plt\n",
    "import tqdm\n",
    "tqdm.tqdm_notebook()"
   ]
  },
  {
   "cell_type": "code",
   "execution_count": null,
   "metadata": {},
   "outputs": [],
   "source": [
    "# Path to SHAP scores and TF-MoDISco results\n",
    "base_path = \"/users/amtseng/tfmodisco/results/\"\n",
    "shap_scores_path = os.path.join(base_path, \"importance_scores/singletask_profile/GABPA_singletask_profile_fold9/task_7/GABPA_singletask_profile_task7_fold9_imp_scores.h5\")\n",
    "tfm_results_path = os.path.join(base_path, \"tfmodisco/singletask_profile/GABPA_singletask_profile_fold9/task_7/GABPA_singletask_profile_task7_fold9_count_tfm.h5\")\n",
    "hyp_score_key = \"count_hyp_scores\""
   ]
  },
  {
   "cell_type": "code",
   "execution_count": null,
   "metadata": {},
   "outputs": [],
   "source": [
    "with h5py.File(shap_scores_path, \"r\") as f:\n",
    "    hyp_scores = f[hyp_score_key]\n",
    "    input_seqs = f[\"input_seqs\"]\n",
    "    for index in np.random.choice(hyp_scores.shape[0], size=5, replace=False):\n",
    "        act_scores = hyp_scores[index] * input_seqs[index]\n",
    "        plt.figure(figsize=(20, 2))\n",
    "        plt.plot(np.sum(act_scores, axis=1))\n",
    "        plt.show()\n",
    "        viz_sequence.plot_weights(act_scores[960 : 1160], subticks_frequency=100)"
   ]
  },
  {
   "cell_type": "code",
   "execution_count": null,
   "metadata": {
    "scrolled": false
   },
   "outputs": [],
   "source": [
    "with h5py.File(tfm_results_path, \"r\") as f:\n",
    "    metaclusters = f[\"metacluster_idx_to_submetacluster_results\"]\n",
    "    num_metaclusters = len(metaclusters.keys())\n",
    "    for metacluster_i, metacluster_key in enumerate(metaclusters.keys()):\n",
    "        metacluster = metaclusters[metacluster_key]\n",
    "        print(\"Metacluster: %s (%d/%d)\" % (metacluster_key, metacluster_i + 1, num_metaclusters))\n",
    "        print(\"==========================================\")\n",
    "        if \"patterns\" not in metacluster[\"seqlets_to_patterns_result\"].keys():\n",
    "            continue\n",
    "        patterns = metacluster[\"seqlets_to_patterns_result\"][\"patterns\"]\n",
    "        num_patterns = len(patterns[\"all_pattern_names\"][:])\n",
    "        for pattern_i, pattern_name in enumerate(patterns[\"all_pattern_names\"][:]):\n",
    "            pattern_name = pattern_name.decode()\n",
    "            pattern = patterns[pattern_name]\n",
    "            seqlets = pattern[\"seqlets_and_alnmts\"][\"seqlets\"]\n",
    "\n",
    "            print(\"Pattern: %s (%d/%d)\" % (pattern_name, pattern_i + 1, num_patterns))\n",
    "            print(\"--------------------------------------\")\n",
    "\n",
    "            print(\"%d seqlets\" % len(seqlets))\n",
    "            print(\"Sequence\")\n",
    "            viz_sequence.plot_weights(pattern[\"sequence\"][\"fwd\"][:])\n",
    "            print(\"Hypothetical contributions\")\n",
    "            viz_sequence.plot_weights(pattern[\"task0_hypothetical_contribs\"][\"fwd\"][:])\n",
    "            print(\"Contribution_scores\")\n",
    "            viz_sequence.plot_weights(pattern[\"task0_contrib_scores\"][\"fwd\"][:])\n",
    "\n",
    "            pwm = pattern[\"sequence\"][\"fwd\"][:]\n",
    "            act_contribs = pattern[\"task0_contrib_scores\"][\"fwd\"][:]"
   ]
  }
 ],
 "metadata": {
  "kernelspec": {
   "display_name": "Python 3",
   "language": "python",
   "name": "python3"
  },
  "language_info": {
   "codemirror_mode": {
    "name": "ipython",
    "version": 3
   },
   "file_extension": ".py",
   "mimetype": "text/x-python",
   "name": "python",
   "nbconvert_exporter": "python",
   "pygments_lexer": "ipython3",
   "version": "3.7.7"
  }
 },
 "nbformat": 4,
 "nbformat_minor": 4
}
