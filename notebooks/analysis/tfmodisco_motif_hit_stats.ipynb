{
 "cells": [
  {
   "cell_type": "code",
   "execution_count": 1,
   "metadata": {},
   "outputs": [
    {
     "name": "stderr",
     "output_type": "stream",
     "text": [
      "/users/amtseng/miniconda3/envs/tfmodisco-mini/lib/python3.7/site-packages/ipykernel_launcher.py:15: TqdmDeprecationWarning: This function will be removed in tqdm==5.0.0\n",
      "Please use `tqdm.notebook.tqdm` instead of `tqdm.tqdm_notebook`\n",
      "  from ipykernel import kernelapp as app\n"
     ]
    },
    {
     "data": {
      "application/vnd.jupyter.widget-view+json": {
       "model_id": "4f57b4fee907406f9740e6349b00e939",
       "version_major": 2,
       "version_minor": 0
      },
      "text/plain": [
       "  0%|          | 0/1 [00:00<?, ?it/s]"
      ]
     },
     "metadata": {},
     "output_type": "display_data"
    },
    {
     "data": {
      "text/plain": [
       "<tqdm.notebook.tqdm_notebook at 0x7fc219ddc250>"
      ]
     },
     "execution_count": 1,
     "metadata": {},
     "output_type": "execute_result"
    }
   ],
   "source": [
    "import os\n",
    "import sys\n",
    "sys.path.append(os.path.abspath(\"/users/amtseng/tfmodisco/src/\"))\n",
    "sys.path.append(os.path.abspath(\"/users/amtseng/tfmodisco/notebooks/reports/\"))\n",
    "import util\n",
    "import plot.viz_sequence as viz_sequence\n",
    "from feature.util import one_hot_to_seq\n",
    "import h5py\n",
    "import numpy as np\n",
    "import pandas as pd\n",
    "import matplotlib.pyplot as plt\n",
    "import matplotlib.font_manager as font_manager\n",
    "import matplotlib.patches as patches\n",
    "import tqdm\n",
    "tqdm.tqdm_notebook(range(1))"
   ]
  },
  {
   "cell_type": "code",
   "execution_count": 2,
   "metadata": {},
   "outputs": [
    {
     "name": "stderr",
     "output_type": "stream",
     "text": [
      "/users/amtseng/miniconda3/envs/tfmodisco-mini/lib/python3.7/site-packages/ipykernel_launcher.py:4: MatplotlibDeprecationWarning: \n",
      "The createFontList function was deprecated in Matplotlib 3.2 and will be removed two minor releases later. Use FontManager.addfont instead.\n",
      "  after removing the cwd from sys.path.\n"
     ]
    }
   ],
   "source": [
    "# Plotting defaults\n",
    "font_manager.fontManager.ttflist.extend(\n",
    "    font_manager.createFontList(\n",
    "        font_manager.findSystemFonts(fontpaths=\"/users/amtseng/modules/fonts\")\n",
    "    )\n",
    ")\n",
    "plot_params = {\n",
    "    \"figure.titlesize\": 22,\n",
    "    \"axes.titlesize\": 22,\n",
    "    \"axes.labelsize\": 20,\n",
    "    \"legend.fontsize\": 18,\n",
    "    \"xtick.labelsize\": 16,\n",
    "    \"ytick.labelsize\": 16,\n",
    "    \"font.family\": \"Roboto\",\n",
    "    \"font.weight\": \"bold\",\n",
    "    \"svg.fonttype\": \"none\"\n",
    "}\n",
    "plt.rcParams.update(plot_params)"
   ]
  },
  {
   "cell_type": "markdown",
   "metadata": {},
   "source": [
    "### Define constants and paths"
   ]
  },
  {
   "cell_type": "code",
   "execution_count": 3,
   "metadata": {},
   "outputs": [],
   "source": [
    "tf_names = [\n",
    "    \"E2F6\", \"FOXA2\", \"SPI1\", \"CEBPB\", \"MAX\", \"GABPA\", \"MAFK\", \"JUND\", \"NR3C1-reddytime\", \"REST\"\n",
    "]\n",
    "\n",
    "tf_num_tasks = {\n",
    "    \"E2F6\": 2,\n",
    "    \"FOXA2\": 4,\n",
    "    \"SPI1\": 4,\n",
    "    \"CEBPB\": 7,\n",
    "    \"MAX\": 7,\n",
    "    \"GABPA\": 9,\n",
    "    \"MAFK\": 9,\n",
    "    \"JUND\": 14,\n",
    "    \"NR3C1-reddytime\": 16,\n",
    "    \"REST\": 20\n",
    "}\n",
    "\n",
    "tf_best_model_types = {\n",
    "    \"E2F6\": list(\"MM\"),\n",
    "    \"FOXA2\": list(\"SSMM\"),\n",
    "    \"SPI1\": list(\"MSSS\"),\n",
    "    \"CEBPB\": list(\"MMMMSMM\"),\n",
    "    \"MAX\": list(\"MMSMMSS\"),\n",
    "    \"GABPA\": list(\"MMMSMMMMM\"),\n",
    "    \"MAFK\": list(\"MMMMMMMMM\"),\n",
    "    \"JUND\": list(\"SMMSMSSSSSSSMS\"),\n",
    "    \"NR3C1-reddytime\": list(\"MMMSMMSMMMMSMMMM\"),\n",
    "    \"REST\": list(\"MMMMMMMMMSMMSMMSMMMM\")\n",
    "}"
   ]
  },
  {
   "cell_type": "markdown",
   "metadata": {},
   "source": [
    "### Helper functions"
   ]
  },
  {
   "cell_type": "code",
   "execution_count": 4,
   "metadata": {},
   "outputs": [],
   "source": [
    "def get_motif_hits_path(tf_name, model_type, task_index, hit_type):\n",
    "    \"\"\"\n",
    "    Gets the path to the cached results for _profile_ head, using\n",
    "    the given TF name, the model type (\"S\" or \"M\"), and a task index.\n",
    "    \"\"\"\n",
    "    assert model_type in (\"M\", \"S\")\n",
    "    assert hit_type in (\"tfm\", \"moods\")\n",
    "    \n",
    "    path_match = lambda path: path.startswith(tf_name + \"_\") and \"task%d_\" % task_index in path and path.endswith(\"_profile\")\n",
    "    \n",
    "    base_dir = \"/users/amtseng/tfmodisco/results/reports/motif_hits/cache/%s\" % hit_type\n",
    "    subdir = os.path.join(base_dir, \"multitask_profile_finetune\" if model_type == \"M\" else \"singletask_profile_finetune\")\n",
    "    results_dir = [\n",
    "        path for path, _, _ in os.walk(subdir) if path_match(os.path.basename(path))\n",
    "    ]\n",
    "    assert len(results_dir) == 1\n",
    "    return results_dir[0]"
   ]
  },
  {
   "cell_type": "code",
   "execution_count": 5,
   "metadata": {},
   "outputs": [],
   "source": [
    "def get_tfmodisco_results_path(tf_name, model_type, task_index):\n",
    "    \"\"\"\n",
    "    Gets the path to the cached results for _profile_ head, using\n",
    "    the given TF name, the model type (\"S\" or \"M\"), and a task index.\n",
    "    \"\"\"\n",
    "    assert model_type in (\"M\", \"S\")\n",
    "    \n",
    "    name_match = lambda name: name.startswith(tf_name + \"_\") and \"task%d_\" % task_index in name and name.endswith(\"_profile_tfm.h5\")\n",
    "    \n",
    "    base_dir = \"/users/amtseng/tfmodisco/results/tfmodisco\"\n",
    "    subdir = os.path.join(base_dir, \"multitask_profile_finetune\" if model_type == \"M\" else \"singletask_profile_finetune\")\n",
    "    \n",
    "    results_path = None\n",
    "    for path, _, names in os.walk(subdir):\n",
    "        for name in names:\n",
    "            if name_match(name):\n",
    "                assert results_path is None\n",
    "                results_path = os.path.join(path, name)\n",
    "    return results_path"
   ]
  },
  {
   "cell_type": "code",
   "execution_count": 6,
   "metadata": {},
   "outputs": [],
   "source": [
    "def import_motif_hits(tf_name, model_type, task_index, hit_type):\n",
    "    \"\"\"\n",
    "    From the given TF name, the model type (\"S\" or \"M\"), and a task\n",
    "    index, imports the set of filtered motif hits, from the _profile_\n",
    "    head. Uses the hit type specified.\n",
    "    \"\"\"\n",
    "    results_dir = get_motif_hits_path(tf_name, model_type, task_index, hit_type)\n",
    "    hits_path = os.path.join(results_dir, \"filtered_hits.tsv\")\n",
    "    return pd.read_csv(hits_path, sep=\"\\t\", header=0, index_col=False)"
   ]
  },
  {
   "cell_type": "code",
   "execution_count": 7,
   "metadata": {},
   "outputs": [],
   "source": [
    "def import_motif_hits_per_peak(tf_name, model_type, task_index, hit_type):\n",
    "    \"\"\"\n",
    "    From the given TF name, the model type (\"S\" or \"M\"), and a task\n",
    "    index, imports the set of number of motif hits per peak, from\n",
    "    the _profile_ head. Uses the hit type specified.\n",
    "    \"\"\"\n",
    "    results_dir = get_motif_hits_path(tf_name, model_type, task_index, hit_type)\n",
    "    peak_matched_hits_path = os.path.join(results_dir, \"peak_matched_hits.tsv\")\n",
    "    num_hits_per_peak = []\n",
    "    with open(peak_matched_hits_path, \"r\") as f:\n",
    "        next(f)  # Header\n",
    "        for line in f:\n",
    "            tokens = line.split(\"\\t\")\n",
    "            if not tokens[1].strip():\n",
    "                num_hits_per_peak.append(0)\n",
    "            else:\n",
    "                num_hits_per_peak.append(tokens[1].count(\",\") + 1)\n",
    "    return np.array(num_hits_per_peak)"
   ]
  },
  {
   "cell_type": "code",
   "execution_count": 8,
   "metadata": {},
   "outputs": [],
   "source": [
    "def import_all_motif_hits_per_peak(hit_type, keys=None):\n",
    "    \"\"\"\n",
    "    Imports all motif hit counts for all TFs and tasks, for the\n",
    "    given hit type. If specified, limits to given keys.\n",
    "    Returns a dictionary mapping tuple (TF name, task index) to arrays of\n",
    "    hits per peak.\n",
    "    \"\"\"\n",
    "    if not keys:\n",
    "        keys = [\n",
    "            (tf_name, task_index) for tf_name in tf_names for task_index in range(tf_num_tasks[tf_name])\n",
    "        ]\n",
    "    result = {}\n",
    "    for key in tqdm.notebook.tqdm(keys):\n",
    "        tf_name, task_index = key\n",
    "        model_type = tf_best_model_types[tf_name][task_index]\n",
    "        result[key] = import_motif_hits_per_peak(tf_name, model_type, task_index, hit_type)\n",
    "    return result"
   ]
  },
  {
   "cell_type": "code",
   "execution_count": 9,
   "metadata": {},
   "outputs": [],
   "source": [
    "def import_motif_hits_per_pattern(tf_name, model_type, task_index, hit_type):\n",
    "    \"\"\"\n",
    "    From the given TF name, the model type (\"S\" or \"M\"), and a task\n",
    "    index, imports the set of number of motif hits per pattern, from\n",
    "    the _profile_ head. Uses the hit type specified.\n",
    "    \"\"\"\n",
    "    results_dir = get_motif_hits_path(tf_name, model_type, task_index, hit_type)\n",
    "    motif_hits = import_motif_hits(tf_name, model_type, task_index, hit_type)\n",
    "    num_hits_per_pattern = {}\n",
    "    for key in np.unique(motif_hits[\"key\"]):\n",
    "        num_hits_per_pattern[key] = len(motif_hits[motif_hits[\"key\"] == key])\n",
    "    return num_hits_per_pattern"
   ]
  },
  {
   "cell_type": "code",
   "execution_count": 10,
   "metadata": {},
   "outputs": [],
   "source": [
    "def import_all_motif_hits_per_pattern(hit_type, keys=None):\n",
    "    \"\"\"\n",
    "    Imports all motif hit counts for all TFs and tasks, for the\n",
    "    given hit type. If specified, limits to given keys.\n",
    "    Returns a dictionary mapping tuple (TF name, task index) to dictionaries of\n",
    "    hits per motif key.\n",
    "    \"\"\"\n",
    "    if not keys:\n",
    "        keys = [\n",
    "            (tf_name, task_index) for tf_name in tf_names for task_index in range(tf_num_tasks[tf_name])\n",
    "        ]\n",
    "    result = {}\n",
    "    for key in tqdm.notebook.tqdm(keys):\n",
    "        tf_name, task_index = key\n",
    "        model_type = tf_best_model_types[tf_name][task_index]\n",
    "        result[key] = import_motif_hits_per_pattern(tf_name, model_type, task_index, hit_type)\n",
    "    return result"
   ]
  },
  {
   "cell_type": "code",
   "execution_count": 11,
   "metadata": {},
   "outputs": [],
   "source": [
    "def import_seqlets_per_pattern(tf_name, model_type, task_index):\n",
    "    \"\"\"\n",
    "    From the given TF name, the model type (\"S\" or \"M\"), and a task\n",
    "    index, imports the set of number of seqlets per pattern, from\n",
    "    the _profile_ head.\n",
    "    \"\"\"\n",
    "    tfm_results_path = get_tfmodisco_results_path(tf_name, model_type, task_index)\n",
    "    num_seqlets_per_pattern = {}\n",
    "\n",
    "    with h5py.File(tfm_results_path, \"r\") as f:\n",
    "        metaclusters = f[\"metacluster_idx_to_submetacluster_results\"]\n",
    "        num_metaclusters = len(metaclusters.keys())\n",
    "        for metacluster_i, metacluster_key in enumerate(metaclusters.keys()):\n",
    "            metacluster = metaclusters[metacluster_key]\n",
    "            if \"patterns\" not in metacluster[\"seqlets_to_patterns_result\"].keys():\n",
    "                continue\n",
    "            patterns = metacluster[\"seqlets_to_patterns_result\"][\"patterns\"]\n",
    "            num_patterns = len(patterns[\"all_pattern_names\"][:])\n",
    "            for pattern_i, pattern_name in enumerate(patterns[\"all_pattern_names\"][:]):\n",
    "                pattern_name = pattern_name.decode()\n",
    "                pattern = patterns[pattern_name]\n",
    "                seqlets = pattern[\"seqlets_and_alnmts\"][\"seqlets\"]\n",
    "                \n",
    "                motif_key = \"%s_%s\" % (metacluster_key.split(\"_\")[1], pattern_name.split(\"_\")[1])\n",
    "                num_seqlets_per_pattern[motif_key] = len(seqlets)\n",
    "    return num_seqlets_per_pattern"
   ]
  },
  {
   "cell_type": "code",
   "execution_count": 12,
   "metadata": {},
   "outputs": [],
   "source": [
    "def import_all_seqlets_per_pattern(keys=None):\n",
    "    \"\"\"\n",
    "    Imports all pattern seqlet counts for all TFs and tasks.\n",
    "    If specified, limits to given keys.\n",
    "    Returns a dictionary mapping tuple (TF name, task index) to\n",
    "    dictionaries of seqlet counts per motif key.\n",
    "    \"\"\"\n",
    "    if not keys:\n",
    "        keys = [\n",
    "            (tf_name, task_index) for tf_name in tf_names for task_index in range(tf_num_tasks[tf_name])\n",
    "        ]\n",
    "    result = {}\n",
    "    for key in tqdm.notebook.tqdm(keys):\n",
    "        tf_name, task_index = key\n",
    "        model_type = tf_best_model_types[tf_name][task_index]\n",
    "        result[key] = import_seqlets_per_pattern(tf_name, model_type, task_index)\n",
    "    return result"
   ]
  },
  {
   "cell_type": "markdown",
   "metadata": {},
   "source": [
    "### Import and plot motif hit stats"
   ]
  },
  {
   "cell_type": "code",
   "execution_count": 13,
   "metadata": {
    "scrolled": true
   },
   "outputs": [
    {
     "data": {
      "application/vnd.jupyter.widget-view+json": {
       "model_id": "49e78e41acff460197afddb0df66e780",
       "version_major": 2,
       "version_minor": 0
      },
      "text/plain": [
       "  0%|          | 0/92 [00:00<?, ?it/s]"
      ]
     },
     "metadata": {},
     "output_type": "display_data"
    },
    {
     "data": {
      "application/vnd.jupyter.widget-view+json": {
       "model_id": "75156b8ff9bf49139c0984c0a22dc08a",
       "version_major": 2,
       "version_minor": 0
      },
      "text/plain": [
       "  0%|          | 0/92 [00:00<?, ?it/s]"
      ]
     },
     "metadata": {},
     "output_type": "display_data"
    },
    {
     "data": {
      "application/vnd.jupyter.widget-view+json": {
       "model_id": "5b96f67af4d649f7bb0b66d5c3e3612f",
       "version_major": 2,
       "version_minor": 0
      },
      "text/plain": [
       "  0%|          | 0/92 [00:00<?, ?it/s]"
      ]
     },
     "metadata": {},
     "output_type": "display_data"
    }
   ],
   "source": [
    "cond_keys = [\n",
    "    (tf_name, task_index) for tf_name in tf_names for task_index in range(tf_num_tasks[tf_name])\n",
    "]\n",
    "\n",
    "hits_per_peak = import_all_motif_hits_per_peak(\"tfm\")\n",
    "hit_counts = import_all_motif_hits_per_pattern(\"tfm\")\n",
    "seqlet_counts = import_all_seqlets_per_pattern()"
   ]
  },
  {
   "cell_type": "code",
   "execution_count": 14,
   "metadata": {},
   "outputs": [
    {
     "data": {
      "image/png": "[encoded data removed]",
      "text/plain": [
       "<Figure size 1440x432 with 1 Axes>"
      ]
     },
     "metadata": {
      "needs_background": "light"
     },
     "output_type": "display_data"
    },
    {
     "name": "stdout",
     "output_type": "stream",
     "text": [
      "('GABPA', 1) 0.5196891735797543\n",
      "('JUND', 1) 0.5067617227693665\n",
      "('JUND', 12) 0.5036782520593807\n",
      "('REST', 4) 0.539676220806794\n",
      "('REST', 7) 0.5171068838100452\n",
      "('REST', 8) 0.6469264479450433\n",
      "('REST', 10) 0.5573003263747768\n",
      "('REST', 14) 0.5346240301646001\n",
      "('REST', 17) 0.6405046120455778\n",
      "('REST', 19) 0.6318698347107438\n"
     ]
    }
   ],
   "source": [
    "# Proportion of peaks without hits\n",
    "keys = hits_per_peak.keys()\n",
    "prop_peaks_without_hits = [\n",
    "    np.sum(hits_per_peak[key] == 0) / len(hits_per_peak[key]) for key in keys\n",
    "]\n",
    "\n",
    "fig, ax = plt.subplots(figsize=(20, 6))\n",
    "ax.hist(prop_peaks_without_hits, bins=30)\n",
    "ax.set_xlabel(\"Proportion of peaks without motif hits\")\n",
    "plt.show()\n",
    "\n",
    "for key, prop in zip(keys, prop_peaks_without_hits):\n",
    "    if prop > 0.5:\n",
    "        print(key, prop)"
   ]
  },
  {
   "cell_type": "code",
   "execution_count": 15,
   "metadata": {},
   "outputs": [
    {
     "data": {
      "image/png": "[encoded data removed]",
      "text/plain": [
       "<Figure size 1440x432 with 2 Axes>"
      ]
     },
     "metadata": {
      "needs_background": "light"
     },
     "output_type": "display_data"
    },
    {
     "name": "stdout",
     "output_type": "stream",
     "text": [
      "('GABPA', 1) 0.0\n",
      "('JUND', 1) 0.0\n",
      "('JUND', 12) 0.0\n",
      "('REST', 4) 0.0\n",
      "('REST', 7) 0.0\n",
      "('REST', 8) 0.0\n",
      "('REST', 10) 0.0\n",
      "('REST', 14) 0.0\n",
      "('REST', 17) 0.0\n",
      "('REST', 19) 0.0\n"
     ]
    }
   ],
   "source": [
    "# Mean and median number of hits per peak\n",
    "# Proportion of peaks without hits\n",
    "keys = hits_per_peak.keys()\n",
    "mean_hits_per_peak = [\n",
    "    np.mean(hits_per_peak[key]) for key in keys\n",
    "]\n",
    "median_hits_per_peak = [\n",
    "    np.median(hits_per_peak[key]) for key in keys\n",
    "]\n",
    "\n",
    "fig, ax = plt.subplots(nrows=2, sharex=True, figsize=(20, 6))\n",
    "ax[0].hist(mean_hits_per_peak, bins=30)\n",
    "ax[0].set_title(\"Mean hits per peak\")\n",
    "ax[1].hist(median_hits_per_peak, bins=30)\n",
    "ax[1].set_title(\"Median hits per peak\")\n",
    "ax[1].set_xlabel(\"Hits per peak\")\n",
    "plt.show()\n",
    "\n",
    "for key, val in zip(keys, median_hits_per_peak):\n",
    "    if val == 0:\n",
    "        print(key, val)"
   ]
  },
  {
   "cell_type": "code",
   "execution_count": 16,
   "metadata": {},
   "outputs": [
    {
     "name": "stdout",
     "output_type": "stream",
     "text": [
      "('GABPA', 0) 0_3 0.34432760760237735 0.030911658559548093\n",
      "('GABPA', 3) 0_2 0.5021568989955013 0.17061698791847274\n",
      "('GABPA', 4) 0_0 0.9161335349540537 0.5963581183611533\n",
      "('MAFK', 7) 0_0 0.25802147613121734 0.6055137549964731\n",
      "('MAFK', 7) 0_1 0.6102608182482969 0.3087820362097343\n",
      "('JUND', 1) 0_2 0.5515187611673615 0.1422027899229648\n",
      "('JUND', 2) 0_2 0.48443700396825395 0.11253298153034301\n",
      "('JUND', 5) 0_0 0.9330584060611873 0.609800111049417\n",
      "('REST', 9) 0_0 0.11444992268868337 0.512600162582743\n",
      "('REST', 9) 0_2 0.666977856871955 0.09034955289745675\n",
      "('REST', 13) 0_1 0.4695168226663294 0.15841313269493845\n",
      "('REST', 16) 0_3 0.47589143161255987 0.04767751176590956\n"
     ]
    },
    {
     "data": {
      "image/png": "[encoded data removed]",
      "text/plain": [
       "<Figure size 720x720 with 1 Axes>"
      ]
     },
     "metadata": {
      "needs_background": "light"
     },
     "output_type": "display_data"
    }
   ],
   "source": [
    "# Difference between number of hits per motif and number of seqlets per motif\n",
    "\n",
    "norm_dict = lambda d: {k : d[k] / np.sum(list(d.values())) for k in d}\n",
    "\n",
    "fig, ax = plt.subplots(figsize=(10, 10))\n",
    "for key in hit_counts.keys():\n",
    "    hit_counts_dict = norm_dict(hit_counts[key])\n",
    "    seqlet_counts_dict = norm_dict(seqlet_counts[key])\n",
    "    \n",
    "    motif_keys = list(hit_counts_dict.keys())\n",
    "    hc = np.array([hit_counts_dict[k] for k in motif_keys])\n",
    "    sc = np.array([seqlet_counts_dict[k] for k in motif_keys])\n",
    "    ax.scatter(hc, sc, alpha=0.3, color=\"royalblue\")\n",
    "    \n",
    "    too_diff = np.where(np.abs(hc - sc) > 0.3)[0]\n",
    "    if too_diff.size:\n",
    "        for i in too_diff:\n",
    "            print(key, motif_keys[i], hc[i], sc[i])\n",
    "\n",
    "ax.set_xlabel(\"Proportion of hits belonging to motif\")\n",
    "ax.set_ylabel(\"Proportion of seqlets belonging to motif\")\n",
    "(min_x, max_x), (min_y, max_y) = ax.get_xlim(), ax.get_ylim()\n",
    "min_both, max_both = min(min_x, min_y), max(max_x, max_y)\n",
    "ax.set_xlim(min_both, max_both)\n",
    "ax.set_ylim(min_both, max_both)\n",
    "ax.plot(\n",
    "    [min_both, max_both], [min_both, max_both],\n",
    "    color=\"black\", linestyle=\"--\", alpha=0.3, zorder=0\n",
    ")\n",
    "plt.show()"
   ]
  }
 ],
 "metadata": {
  "kernelspec": {
   "display_name": "Python 3",
   "language": "python",
   "name": "python3"
  },
  "language_info": {
   "codemirror_mode": {
    "name": "ipython",
    "version": 3
   },
   "file_extension": ".py",
   "mimetype": "text/x-python",
   "name": "python",
   "nbconvert_exporter": "python",
   "pygments_lexer": "ipython3",
   "version": "3.7.11"
  }
 },
 "nbformat": 4,
 "nbformat_minor": 4
}
