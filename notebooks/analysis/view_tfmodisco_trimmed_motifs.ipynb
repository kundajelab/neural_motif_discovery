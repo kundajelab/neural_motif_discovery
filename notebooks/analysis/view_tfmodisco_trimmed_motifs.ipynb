{
 "cells": [
  {
   "cell_type": "code",
   "execution_count": null,
   "metadata": {},
   "outputs": [],
   "source": [
    "import os\n",
    "import sys\n",
    "sys.path.append(os.path.abspath(\"/users/amtseng/tfmodisco/src/\"))\n",
    "sys.path.append(os.path.abspath(\"/users/amtseng/tfmodisco/notebooks/reports/\"))\n",
    "from util import figure_to_vdom_image\n",
    "import plot.viz_sequence as viz_sequence\n",
    "import numpy as np\n",
    "import h5py\n",
    "import matplotlib.pyplot as plt\n",
    "import vdom.helpers as vdomh\n",
    "from IPython.display import display"
   ]
  },
  {
   "cell_type": "markdown",
   "metadata": {},
   "source": [
    "### Define constants and paths"
   ]
  },
  {
   "cell_type": "code",
   "execution_count": null,
   "metadata": {
    "scrolled": true
   },
   "outputs": [],
   "source": [
    "# Define parameters/fetch arguments\n",
    "\n",
    "tf_name = \"REST\"\n",
    "model_type = \"MTFT\"\n",
    "fold_num = 7\n",
    "task_index = None\n",
    "head = \"count\"\n",
    "\n",
    "assert model_type in (\"STFT\", \"MTFT\")\n",
    "assert head in (\"profile\", \"count\")\n",
    "\n",
    "if model_type == \"STFT\":\n",
    "    motif_file = os.path.join(\n",
    "        \"/users/amtseng/tfmodisco/results/reports/tfmodisco_results/cache/\",\n",
    "        \"singletask_profile_finetune\",\n",
    "        \"%s_singletask_profile_finetune_fold%d\" % (tf_name, fold_num),\n",
    "        \"task_%d\" % task_index,\n",
    "        \"%s_singletask_profile_finetune_task%d_fold%d_%s\" % (tf_name, task_index, fold_num, head),\n",
    "        \"all_motifs.h5\"\n",
    "    )\n",
    "else:\n",
    "    motif_file = os.path.join(\n",
    "        \"/users/amtseng/tfmodisco/results/reports/tfmodisco_results/cache/\",\n",
    "        \"multitask_profile_finetune\",\n",
    "        \"%s_multitask_profile_finetune_fold%d\" % (tf_name, fold_num)\n",
    "    )\n",
    "    if task_index is None:\n",
    "        motif_file = os.path.join(\n",
    "            motif_file,\n",
    "            \"%s_multitask_profile_finetune_fold%d_%s\" % (tf_name, fold_num, head),\n",
    "            \"all_motifs.h5\"\n",
    "        )\n",
    "    else:\n",
    "        motif_file = os.path.join(\n",
    "            motif_file,\n",
    "            \"%s_multitask_profile_finetune_task%d_fold%d_%s\" % (tf_name, task_index, fold_num, head),\n",
    "            \"all_motifs.h5\"\n",
    "        )\n",
    "\n",
    "print(\"Motif file: %s\" % motif_file)"
   ]
  },
  {
   "cell_type": "markdown",
   "metadata": {},
   "source": [
    "### Helper functions\n",
    "For plotting and organizing things"
   ]
  },
  {
   "cell_type": "code",
   "execution_count": null,
   "metadata": {},
   "outputs": [],
   "source": [
    "def import_motifs(motif_file):\n",
    "    \"\"\"\n",
    "    Imports a set of motifs from the saved HDF5 file.\n",
    "    Returns a list of motifs as L x 4 arrays and a parallel list of\n",
    "    motif names\n",
    "    \"\"\"\n",
    "    motifs, motif_names = [], []\n",
    "    with h5py.File(motif_file, \"r\") as f:\n",
    "        for key in f.keys():\n",
    "            motif_names.append(key)\n",
    "            motifs.append(f[key][\"cwm_trimmed\"][:])\n",
    "    return motifs, motif_names"
   ]
  },
  {
   "cell_type": "markdown",
   "metadata": {},
   "source": [
    "### Show motifs"
   ]
  },
  {
   "cell_type": "code",
   "execution_count": null,
   "metadata": {},
   "outputs": [],
   "source": [
    "motifs, motif_names = import_motifs(motif_file)"
   ]
  },
  {
   "cell_type": "code",
   "execution_count": null,
   "metadata": {},
   "outputs": [],
   "source": [
    "# Flip all motifs to be the purine-rich version\n",
    "for i, motif in enumerate(motifs):\n",
    "    if np.sum(motif[:, [0, 2]]) < 0.5 * np.sum(motif):\n",
    "        motifs[i] = np.flip(motif)"
   ]
  },
  {
   "cell_type": "code",
   "execution_count": null,
   "metadata": {
    "scrolled": false
   },
   "outputs": [],
   "source": [
    "# Show aggregated and constituent motifs for each cluster\n",
    "colgroup = vdomh.colgroup(\n",
    "    vdomh.col(style={\"width\": \"5%\"}),\n",
    "    vdomh.col(style={\"width\": \"95%\"})\n",
    ")\n",
    "\n",
    "header = vdomh.thead(\n",
    "    vdomh.tr(\n",
    "        vdomh.th(\"Motif key\", style={\"text-align\": \"center\"}),\n",
    "        vdomh.th(\"CWM\", style={\"text-align\": \"center\"})\n",
    "    )\n",
    ")\n",
    "\n",
    "rows = []\n",
    "for i in sorted(range(len(motifs)), key=lambda i: (int(motif_names[i].split(\"_\")[0]), int(motif_names[i].split(\"_\")[1]))):\n",
    "    motif_key, motif = motif_names[i], motifs[i]\n",
    "    fig = viz_sequence.plot_weights(motif, figsize=(20, 4), return_fig=True)\n",
    "    fig.tight_layout()\n",
    "    rows.append(\n",
    "        vdomh.tr(\n",
    "            vdomh.td(motif_key),\n",
    "            vdomh.td(figure_to_vdom_image(fig))\n",
    "        )\n",
    "    )\n",
    "\n",
    "display(vdomh.table(colgroup, header, vdomh.tbody(*rows)))\n",
    "plt.close(\"all\")"
   ]
  }
 ],
 "metadata": {
  "kernelspec": {
   "display_name": "Python 3",
   "language": "python",
   "name": "python3"
  },
  "language_info": {
   "codemirror_mode": {
    "name": "ipython",
    "version": 3
   },
   "file_extension": ".py",
   "mimetype": "text/x-python",
   "name": "python",
   "nbconvert_exporter": "python",
   "pygments_lexer": "ipython3",
   "version": "3.7.7"
  }
 },
 "nbformat": 4,
 "nbformat_minor": 4
}
