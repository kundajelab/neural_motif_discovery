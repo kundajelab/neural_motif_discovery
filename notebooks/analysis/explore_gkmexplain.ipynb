{
 "cells": [
  {
   "cell_type": "code",
   "execution_count": null,
   "metadata": {},
   "outputs": [],
   "source": [
    "import sys\n",
    "import os\n",
    "sys.path.append(os.path.abspath(\"../src/\"))\n",
    "import deeplift.visualization.viz_sequence as viz_sequence\n",
    "from feature.util import file_line_count\n",
    "import h5py\n",
    "import numpy as np\n",
    "import tqdm\n",
    "tqdm.tqdm_notebook()"
   ]
  },
  {
   "cell_type": "markdown",
   "metadata": {},
   "source": [
    "### Define constants/paths"
   ]
  },
  {
   "cell_type": "code",
   "execution_count": null,
   "metadata": {},
   "outputs": [],
   "source": [
    "# Constants\n",
    "input_length = 1000\n",
    "\n",
    "tf_name = \"FOXA2\"\n",
    "task_name = \"FOXA2_ENCSR000BNI_HepG2\"\n",
    "fold_num = 7"
   ]
  },
  {
   "cell_type": "code",
   "execution_count": null,
   "metadata": {},
   "outputs": [],
   "source": [
    "# Path to GKMExplain results\n",
    "base_path = \"/users/amtseng/tfmodisco/results/svm_importance\"\n",
    "gkme_scores_path = os.path.join(base_path, \"%s/%s/%d.expl.txt\" % (tf_name, task_name, fold_num))"
   ]
  },
  {
   "cell_type": "markdown",
   "metadata": {},
   "source": [
    "### Import importance scores"
   ]
  },
  {
   "cell_type": "code",
   "execution_count": null,
   "metadata": {},
   "outputs": [],
   "source": [
    "def import_gkme_scores(scores_path, seq_length):\n",
    "    num_seqs = file_line_count(gkme_scores_path)\n",
    "    hyp_scores = np.empty((num_seqs, seq_length, 4))\n",
    "    coords = np.empty((num_seqs, 3), dtype=object)\n",
    "    with open(gkme_scores_path, \"r\") as f:\n",
    "        for i in tqdm.notebook.trange(num_seqs):\n",
    "            line = next(f)\n",
    "            coord, svm_score, imp_scores = line.strip().split(\"\\t\")\n",
    "            chrom, start, end, _ = coord.split(\"_\")\n",
    "            coords[i][0] = chrom\n",
    "            start, end = int(start), int(end)\n",
    "            assert end - start == seq_length\n",
    "            coords[i][1], coords[i][2] = start, end\n",
    "            for j, base_scores in enumerate(imp_scores.split(\";\")):\n",
    "                base_scores = np.array(base_scores.split(\",\"), dtype=float)\n",
    "                hyp_scores[i, j] = base_scores\n",
    "    return coords, hyp_scores"
   ]
  },
  {
   "cell_type": "code",
   "execution_count": null,
   "metadata": {},
   "outputs": [],
   "source": [
    "coords, hyp_scores = import_gkme_scores(gkme_scores_path, input_length)"
   ]
  },
  {
   "cell_type": "markdown",
   "metadata": {},
   "source": [
    "### View importance score tracks"
   ]
  },
  {
   "cell_type": "code",
   "execution_count": null,
   "metadata": {},
   "outputs": [],
   "source": [
    "for index in np.random.choice(hyp_scores.shape[0], size=5, replace=False):\n",
    "    viz_sequence.plot_weights(hyp_scores[index][400:600], subticks_frequency=100)"
   ]
  }
 ],
 "metadata": {
  "kernelspec": {
   "display_name": "Python 3",
   "language": "python",
   "name": "python3"
  },
  "language_info": {
   "codemirror_mode": {
    "name": "ipython",
    "version": 3
   },
   "file_extension": ".py",
   "mimetype": "text/x-python",
   "name": "python",
   "nbconvert_exporter": "python",
   "pygments_lexer": "ipython3",
   "version": "3.7.4"
  }
 },
 "nbformat": 4,
 "nbformat_minor": 4
}
