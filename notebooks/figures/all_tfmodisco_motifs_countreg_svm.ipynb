{
 "cells": [
  {
   "cell_type": "code",
   "execution_count": 1,
   "metadata": {},
   "outputs": [],
   "source": [
    "import os\n",
    "import sys\n",
    "sys.path.append(os.path.abspath(\"/users/amtseng/tfmodisco/notebooks/reports/\"))\n",
    "sys.path.append(os.path.abspath(\"/users/amtseng/tfmodisco/src/\"))\n",
    "import plot.viz_sequence as viz_sequence\n",
    "import motif.read_motifs as read_motifs\n",
    "import h5py\n",
    "import numpy as np\n",
    "import matplotlib.pyplot as plt\n",
    "import matplotlib.font_manager as font_manager"
   ]
  },
  {
   "cell_type": "code",
   "execution_count": 2,
   "metadata": {},
   "outputs": [
    {
     "name": "stderr",
     "output_type": "stream",
     "text": [
      "/users/amtseng/miniconda3/envs/tfmodisco-mini/lib/python3.7/site-packages/ipykernel_launcher.py:4: MatplotlibDeprecationWarning: \n",
      "The createFontList function was deprecated in Matplotlib 3.2 and will be removed two minor releases later. Use FontManager.addfont instead.\n",
      "  after removing the cwd from sys.path.\n"
     ]
    }
   ],
   "source": [
    "# Plotting defaults\n",
    "font_manager.fontManager.ttflist.extend(\n",
    "    font_manager.createFontList(\n",
    "        font_manager.findSystemFonts(fontpaths=\"/users/amtseng/modules/fonts\")\n",
    "    )\n",
    ")\n",
    "plot_params = {\n",
    "    \"figure.titlesize\": 22,\n",
    "    \"axes.titlesize\": 22,\n",
    "    \"axes.labelsize\": 20,\n",
    "    \"legend.fontsize\": 18,\n",
    "    \"xtick.labelsize\": 16,\n",
    "    \"ytick.labelsize\": 16,\n",
    "    \"font.family\": \"Roboto\",\n",
    "    \"font.weight\": \"bold\",\n",
    "    \"svg.fonttype\": \"none\"\n",
    "}\n",
    "plt.rcParams.update(plot_params)"
   ]
  },
  {
   "cell_type": "code",
   "execution_count": 3,
   "metadata": {},
   "outputs": [],
   "source": [
    "if \"TFM_TF_NAME\" in os.environ:\n",
    "    tf_name = os.environ[\"TFM_TF_NAME\"]\n",
    "else:\n",
    "    tf_name = \"MAX\""
   ]
  },
  {
   "cell_type": "code",
   "execution_count": 4,
   "metadata": {},
   "outputs": [],
   "source": [
    "countreg_out_path = \"/users/amtseng/tfmodisco/figures/all_tfmodisco_motifs/%s_all_tfmodisco_motifs_countreg\" % tf_name\n",
    "svm_out_path = \"/users/amtseng/tfmodisco/figures/all_tfmodisco_motifs/%s_all_tfmodisco_motifs_svm\" % tf_name\n",
    "os.makedirs(countreg_out_path, exist_ok=True)\n",
    "os.makedirs(svm_out_path, exist_ok=True)\n",
    "\n",
    "tf_num_tasks = {\n",
    "    \"FOXA2\": 4,\n",
    "    \"SPI1\": 4,\n",
    "    \"MAX\": 7,\n",
    "}\n",
    "\n",
    "num_tasks = tf_num_tasks[tf_name]\n",
    "\n",
    "countreg_motif_file = \"/users/amtseng/tfmodisco/results/motifs/tfmodisco/countreg/%s_countreg_tfmodisco_motifs.h5\" % tf_name\n",
    "svm_motif_file = \"/users/amtseng/tfmodisco/results/motifs/tfmodisco/svm/%s_svm_tfmodisco_motifs.h5\" % tf_name"
   ]
  },
  {
   "cell_type": "markdown",
   "metadata": {},
   "source": [
    "### Helper functions"
   ]
  },
  {
   "cell_type": "code",
   "execution_count": 5,
   "metadata": {},
   "outputs": [],
   "source": [
    "def renorm_motif(motif, pseudocount=1e-10):\n",
    "    \"\"\"\n",
    "    Renormalizes a motif (L x 4 array) so that the bases sum to 1.\n",
    "    \"\"\"\n",
    "    s = np.sum(motif, axis=1, keepdims=True)\n",
    "    assert np.all(s > 0)\n",
    "    return motif / s"
   ]
  },
  {
   "cell_type": "code",
   "execution_count": 6,
   "metadata": {},
   "outputs": [],
   "source": [
    "def import_countreg_svm_tfmodisco_motifs(motif_file):\n",
    "    \"\"\"\n",
    "    From a file containing all motifs for that TF, imports the\n",
    "    trimmed PFMs, CWMs, and hCWMs for each task.\n",
    "    Returns a list of dictionaries (one for each task), where\n",
    "    each dictionary maps motif key to tuple of PFM, CWM, and hCWM.\n",
    "    \"\"\"\n",
    "    motifs = []\n",
    "    with h5py.File(motif_file, \"r\") as f:\n",
    "        for i in range(num_tasks):\n",
    "            task = \"task_%d\" % i\n",
    "            dset = f[task]\n",
    "            task_motifs = {}\n",
    "            for motif_key in dset.keys():\n",
    "                pfm, cwm, hcwm = \\\n",
    "                    dset[motif_key][\"pfm_trimmed\"][:], dset[motif_key][\"cwm_trimmed\"][:], dset[motif_key][\"hcwm_trimmed\"][:]\n",
    "\n",
    "                pfm = renorm_motif(pfm) \n",
    "                if np.sum(cwm[:, [0, 2]]) < 0.5 * np.sum(cwm):\n",
    "                    pfm, cwm, hcwm = np.flip(pfm), np.flip(cwm), np.flip(hcwm)\n",
    "\n",
    "                task_motifs[\"T%d:%s\" % (i, motif_key)] = (pfm, cwm, hcwm)\n",
    "            motifs.append(task_motifs)\n",
    "    return motifs"
   ]
  },
  {
   "cell_type": "markdown",
   "metadata": {},
   "source": [
    "### Import and save motifs"
   ]
  },
  {
   "cell_type": "code",
   "execution_count": 7,
   "metadata": {},
   "outputs": [],
   "source": [
    "countreg_tfm_motifs = import_countreg_svm_tfmodisco_motifs(countreg_motif_file)\n",
    "svm_tfm_motifs = import_countreg_svm_tfmodisco_motifs(svm_motif_file)"
   ]
  },
  {
   "cell_type": "code",
   "execution_count": 8,
   "metadata": {},
   "outputs": [],
   "source": [
    "for tfm_motifs, out_path in [(countreg_tfm_motifs, countreg_out_path), (svm_tfm_motifs, svm_out_path)]:\n",
    "    for task_index, task_motif_dict in enumerate(tfm_motifs):\n",
    "        for key, (pfm, cwm, hcwm) in task_motif_dict.items():\n",
    "            fig = viz_sequence.plot_weights(\n",
    "                read_motifs.pfm_to_pwm(pfm),\n",
    "                subticks_frequency=100, figsize=(20, 4), return_fig=True\n",
    "            )\n",
    "            fig.tight_layout()\n",
    "            plt.savefig(\n",
    "                os.path.join(out_path, \"%s_task%d_%s_pwm.svg\" % (tf_name, task_index, key)),\n",
    "                format=\"svg\"\n",
    "            )\n",
    "\n",
    "            fig = viz_sequence.plot_weights(\n",
    "                cwm, subticks_frequency=100, figsize=(20, 4), return_fig=True\n",
    "            )\n",
    "            fig.tight_layout()\n",
    "            plt.savefig(\n",
    "                os.path.join(out_path, \"%s_task%d_%s_cwm.svg\" % (tf_name, task_index, key)),\n",
    "                format=\"svg\"\n",
    "            )\n",
    "\n",
    "            fig = viz_sequence.plot_weights(\n",
    "                hcwm, subticks_frequency=100, figsize=(20, 4), return_fig=True\n",
    "            )\n",
    "            fig.tight_layout()\n",
    "            plt.savefig(\n",
    "                os.path.join(out_path, \"%s_task%d_%s_hcwm.svg\" % (tf_name, task_index, key)),\n",
    "                format=\"svg\"\n",
    "            )\n",
    "\n",
    "            plt.close(\"all\")"
   ]
  }
 ],
 "metadata": {
  "kernelspec": {
   "display_name": "Python 3",
   "language": "python",
   "name": "python3"
  },
  "language_info": {
   "codemirror_mode": {
    "name": "ipython",
    "version": 3
   },
   "file_extension": ".py",
   "mimetype": "text/x-python",
   "name": "python",
   "nbconvert_exporter": "python",
   "pygments_lexer": "ipython3",
   "version": "3.7.11"
  }
 },
 "nbformat": 4,
 "nbformat_minor": 4
}
