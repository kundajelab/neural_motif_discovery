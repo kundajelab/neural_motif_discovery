{
 "cells": [
  {
   "cell_type": "code",
   "execution_count": null,
   "metadata": {},
   "outputs": [],
   "source": [
    "import os\n",
    "import sys\n",
    "sys.path.append(os.path.abspath(\"/users/amtseng/tfmodisco/notebooks/reports/\"))\n",
    "sys.path.append(os.path.abspath(\"/users/amtseng/tfmodisco/src/\"))\n",
    "import motif.read_motifs as read_motifs\n",
    "import plot.viz_sequence as viz_sequence\n",
    "from util import motif_similarity_score, purine_rich_motif\n",
    "import h5py\n",
    "import numpy as np\n",
    "import pandas as pd\n",
    "import matplotlib.pyplot as plt\n",
    "import matplotlib.font_manager as font_manager\n",
    "import vdom.helpers as vdomh\n",
    "from IPython.display import display"
   ]
  },
  {
   "cell_type": "code",
   "execution_count": null,
   "metadata": {},
   "outputs": [],
   "source": [
    "# Plotting defaults\n",
    "font_manager.fontManager.ttflist.extend(\n",
    "    font_manager.createFontList(\n",
    "        font_manager.findSystemFonts(fontpaths=\"/users/amtseng/modules/fonts\")\n",
    "    )\n",
    ")\n",
    "plot_params = {\n",
    "    \"figure.titlesize\": 22,\n",
    "    \"axes.titlesize\": 22,\n",
    "    \"axes.labelsize\": 20,\n",
    "    \"legend.fontsize\": 18,\n",
    "    \"xtick.labelsize\": 16,\n",
    "    \"ytick.labelsize\": 16,\n",
    "    \"font.family\": \"Roboto\",\n",
    "    \"font.weight\": \"bold\",\n",
    "    \"svg.fonttype\": \"none\"\n",
    "}\n",
    "plt.rcParams.update(plot_params)"
   ]
  },
  {
   "cell_type": "code",
   "execution_count": null,
   "metadata": {},
   "outputs": [],
   "source": [
    "if \"TFM_TF_NAME\" in os.environ:\n",
    "    tf_name = os.environ[\"TFM_TF_NAME\"]\n",
    "else:\n",
    "    tf_name = \"MAX\""
   ]
  },
  {
   "cell_type": "code",
   "execution_count": null,
   "metadata": {},
   "outputs": [],
   "source": [
    "out_path = \"/users/amtseng/tfmodisco/figures/motif_prevalence/motif_prevalence_%s/\" % tf_name\n",
    "os.makedirs(out_path, exist_ok=True)\n",
    "\n",
    "tf_num_tasks = {\n",
    "    \"E2F6\": 2,\n",
    "    \"FOXA2\": 4,\n",
    "    \"SPI1\": 4,\n",
    "    \"CEBPB\": 7,\n",
    "    \"MAX\": 7,\n",
    "    \"GABPA\": 9,\n",
    "    \"MAFK\": 9,\n",
    "    \"JUND\": 14,\n",
    "    \"NR3C1-reddytime\": 16,\n",
    "    \"REST\": 20\n",
    "}\n",
    "\n",
    "tf_best_model_types = {\n",
    "    \"E2F6\": list(\"MM\"),\n",
    "    \"FOXA2\": list(\"SSMM\"),\n",
    "    \"SPI1\": list(\"MSSS\"),\n",
    "    \"CEBPB\": list(\"MMMMSMM\"),\n",
    "    \"MAX\": list(\"MMSMMSS\"),\n",
    "    \"GABPA\": list(\"MMMSMMMMM\"),\n",
    "    \"MAFK\": list(\"MMMMMMMMM\"),\n",
    "    \"JUND\": list(\"SMMSMSSSSSSSMS\"),\n",
    "    \"NR3C1-reddytime\": list(\"MMMSMMSMMMMSMMMM\"),\n",
    "    \"REST\": list(\"MMMMMMMMMSMMSMMSMMMM\")\n",
    "}\n",
    "\n",
    "num_tasks = tf_num_tasks[tf_name]\n",
    "best_model_types = tf_best_model_types[tf_name]\n",
    "\n",
    "tfm_motif_file = \"/users/amtseng/tfmodisco/results/motifs/tfmodisco/%s_tfmodisco_cpmerged_motifs.h5\" % tf_name\n",
    "\n",
    "multitask_finetune_model_def_tsv = \"/users/amtseng/tfmodisco/results/model_stats/multitask_profile_finetune_stats.tsv\"\n",
    "singletask_finetune_model_def_tsv = \"/users/amtseng/tfmodisco/results/model_stats/singletask_profile_finetune_stats.tsv\""
   ]
  },
  {
   "cell_type": "markdown",
   "metadata": {},
   "source": [
    "### Helper functions"
   ]
  },
  {
   "cell_type": "code",
   "execution_count": null,
   "metadata": {},
   "outputs": [],
   "source": [
    "def get_motif_hit_paths():\n",
    "    \"\"\"\n",
    "    Returns a list of pairs, where each pair is the count and profile\n",
    "    motif hit paths for the task.\n",
    "    \"\"\"\n",
    "    # First, import the best fold definitions\n",
    "    \n",
    "    # Finetuned multi-task model\n",
    "    best_mt_fold = None\n",
    "    with open(multitask_finetune_model_def_tsv, \"r\") as f:\n",
    "        for line in f:\n",
    "            tokens = line.strip().split(\"\\t\")\n",
    "            if tokens[0] == tf_name and int(tokens[1]) == num_tasks - 1:\n",
    "                assert best_mt_fold is None\n",
    "                best_mt_fold = int(tokens[2])\n",
    "\n",
    "    # Finetuned single-task models\n",
    "    best_st_folds = []\n",
    "    with open(singletask_finetune_model_def_tsv, \"r\") as f:\n",
    "        for line in f:\n",
    "            tokens = line.strip().split(\"\\t\")\n",
    "            if tokens[0] == tf_name:\n",
    "                best_st_folds.append(int(tokens[2]))\n",
    "                \n",
    "    assert len(best_st_folds) == num_tasks\n",
    "\n",
    "    # Get paths to motif hits\n",
    "    task_motif_hit_paths = []\n",
    "    base_path = \"/users/amtseng/tfmodisco/results/reports/motif_hits/cache/tfm\"\n",
    "    for task_index, model_type in enumerate(best_model_types):\n",
    "        if model_type == \"M\":\n",
    "            path = os.path.join(\n",
    "                base_path,\n",
    "                \"multitask_profile_finetune\",\n",
    "                \"%s_multitask_profile_finetune_fold%d\" % (tf_name, best_mt_fold),\n",
    "                \"%s_multitask_profile_finetune_task%d_fold%d_{0}\" % (tf_name, task_index, best_mt_fold),\n",
    "                \"filtered_hits.tsv\"\n",
    "            )\n",
    "        else:\n",
    "            path = os.path.join(\n",
    "                base_path,\n",
    "                \"singletask_profile_finetune\",\n",
    "                \"%s_singletask_profile_finetune_fold%d\" % (tf_name, best_st_folds[task_index]),\n",
    "                \"task_%d\" % task_index,\n",
    "                \"%s_singletask_profile_finetune_task%d_fold%d_{0}\" % (tf_name, task_index, best_st_folds[task_index]),\n",
    "                \"filtered_hits.tsv\"\n",
    "            )\n",
    "        task_motif_hit_paths.append(\n",
    "            (path.format(\"count\"), path.format(\"profile\"))\n",
    "        )\n",
    "    return task_motif_hit_paths"
   ]
  },
  {
   "cell_type": "code",
   "execution_count": null,
   "metadata": {},
   "outputs": [],
   "source": [
    "def import_tfmodisco_motifs(motif_file, model_types, motif_type=\"cwm_trimmed\"):\n",
    "    \"\"\"\n",
    "    From a file containing all motifs for that TF, imports the\n",
    "    trimmed CWMs (or another kind of motif type) of the fine-tuned models\n",
    "    corresponding to the model type for each task.\n",
    "    Returns a list of dictionaries (one for each task), where\n",
    "    each dictionary maps motif key to motif.\n",
    "    \"\"\"\n",
    "    motifs = []\n",
    "    with h5py.File(motif_file, \"r\") as f:\n",
    "        mtft = f[\"multitask_finetune\"]\n",
    "        stft = f[\"singletask_finetune\"]\n",
    "        for i, model_type in enumerate(model_types):\n",
    "            task = \"task_%d\" % i\n",
    "            if model_type == \"M\":\n",
    "                dset = mtft[task]\n",
    "            else:\n",
    "                dset = stft[task]\n",
    "            task_motifs = {}\n",
    "            for motif_key in dset.keys():\n",
    "                if \"0_\" in motif_key:\n",
    "                    # Motifs that are (or are constructed from) positive metacluster only\n",
    "                    task_motifs[\"T%d:%s\" % (i, motif_key)] = dset[motif_key][motif_type][:]\n",
    "            motifs.append(task_motifs)\n",
    "    return motifs"
   ]
  },
  {
   "cell_type": "markdown",
   "metadata": {},
   "source": [
    "### Import motifs"
   ]
  },
  {
   "cell_type": "code",
   "execution_count": null,
   "metadata": {},
   "outputs": [],
   "source": [
    "tfm_cwm_motifs = import_tfmodisco_motifs(tfm_motif_file, best_model_types, \"cwm_trimmed\")\n",
    "tfm_pfm_motifs = import_tfmodisco_motifs(tfm_motif_file, best_model_types, \"pfm_trimmed\")"
   ]
  },
  {
   "cell_type": "code",
   "execution_count": null,
   "metadata": {},
   "outputs": [],
   "source": [
    "# For easier viewing/clustering, flip all motifs to purine-rich orientation\n",
    "# Note that this is not a perfect process, so automated clustering may be imperfect with\n",
    "# respect to orientation. Final aggregate motifs are done in a reverse-complement-sensitive\n",
    "# manner to fix this\n",
    "# For TF-MoDISco motifs, make sure we flip the CWM and PFM to match\n",
    "for cwm_motif_dict, pfm_motif_dict in zip(tfm_cwm_motifs, tfm_pfm_motifs):\n",
    "    for key in list(cwm_motif_dict.keys()):\n",
    "        cwm = purine_rich_motif(cwm_motif_dict[key])\n",
    "        cwm_motif_dict[key] = cwm  # Flip CWM to purine-rich orientation\n",
    "        pfm = pfm_motif_dict[key]\n",
    "        pwm = read_motifs.pfm_to_pwm(pfm)\n",
    "        \n",
    "        # Flip PFM if its PWM should be flipped to better match the CWM\n",
    "        score = motif_similarity_score(cwm, pwm, mean_normalize=False)\n",
    "        rev_score = motif_similarity_score(cwm, np.flip(pwm, axis=(0, 1)), mean_normalize=False)\n",
    "        if rev_score > score:\n",
    "            pfm_motif_dict[key] = np.flip(pfm_motif_dict[key], axis=(0, 1))"
   ]
  },
  {
   "cell_type": "markdown",
   "metadata": {},
   "source": [
    "### Extract motif prevalences\n",
    "For each motif, extract the prevalence (by task) in the peaks."
   ]
  },
  {
   "cell_type": "code",
   "execution_count": null,
   "metadata": {},
   "outputs": [],
   "source": [
    "# Import the motif hits for each task\n",
    "import_motif_hits = lambda hits_path: pd.read_csv(hits_path, sep=\"\\t\", header=0, index_col=False)\n",
    "task_motif_hit_paths = get_motif_hit_paths()\n",
    "task_motif_hits = []\n",
    "for count_path, profile_path in task_motif_hit_paths:\n",
    "    count_table = import_motif_hits(count_path)[[\"key\", \"peak_index\"]]\n",
    "    profile_table = import_motif_hits(profile_path)[[\"key\", \"peak_index\"]]\n",
    "    # We only need the key and peak index\n",
    "    task_motif_hits.append({\"C\": count_table, \"P\": profile_table})"
   ]
  },
  {
   "cell_type": "code",
   "execution_count": null,
   "metadata": {},
   "outputs": [],
   "source": [
    "def get_hit_prevalence(hit_table, motif_keys):\n",
    "    \"\"\"\n",
    "    Computes the motif prevalence from the hit table, as the number of hits\n",
    "    given to that motif.\n",
    "    \"\"\"\n",
    "    return len(hit_table[np.isin(hit_table[\"key\"], motif_keys)])"
   ]
  },
  {
   "cell_type": "code",
   "execution_count": null,
   "metadata": {},
   "outputs": [],
   "source": [
    "# Obtain set of motif prevalences\n",
    "motif_prevalences = [{} for _ in range(num_tasks)]\n",
    "for task_index, motif_dict in enumerate(tfm_cwm_motifs):\n",
    "    for key in motif_dict.keys():\n",
    "        motif_keys = {}\n",
    "        tokens = key.split(\":\")[1:]  # Remove Tx\n",
    "        # May be compound key\n",
    "        for token in tokens:\n",
    "            head, motif_key = token[0], token[1:]\n",
    "            try:\n",
    "                motif_keys[head].append(motif_key)\n",
    "            except KeyError:\n",
    "                motif_keys[head] = [motif_key]\n",
    "        \n",
    "        # Compute prevalence over the motif keys, taking the average over the count/profile heads\n",
    "        motif_prevalences[task_index][key] = np.mean([\n",
    "            get_hit_prevalence(task_motif_hits[task_index][head], motif_keys[head])\n",
    "            for head in motif_keys.keys()\n",
    "        ]) if motif_keys else 0\n",
    "    \n",
    "    # Normalize number of hits to get proportions\n",
    "    total = sum(motif_prevalences[task_index].values())\n",
    "    motif_prevalences[task_index] = {k : v / total for k, v in motif_prevalences[task_index].items()}"
   ]
  },
  {
   "cell_type": "markdown",
   "metadata": {},
   "source": [
    "### Construct the plots"
   ]
  },
  {
   "cell_type": "code",
   "execution_count": null,
   "metadata": {
    "scrolled": false
   },
   "outputs": [],
   "source": [
    "for task_index, prev_dict in enumerate(motif_prevalences):\n",
    "    fig, ax = plt.subplots(figsize=(20, 6))\n",
    "    \n",
    "    keys = sorted(list(prev_dict.keys()), key=lambda k: -prev_dict[k])\n",
    "    prevs = [prev_dict[key] for key in keys]\n",
    "    \n",
    "    ax.bar(keys, prevs)\n",
    "    ax.set_xticklabels(keys, rotation=90)\n",
    "    ax.set_ylabel(\"Proportion of motif instances\")\n",
    "    ax.set_title(\"Task %d motif prevalences\" % task_index)\n",
    "    \n",
    "    plt.savefig(\n",
    "        os.path.join(out_path, \"%s_task%d_motif_prevalences.svg\" % (tf_name, task_index)),\n",
    "        format=\"svg\"\n",
    "    )\n",
    "    plt.show()"
   ]
  },
  {
   "cell_type": "code",
   "execution_count": null,
   "metadata": {},
   "outputs": [],
   "source": [
    "# Save the prevalences\n",
    "out_hdf5 = os.path.join(out_path, \"%s_motif_prevalences.h5\" % tf_name)\n",
    "with h5py.File(out_hdf5, \"w\") as f:\n",
    "    for task_index, prev_dict in enumerate(motif_prevalences):\n",
    "        task_group = f.create_group(\"task_%d\" % task_index)\n",
    "        keys = list(prev_dict.keys())\n",
    "        task_group.create_dataset(\"motif_keys\", data=np.array(keys).astype(\"S\"))\n",
    "        task_group.create_dataset(\"motif_prevalences\", data=np.array([prev_dict[key] for key in keys]))"
   ]
  },
  {
   "cell_type": "code",
   "execution_count": null,
   "metadata": {
    "scrolled": false
   },
   "outputs": [],
   "source": [
    "# Show the motifs for each task\n",
    "for task_index, motif_dict in enumerate(tfm_cwm_motifs):\n",
    "    display(vdomh.h3(\"Task %d\" % task_index))\n",
    "    for key, cwm in motif_dict.items():\n",
    "        display(vdomh.h3(key))\n",
    "        fig = viz_sequence.plot_weights(cwm, subticks_frequency=100, return_fig=True)\n",
    "        fig.tight_layout()\n",
    "        plt.show()"
   ]
  }
 ],
 "metadata": {
  "kernelspec": {
   "display_name": "Python 3",
   "language": "python",
   "name": "python3"
  },
  "language_info": {
   "codemirror_mode": {
    "name": "ipython",
    "version": 3
   },
   "file_extension": ".py",
   "mimetype": "text/x-python",
   "name": "python",
   "nbconvert_exporter": "python",
   "pygments_lexer": "ipython3",
   "version": "3.7.11"
  }
 },
 "nbformat": 4,
 "nbformat_minor": 4
}
