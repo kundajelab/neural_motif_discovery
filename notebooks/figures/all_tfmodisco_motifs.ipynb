{
 "cells": [
  {
   "cell_type": "code",
   "execution_count": null,
   "metadata": {},
   "outputs": [],
   "source": [
    "import os\n",
    "import sys\n",
    "sys.path.append(os.path.abspath(\"/users/amtseng/tfmodisco/notebooks/reports/\"))\n",
    "sys.path.append(os.path.abspath(\"/users/amtseng/tfmodisco/src/\"))\n",
    "import plot.viz_sequence as viz_sequence\n",
    "import motif.read_motifs as read_motifs\n",
    "import h5py\n",
    "import numpy as np\n",
    "import matplotlib.pyplot as plt\n",
    "import matplotlib.font_manager as font_manager"
   ]
  },
  {
   "cell_type": "code",
   "execution_count": null,
   "metadata": {},
   "outputs": [],
   "source": [
    "# Plotting defaults\n",
    "font_manager.fontManager.ttflist.extend(\n",
    "    font_manager.createFontList(\n",
    "        font_manager.findSystemFonts(fontpaths=\"/users/amtseng/modules/fonts\")\n",
    "    )\n",
    ")\n",
    "plot_params = {\n",
    "    \"figure.titlesize\": 22,\n",
    "    \"axes.titlesize\": 22,\n",
    "    \"axes.labelsize\": 20,\n",
    "    \"legend.fontsize\": 18,\n",
    "    \"xtick.labelsize\": 16,\n",
    "    \"ytick.labelsize\": 16,\n",
    "    \"font.family\": \"Roboto\",\n",
    "    \"font.weight\": \"bold\",\n",
    "    \"svg.fonttype\": \"none\"\n",
    "}\n",
    "plt.rcParams.update(plot_params)"
   ]
  },
  {
   "cell_type": "code",
   "execution_count": null,
   "metadata": {},
   "outputs": [],
   "source": [
    "if \"TFM_TF_NAME\" in os.environ:\n",
    "    tf_name = os.environ[\"TFM_TF_NAME\"]\n",
    "else:\n",
    "    tf_name = \"E2F6\""
   ]
  },
  {
   "cell_type": "code",
   "execution_count": null,
   "metadata": {},
   "outputs": [],
   "source": [
    "out_path = \"/users/amtseng/tfmodisco/figures/all_tfmodisco_motifs/%s_all_tfmodisco_motifs\" % tf_name\n",
    "os.makedirs(out_path, exist_ok=True)\n",
    "\n",
    "tf_num_tasks = {\n",
    "    \"E2F6\": 2,\n",
    "    \"FOXA2\": 4,\n",
    "    \"SPI1\": 4,\n",
    "    \"CEBPB\": 7,\n",
    "    \"MAX\": 7,\n",
    "    \"GABPA\": 9,\n",
    "    \"MAFK\": 9,\n",
    "    \"JUND\": 14,\n",
    "    \"NR3C1-reddytime\": 16,\n",
    "    \"REST\": 20\n",
    "}\n",
    "\n",
    "tf_best_model_types = {\n",
    "    \"E2F6\": list(\"MM\"),\n",
    "    \"FOXA2\": list(\"SSMM\"),\n",
    "    \"SPI1\": list(\"MSSS\"),\n",
    "    \"CEBPB\": list(\"MMMMSMM\"),\n",
    "    \"MAX\": list(\"MMSMMSS\"),\n",
    "    \"GABPA\": list(\"MMMSMMMMM\"),\n",
    "    \"MAFK\": list(\"MMMMMMMMM\"),\n",
    "    \"JUND\": list(\"SMMSMSSSSSSSMS\"),\n",
    "    \"NR3C1-reddytime\": list(\"MMMSMMSMMMMSMMMM\"),\n",
    "    \"REST\": list(\"MMMMMMMMMSMMSMMSMMMM\")\n",
    "}\n",
    "\n",
    "num_tasks = tf_num_tasks[tf_name]\n",
    "best_model_types = tf_best_model_types[tf_name]\n",
    "\n",
    "tfm_motif_file = \"/users/amtseng/tfmodisco/results/motifs/tfmodisco/%s_tfmodisco_cpmerged_motifs.h5\" % tf_name"
   ]
  },
  {
   "cell_type": "markdown",
   "metadata": {},
   "source": [
    "### Helper functions"
   ]
  },
  {
   "cell_type": "code",
   "execution_count": null,
   "metadata": {},
   "outputs": [],
   "source": [
    "def renorm_motif(motif, pseudocount=1e-10):\n",
    "    \"\"\"\n",
    "    Renormalizes a motif (L x 4 array) so that the bases sum to 1.\n",
    "    \"\"\"\n",
    "    s = np.sum(motif, axis=1, keepdims=True)\n",
    "    assert np.all(s > 0)\n",
    "    return motif / s"
   ]
  },
  {
   "cell_type": "code",
   "execution_count": null,
   "metadata": {},
   "outputs": [],
   "source": [
    "def import_tfmodisco_motifs(motif_file, model_types):\n",
    "    \"\"\"\n",
    "    From a file containing all motifs for that TF, imports the\n",
    "    trimmed PFMs, CWMs, and hCWMs of the fine-tuned models\n",
    "    corresponding to the model type for each task.\n",
    "    Returns a list of dictionaries (one for each task), where\n",
    "    each dictionary maps motif key to tuple of PFM, CWM, and hCWM.\n",
    "    \"\"\"\n",
    "    motifs = []\n",
    "    with h5py.File(motif_file, \"r\") as f:\n",
    "        mtft = f[\"multitask_finetune\"]\n",
    "        stft = f[\"singletask_finetune\"]\n",
    "        for i, model_type in enumerate(model_types):\n",
    "            task = \"task_%d\" % i\n",
    "            if model_type == \"M\":\n",
    "                dset = mtft[task]\n",
    "            else:\n",
    "                dset = stft[task]\n",
    "            task_motifs = {}\n",
    "            for motif_key in dset.keys():\n",
    "                pfm, cwm, hcwm = \\\n",
    "                    dset[motif_key][\"pfm_trimmed\"][:], dset[motif_key][\"cwm_trimmed\"][:], dset[motif_key][\"hcwm_trimmed\"][:]\n",
    "\n",
    "                pfm = renorm_motif(pfm) \n",
    "                if np.sum(cwm[:, [0, 2]]) < 0.5 * np.sum(cwm):\n",
    "                    pfm, cwm, hcwm = np.flip(pfm), np.flip(cwm), np.flip(hcwm)\n",
    "\n",
    "                task_motifs[\"T%d:%s\" % (i, motif_key)] = (pfm, cwm, hcwm)\n",
    "            motifs.append(task_motifs)\n",
    "    return motifs"
   ]
  },
  {
   "cell_type": "markdown",
   "metadata": {},
   "source": [
    "### Import and save motifs"
   ]
  },
  {
   "cell_type": "code",
   "execution_count": null,
   "metadata": {},
   "outputs": [],
   "source": [
    "tfm_motifs = import_tfmodisco_motifs(tfm_motif_file, best_model_types)"
   ]
  },
  {
   "cell_type": "code",
   "execution_count": null,
   "metadata": {},
   "outputs": [],
   "source": [
    "for task_index, task_motif_dict in enumerate(tfm_motifs):\n",
    "    for key, (pfm, cwm, hcwm) in task_motif_dict.items():\n",
    "        fig = viz_sequence.plot_weights(\n",
    "            read_motifs.pfm_to_pwm(pfm),\n",
    "            subticks_frequency=100, figsize=(20, 4), return_fig=True\n",
    "        )\n",
    "        fig.tight_layout()\n",
    "        plt.savefig(\n",
    "            os.path.join(out_path, \"%s_task%d_%s_pwm.svg\" % (tf_name, task_index, key)),\n",
    "            format=\"svg\"\n",
    "        )\n",
    "        \n",
    "        fig = viz_sequence.plot_weights(\n",
    "            cwm, subticks_frequency=100, figsize=(20, 4), return_fig=True\n",
    "        )\n",
    "        fig.tight_layout()\n",
    "        plt.savefig(\n",
    "            os.path.join(out_path, \"%s_task%d_%s_cwm.svg\" % (tf_name, task_index, key)),\n",
    "            format=\"svg\"\n",
    "        )\n",
    "        \n",
    "        fig = viz_sequence.plot_weights(\n",
    "            hcwm, subticks_frequency=100, figsize=(20, 4), return_fig=True\n",
    "        )\n",
    "        fig.tight_layout()\n",
    "        plt.savefig(\n",
    "            os.path.join(out_path, \"%s_task%d_%s_hcwm.svg\" % (tf_name, task_index, key)),\n",
    "            format=\"svg\"\n",
    "        )\n",
    "        \n",
    "        plt.close(\"all\")"
   ]
  }
 ],
 "metadata": {
  "kernelspec": {
   "display_name": "Python 3",
   "language": "python",
   "name": "python3"
  },
  "language_info": {
   "codemirror_mode": {
    "name": "ipython",
    "version": 3
   },
   "file_extension": ".py",
   "mimetype": "text/x-python",
   "name": "python",
   "nbconvert_exporter": "python",
   "pygments_lexer": "ipython3",
   "version": "3.7.11"
  }
 },
 "nbformat": 4,
 "nbformat_minor": 4
}
