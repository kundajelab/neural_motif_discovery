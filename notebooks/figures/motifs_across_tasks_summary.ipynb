{
 "cells": [
  {
   "cell_type": "code",
   "execution_count": null,
   "metadata": {},
   "outputs": [],
   "source": [
    "import os\n",
    "import h5py\n",
    "import numpy as np\n",
    "import matplotlib.pyplot as plt\n",
    "import matplotlib.font_manager as font_manager"
   ]
  },
  {
   "cell_type": "code",
   "execution_count": null,
   "metadata": {},
   "outputs": [],
   "source": [
    "# Plotting defaults\n",
    "font_manager.fontManager.ttflist.extend(\n",
    "    font_manager.createFontList(\n",
    "        font_manager.findSystemFonts(fontpaths=\"/users/amtseng/modules/fonts\")\n",
    "    )\n",
    ")\n",
    "plot_params = {\n",
    "    \"figure.titlesize\": 22,\n",
    "    \"axes.titlesize\": 16,\n",
    "    \"axes.labelsize\": 16,\n",
    "    \"legend.fontsize\": 18,\n",
    "    \"xtick.labelsize\": 8,\n",
    "    \"ytick.labelsize\": 8,\n",
    "    \"font.family\": \"Roboto\",\n",
    "    \"font.weight\": \"bold\",\n",
    "    \"svg.fonttype\": \"none\"\n",
    "}\n",
    "plt.rcParams.update(plot_params)"
   ]
  },
  {
   "cell_type": "code",
   "execution_count": null,
   "metadata": {},
   "outputs": [],
   "source": [
    "out_path = \"/users/amtseng/tfmodisco/figures/motifs_across_tasks_summary\"\n",
    "os.makedirs(out_path, exist_ok=True)\n",
    "\n",
    "sim_hdf5s_base = \"/users/amtseng/tfmodisco/figures/motifs_across_tasks\"\n",
    "\n",
    "sim_hdf5_paths = []  # (TF name, path)\n",
    "for subdir in os.listdir(sim_hdf5s_base):\n",
    "    if not os.path.isdir(os.path.join(sim_hdf5s_base, subdir)):\n",
    "        continue\n",
    "    h5_name = [item for item in os.listdir(os.path.join(sim_hdf5s_base, subdir)) if item.endswith(\".h5\")][0]\n",
    "    tf_name = subdir.split(\"_\")[0]\n",
    "    sim_hdf5_paths.append(\n",
    "        (tf_name, os.path.join(sim_hdf5s_base, subdir, h5_name))\n",
    "    )"
   ]
  },
  {
   "cell_type": "markdown",
   "metadata": {},
   "source": [
    "### Helper functions"
   ]
  },
  {
   "cell_type": "code",
   "execution_count": null,
   "metadata": {},
   "outputs": [],
   "source": [
    "def get_bench_sims(sim_hdf5_path, bench_type, only_with_database_match=False):\n",
    "    \"\"\"\n",
    "    Imports the full set of closest similarities of a benchmark to the\n",
    "    TF-MoDISco motifs, for the given benchmark type, across all cell types.\n",
    "    If a TF-MoDISco motif was not found in a cell type, that benchmark\n",
    "    similarity is not included.\n",
    "    If `only_with_database_match` is True, also limit to TF-MoDISco motifs\n",
    "    that had a JASPAR match.\n",
    "    \"\"\"\n",
    "    with h5py.File(sim_hdf5_path, \"r\") as f:\n",
    "        sims = f[\"%s_best_sims\" % bench_type][:]\n",
    "        \n",
    "        prevalences = f[\"agg_motif_prevalences\"][:]\n",
    "        prev_mask = prevalences > 0\n",
    "        \n",
    "        db_mask = np.ones(sims.shape).astype(bool)\n",
    "        if only_with_database_match:\n",
    "            db_matches = f[\"database_matches\"][:].astype(str)\n",
    "            db_mask[db_matches == \"N/A\"] = False\n",
    "        \n",
    "        \n",
    "        return np.ravel(sims)[np.ravel(prev_mask & db_mask)]"
   ]
  },
  {
   "cell_type": "code",
   "execution_count": null,
   "metadata": {},
   "outputs": [],
   "source": [
    "def make_cdf(ax, data, steps=1000, density=False, inverse=False, **kwargs):\n",
    "    \"\"\"\n",
    "    Plots a CDF to the given axes. `steps` is the number of steps in the\n",
    "    CDF. If `inverse` is True, plots an inverse CDF (AKA survivorship plot).\n",
    "    `density` is whether or not to normalize to fractions.\n",
    "    \"\"\"\n",
    "    hist, bin_edges = np.histogram(data, bins=steps)\n",
    "    if inverse:\n",
    "        cumsum = len(data) - np.cumsum(hist)\n",
    "    else:\n",
    "        cumsum = np.cumsum(hist)\n",
    "    if density:\n",
    "        cumsum = cumsum / len(data)\n",
    "    bin_centers = (bin_edges[:-1] + bin_edges[1:]) / 2.\n",
    "    ax.step(bin_centers, cumsum, **kwargs)"
   ]
  },
  {
   "cell_type": "markdown",
   "metadata": {},
   "source": [
    "### Import and plot reproducibility values"
   ]
  },
  {
   "cell_type": "code",
   "execution_count": null,
   "metadata": {},
   "outputs": [],
   "source": [
    "memechip_sims = np.concatenate([\n",
    "    get_bench_sims(pair[1], \"memechip\") for pair in sim_hdf5_paths\n",
    "])\n",
    "homer_sims = np.concatenate([\n",
    "    get_bench_sims(pair[1], \"homer\") for pair in sim_hdf5_paths\n",
    "])\n",
    "dichipmunk_sims = np.concatenate([\n",
    "    get_bench_sims(pair[1], \"dichipmunk\") for pair in sim_hdf5_paths\n",
    "])"
   ]
  },
  {
   "cell_type": "code",
   "execution_count": null,
   "metadata": {
    "scrolled": false
   },
   "outputs": [],
   "source": [
    "fig, ax = plt.subplots(ncols=2, figsize=(20, 8))\n",
    "bins = np.linspace(0, 1, 30)\n",
    "\n",
    "for i, (bench_name, bench_sims) in enumerate([\n",
    "    (\"MEME\", memechip_sims), (\"HOMER\", homer_sims), (\"DiChIPMunk\", dichipmunk_sims)\n",
    "]):\n",
    "    ax[0].hist(bench_sims, bins=bins, density=True, alpha=0.3, histtype=\"step\", label=bench_name)\n",
    "\n",
    "    cdf_hist, cdf_bins = np.histogram(bench_sims, bins=bins)\n",
    "    cdf_cumsum = np.cumsum(cdf_hist) / len(bench_sims)\n",
    "    bin_centers = (cdf_bins[:-1] + cdf_bins[1:]) / 2.\n",
    "    ax[1].step(bin_centers, cdf_cumsum, label=bench_name)\n",
    "\n",
    "ax[0].set_title(\"Histogram of best motif similarity to TF-MoDISco motif\")\n",
    "ax[1].set_title(\"Cumulative distribution of best similarity to TF-MoDISco motif\")\n",
    "ax[0].set_ylabel(\"Proportion of motifs\")\n",
    "ax[1].set_ylabel(\"Proportion of motifs with similarity at least s\")\n",
    "\n",
    "ax[0].set_xlabel(\"Cosine similarity\")\n",
    "ax[1].set_xlabel(\"Cosine similarity s\")\n",
    "\n",
    "ax[0].legend()\n",
    "ax[1].legend()\n",
    "\n",
    "plt.savefig(\n",
    "    os.path.join(out_path, \"motifs_across_tasks_benchmark_similarities.svg\"),\n",
    "    format=\"svg\"\n",
    ")\n",
    "plt.show()"
   ]
  },
  {
   "cell_type": "code",
   "execution_count": null,
   "metadata": {},
   "outputs": [],
   "source": [
    "memechip_sims_with_db = np.concatenate([\n",
    "    get_bench_sims(pair[1], \"memechip\", True) for pair in sim_hdf5_paths\n",
    "])\n",
    "homer_sims_with_db = np.concatenate([\n",
    "    get_bench_sims(pair[1], \"homer\", True) for pair in sim_hdf5_paths\n",
    "])\n",
    "dichipmunk_sims_with_db = np.concatenate([\n",
    "    get_bench_sims(pair[1], \"dichipmunk\", True) for pair in sim_hdf5_paths\n",
    "])"
   ]
  },
  {
   "cell_type": "code",
   "execution_count": null,
   "metadata": {},
   "outputs": [],
   "source": [
    "fig, ax = plt.subplots(ncols=2, figsize=(20, 8))\n",
    "bins = np.linspace(0, 1, 30)\n",
    "\n",
    "for i, (bench_name, bench_sims) in enumerate([\n",
    "    (\"MEME\", memechip_sims_with_db), (\"HOMER\", homer_sims_with_db), (\"DiChIPMunk\", dichipmunk_sims_with_db)\n",
    "]):\n",
    "    ax[0].hist(bench_sims, bins=bins, alpha=0.3, histtype=\"step\", density=True, label=bench_name)\n",
    "\n",
    "    cdf_hist, cdf_bins = np.histogram(bench_sims, bins=bins)\n",
    "    cdf_cumsum = np.cumsum(cdf_hist) / len(bench_sims)\n",
    "    bin_centers = (cdf_bins[:-1] + cdf_bins[1:]) / 2.\n",
    "    ax[1].step(bin_centers, cdf_cumsum, label=bench_name)\n",
    "\n",
    "ax[0].set_title(\"Histogram of best motif similarity to TF-MoDISco motif\")\n",
    "ax[1].set_title(\"Cumulative distribution of best similarity to TF-MoDISco motif\")\n",
    "ax[0].set_ylabel(\"Proportion of motifs\")\n",
    "ax[1].set_ylabel(\"Proportion of motifs with similarity at least s\")\n",
    "\n",
    "ax[0].set_xlabel(\"Cosine similarity\")\n",
    "ax[1].set_xlabel(\"Cosine similarity s\")\n",
    "\n",
    "ax[0].legend()\n",
    "ax[1].legend()\n",
    "\n",
    "plt.savefig(\n",
    "    os.path.join(out_path, \"motifs_across_tasks_benchmark_similarities_with_db.svg\"),\n",
    "    format=\"svg\"\n",
    ")\n",
    "plt.show()"
   ]
  }
 ],
 "metadata": {
  "kernelspec": {
   "display_name": "Python 3",
   "language": "python",
   "name": "python3"
  },
  "language_info": {
   "codemirror_mode": {
    "name": "ipython",
    "version": 3
   },
   "file_extension": ".py",
   "mimetype": "text/x-python",
   "name": "python",
   "nbconvert_exporter": "python",
   "pygments_lexer": "ipython3",
   "version": "3.7.11"
  }
 },
 "nbformat": 4,
 "nbformat_minor": 4
}
