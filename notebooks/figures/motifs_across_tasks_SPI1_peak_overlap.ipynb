{
 "cells": [
  {
   "cell_type": "code",
   "execution_count": null,
   "metadata": {},
   "outputs": [],
   "source": [
    "import os\n",
    "import numpy as np\n",
    "import matplotlib.pyplot as plt\n",
    "import matplotlib.font_manager as font_manager"
   ]
  },
  {
   "cell_type": "code",
   "execution_count": null,
   "metadata": {},
   "outputs": [],
   "source": [
    "# Plotting defaults\n",
    "font_manager.fontManager.ttflist.extend(\n",
    "    font_manager.createFontList(\n",
    "        font_manager.findSystemFonts(fontpaths=\"/users/amtseng/modules/fonts\")\n",
    "    )\n",
    ")\n",
    "plot_params = {\n",
    "    \"figure.titlesize\": 22,\n",
    "    \"axes.titlesize\": 16,\n",
    "    \"axes.labelsize\": 16,\n",
    "    \"legend.fontsize\": 18,\n",
    "    \"xtick.labelsize\": 8,\n",
    "    \"ytick.labelsize\": 8,\n",
    "    \"font.family\": \"Roboto\",\n",
    "    \"font.weight\": \"bold\",\n",
    "    \"svg.fonttype\": \"none\"\n",
    "}\n",
    "plt.rcParams.update(plot_params)"
   ]
  },
  {
   "cell_type": "code",
   "execution_count": null,
   "metadata": {},
   "outputs": [],
   "source": [
    "out_path = \"/users/amtseng/tfmodisco/figures/motifs_across_tasks_SPI1_peak_overlap\"\n",
    "os.makedirs(out_path, exist_ok=True)\n",
    "\n",
    "overlaps_path = \"/users/amtseng/tfmodisco/results/misc_results/SPI1_cofactor_peak_overlaps/overlaps.tsv\""
   ]
  },
  {
   "cell_type": "markdown",
   "metadata": {},
   "source": [
    "### Helper functions"
   ]
  },
  {
   "cell_type": "code",
   "execution_count": null,
   "metadata": {},
   "outputs": [],
   "source": [
    "def get_overlaps(overlaps_path):\n",
    "    \"\"\"\n",
    "    Imports the set of peak overlaps as a list of tuples:\n",
    "        (TF name, cell line, number of overlaps, overall peaks)\n",
    "    \"\"\"\n",
    "    overlaps = []\n",
    "    with open(overlaps_path, \"r\") as f:\n",
    "        for line in f:\n",
    "            tokens = line.split(\"\\t\")\n",
    "            overlaps.append((\n",
    "                tokens[0], tokens[1], int(tokens[2]), int(tokens[3])\n",
    "            ))\n",
    "    return overlaps"
   ]
  },
  {
   "cell_type": "markdown",
   "metadata": {},
   "source": [
    "### Import and plot overlap values"
   ]
  },
  {
   "cell_type": "code",
   "execution_count": null,
   "metadata": {},
   "outputs": [],
   "source": [
    "overlaps = get_overlaps(overlaps_path)"
   ]
  },
  {
   "cell_type": "code",
   "execution_count": null,
   "metadata": {},
   "outputs": [],
   "source": [
    "fig, ax = plt.subplots(figsize=(8, 8))\n",
    "\n",
    "heights = [tup[2] / tup[3] for tup in overlaps]\n",
    "labels = [\"%s in %s\" % (tup[0], tup[1]) for tup in overlaps]\n",
    "\n",
    "inds = np.flip(np.argsort(heights))\n",
    "heights = np.array(heights)[inds]\n",
    "labels = [labels[i] for i in inds]\n",
    "\n",
    "ax.bar(np.arange(len(heights)), heights)\n",
    "\n",
    "ax.set_title(\"Proportion of peaks cofactor peaks that overlie SPI1 peaks\")\n",
    "ax.set_xticks(np.arange(len(labels)))\n",
    "ax.set_xticklabels(labels, rotation=45)\n",
    "ax.set_ylabel(\"Proportion of peaks\")\n",
    "\n",
    "plt.savefig(\n",
    "    os.path.join(out_path, \"motifs_across_tasks_SPI1_peak_overlaps.svg\"),\n",
    "    format=\"svg\"\n",
    ")\n",
    "plt.show()"
   ]
  }
 ],
 "metadata": {
  "kernelspec": {
   "display_name": "Python 3",
   "language": "python",
   "name": "python3"
  },
  "language_info": {
   "codemirror_mode": {
    "name": "ipython",
    "version": 3
   },
   "file_extension": ".py",
   "mimetype": "text/x-python",
   "name": "python",
   "nbconvert_exporter": "python",
   "pygments_lexer": "ipython3",
   "version": "3.7.11"
  }
 },
 "nbformat": 4,
 "nbformat_minor": 4
}
